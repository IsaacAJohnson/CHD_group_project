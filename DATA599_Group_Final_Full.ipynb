{
 "cells": [
  {
   "cell_type": "markdown",
   "id": "a93b2542",
   "metadata": {},
   "source": [
    "# DATA599-02:Python for Data Science - Final Project (Collaborative tasks)\n",
    "\n",
    "## Members:\n",
    "- Hans Lehndorff\n",
    "- Isaac Johnson\n",
    "- Jesse DeBolt\n",
    "***"
   ]
  },
  {
   "cell_type": "markdown",
   "id": "295d9d44",
   "metadata": {},
   "source": [
    "# **Introduction**"
   ]
  },
  {
   "cell_type": "markdown",
   "id": "10efe186",
   "metadata": {},
   "source": [
    "Coronary Heart Disease (CHD) is a significant health issue affecting millions of people worldwide. This project aims to predict the prevalence of CHD in different counties across the United States, focusing on potential health inequities in access to care between urban and rural areas. The hypothesis is that rural areas have worse health outcomes due to various factors, including limited access to healthcare facilities and resources."
   ]
  },
  {
   "cell_type": "markdown",
   "id": "0fa1a46d",
   "metadata": {},
   "source": [
    "# **Research Questions**"
   ]
  },
  {
   "cell_type": "markdown",
   "id": "e28532f5",
   "metadata": {},
   "source": [
    "1. What is the prevalence of CHD in different counties, and how does it vary between urban and rural areas?\n",
    "2. What are the key health and social environment variables that influence the prevalence of CHD?\n",
    "3. How do these variables interact, and what is their relative importance in predicting CHD prevalence?"
   ]
  },
  {
   "cell_type": "markdown",
   "id": "d4e193b3",
   "metadata": {},
   "source": [
    "# **Data Sources**"
   ]
  },
  {
   "cell_type": "markdown",
   "id": "fd2dcf19",
   "metadata": {},
   "source": [
    "The primary dataset for this project is sourced from the Centers for Disease Control and Prevention (CDC) [Interactive Atlas of Heart Disease and Stroke](https://nccd.cdc.gov/DHDSPAtlas/?state=County). This dataset is a culmination of several datasets, providing a comprehensive view of various health and social environment variables at the county level. These variables include demographic factors, health indicators, healthcare access, and social and economic factors. More details about the data sources can be found [here](https://www.cdc.gov/dhdsp/maps/atlas/data-sources.html#dataControls).\n",
    "***"
   ]
  },
  {
   "cell_type": "markdown",
   "id": "e4ac0770",
   "metadata": {},
   "source": [
    "# **Methodology**"
   ]
  },
  {
   "cell_type": "markdown",
   "id": "3c6690d7",
   "metadata": {},
   "source": [
    "The project will employ various machine learning techniques using Python, including Random Forest, Principal Component Analysis (PCA), Radial Basis Function (RBF), and K-Nearest Neighbors (KNN). The Python libraries to be used include scikit-learn for machine learning, pandas for data manipulation, numpy for numerical computations, and matplotlib and seaborn for data visualization.  \n",
    "\n",
    "The project will start with data cleaning and preprocessing, followed by exploratory data analysis to understand the data's characteristics. The machine learning models will be trained and tested using the processed data, with the aim of predicting the prevalence of CHD in different counties. The models' performance will be evaluated using appropriate metrics, and the results will be interpreted to answer the research questions."
   ]
  },
  {
   "cell_type": "markdown",
   "id": "afad3d06",
   "metadata": {},
   "source": [
    "# **Expected Outcomes** "
   ]
  },
  {
   "cell_type": "markdown",
   "id": "54b3227a",
   "metadata": {},
   "source": [
    "The project is expected to provide insights into the prevalence of CHD in different counties and the factors influencing it. It will also shed light on potential health inequities between urban and rural areas, contributing to the broader discourse on health disparities and access to care. The findings could inform policy-making and interventions aimed at reducing CHD prevalence and improving health outcomes, particularly in underserved areas."
   ]
  },
  {
   "cell_type": "markdown",
   "id": "62ea24e9",
   "metadata": {},
   "source": [
    "# Setup"
   ]
  },
  {
   "cell_type": "markdown",
   "id": "da4e0734",
   "metadata": {},
   "source": [
    "## Import needed libraries"
   ]
  },
  {
   "cell_type": "code",
   "execution_count": 1,
   "id": "3334ff6d",
   "metadata": {},
   "outputs": [],
   "source": [
    "import pandas as pd\n",
    "import numpy as np\n",
    "import matplotlib.pyplot as plt\n",
    "import seaborn as sns\n",
    "import warnings\n",
    "\n",
    "warnings.filterwarnings('ignore')\n"
   ]
  },
  {
   "cell_type": "markdown",
   "id": "8af75339",
   "metadata": {},
   "source": [
    "### Set working directory (if needed)"
   ]
  },
  {
   "cell_type": "code",
   "execution_count": 2,
   "id": "7bf58a33",
   "metadata": {},
   "outputs": [],
   "source": [
    "# Set working directory (modify as needed)\n",
    "%cd -q \"C:\\Users\\jesse\\Documents\\Schooling\\Willamette-MSDS\\1-DATA599-02_Python\\Final\\CHD_group_project\"\n",
    "#%cd -q \"/Users/isaacjohnson/Documents/Scanner Output/School/Willamette/Python/Final Project/CHD_group_project\""
   ]
  },
  {
   "cell_type": "markdown",
   "id": "af2acaa3",
   "metadata": {},
   "source": [
    "### Importing data"
   ]
  },
  {
   "cell_type": "code",
   "execution_count": 3,
   "id": "8e77693b",
   "metadata": {},
   "outputs": [],
   "source": [
    "# Import the dataset\n",
    "cdc = pd.read_csv('data/CDC_for_python.csv')\n",
    "cdc = cdc.loc[cdc.CHD > 0]"
   ]
  },
  {
   "cell_type": "markdown",
   "id": "81cd964e",
   "metadata": {},
   "source": [
    "### View data structure"
   ]
  },
  {
   "cell_type": "code",
   "execution_count": 4,
   "id": "6ec60bfe",
   "metadata": {},
   "outputs": [
    {
     "data": {
      "text/plain": [
       "(3141, 59)"
      ]
     },
     "execution_count": 4,
     "metadata": {},
     "output_type": "execute_result"
    }
   ],
   "source": [
    "# View number of rows and columns\n",
    "cdc.shape"
   ]
  },
  {
   "cell_type": "markdown",
   "id": "ca24cac8",
   "metadata": {},
   "source": [
    "***"
   ]
  },
  {
   "cell_type": "markdown",
   "id": "ce64d22f",
   "metadata": {},
   "source": [
    "# Data cleaning"
   ]
  },
  {
   "cell_type": "markdown",
   "id": "c5db6163",
   "metadata": {},
   "source": [
    "## Removing US territories "
   ]
  },
  {
   "cell_type": "code",
   "execution_count": 5,
   "id": "c467da76",
   "metadata": {},
   "outputs": [],
   "source": [
    "cdc = cdc[~cdc['display_name'].str.contains(r'\\(AS\\)|\\(GU\\)|\\(MP\\)|\\(PR\\)|\\(County Equivalent\\)')]"
   ]
  },
  {
   "cell_type": "markdown",
   "id": "96aa4e4f",
   "metadata": {},
   "source": [
    "### View data structure"
   ]
  },
  {
   "cell_type": "code",
   "execution_count": 6,
   "id": "2bdf5f67",
   "metadata": {},
   "outputs": [
    {
     "data": {
      "text/plain": [
       "(3141, 59)"
      ]
     },
     "execution_count": 6,
     "metadata": {},
     "output_type": "execute_result"
    }
   ],
   "source": [
    "# View number of rows to confirm removal\n",
    "cdc.shape"
   ]
  },
  {
   "cell_type": "markdown",
   "id": "9127414e",
   "metadata": {},
   "source": [
    "## Separate county and state"
   ]
  },
  {
   "cell_type": "code",
   "execution_count": 7,
   "id": "6b653597",
   "metadata": {},
   "outputs": [],
   "source": [
    "# Separate the 'display_name' column\n",
    "cdc[['county', 'state']] = cdc['display_name'].str.extract(r'\\\"(.+), \\((.+)\\)\\\"', expand=True)\n",
    "\n",
    "# Remove the original column\n",
    "cdc = cdc.drop(['display_name'], axis=1)"
   ]
  },
  {
   "cell_type": "code",
   "execution_count": 8,
   "id": "027dc450",
   "metadata": {},
   "outputs": [
    {
     "data": {
      "text/html": [
       "<div>\n",
       "<style scoped>\n",
       "    .dataframe tbody tr th:only-of-type {\n",
       "        vertical-align: middle;\n",
       "    }\n",
       "\n",
       "    .dataframe tbody tr th {\n",
       "        vertical-align: top;\n",
       "    }\n",
       "\n",
       "    .dataframe thead th {\n",
       "        text-align: right;\n",
       "    }\n",
       "</style>\n",
       "<table border=\"1\" class=\"dataframe\">\n",
       "  <thead>\n",
       "    <tr style=\"text-align: right;\">\n",
       "      <th></th>\n",
       "      <th>fips</th>\n",
       "      <th>Age65Plus</th>\n",
       "      <th>AIAN</th>\n",
       "      <th>AIANmen</th>\n",
       "      <th>AIANwomen</th>\n",
       "      <th>ANHPI</th>\n",
       "      <th>ANHPImen</th>\n",
       "      <th>ANHPIwomen</th>\n",
       "      <th>Black</th>\n",
       "      <th>BlackMen</th>\n",
       "      <th>...</th>\n",
       "      <th>Broadband</th>\n",
       "      <th>EdLessColl</th>\n",
       "      <th>SNAPrecipients</th>\n",
       "      <th>MedHomeValue</th>\n",
       "      <th>MedHouseIncome</th>\n",
       "      <th>Poverty</th>\n",
       "      <th>Unemploy</th>\n",
       "      <th>UrbanRural</th>\n",
       "      <th>county</th>\n",
       "      <th>state</th>\n",
       "    </tr>\n",
       "  </thead>\n",
       "  <tbody>\n",
       "    <tr>\n",
       "      <th>0</th>\n",
       "      <td>2013</td>\n",
       "      <td>11.2</td>\n",
       "      <td>1090</td>\n",
       "      <td>607</td>\n",
       "      <td>483</td>\n",
       "      <td>798</td>\n",
       "      <td>373</td>\n",
       "      <td>425</td>\n",
       "      <td>129</td>\n",
       "      <td>119</td>\n",
       "      <td>...</td>\n",
       "      <td>42.1</td>\n",
       "      <td>83.4</td>\n",
       "      <td>2.6</td>\n",
       "      <td>137000</td>\n",
       "      <td>79000</td>\n",
       "      <td>15.1</td>\n",
       "      <td>2.3</td>\n",
       "      <td>4</td>\n",
       "      <td>Aleutians East</td>\n",
       "      <td>AK</td>\n",
       "    </tr>\n",
       "    <tr>\n",
       "      <th>1</th>\n",
       "      <td>2016</td>\n",
       "      <td>7.5</td>\n",
       "      <td>465</td>\n",
       "      <td>249</td>\n",
       "      <td>216</td>\n",
       "      <td>2169</td>\n",
       "      <td>1351</td>\n",
       "      <td>818</td>\n",
       "      <td>167</td>\n",
       "      <td>147</td>\n",
       "      <td>...</td>\n",
       "      <td>21.0</td>\n",
       "      <td>83.0</td>\n",
       "      <td>1.4</td>\n",
       "      <td>317000</td>\n",
       "      <td>92000</td>\n",
       "      <td>8.1</td>\n",
       "      <td>3.6</td>\n",
       "      <td>4</td>\n",
       "      <td>Aleutians West</td>\n",
       "      <td>AK</td>\n",
       "    </tr>\n",
       "    <tr>\n",
       "      <th>2</th>\n",
       "      <td>2020</td>\n",
       "      <td>11.1</td>\n",
       "      <td>15672</td>\n",
       "      <td>6555</td>\n",
       "      <td>9117</td>\n",
       "      <td>26122</td>\n",
       "      <td>11599</td>\n",
       "      <td>14523</td>\n",
       "      <td>11790</td>\n",
       "      <td>6228</td>\n",
       "      <td>...</td>\n",
       "      <td>8.0</td>\n",
       "      <td>63.4</td>\n",
       "      <td>9.7</td>\n",
       "      <td>320000</td>\n",
       "      <td>85000</td>\n",
       "      <td>8.3</td>\n",
       "      <td>5.8</td>\n",
       "      <td>3</td>\n",
       "      <td>Anchorage</td>\n",
       "      <td>AK</td>\n",
       "    </tr>\n",
       "    <tr>\n",
       "      <th>3</th>\n",
       "      <td>2050</td>\n",
       "      <td>7.4</td>\n",
       "      <td>9390</td>\n",
       "      <td>4848</td>\n",
       "      <td>4542</td>\n",
       "      <td>221</td>\n",
       "      <td>95</td>\n",
       "      <td>126</td>\n",
       "      <td>139</td>\n",
       "      <td>103</td>\n",
       "      <td>...</td>\n",
       "      <td>26.6</td>\n",
       "      <td>88.7</td>\n",
       "      <td>37.7</td>\n",
       "      <td>89000</td>\n",
       "      <td>52000</td>\n",
       "      <td>25.3</td>\n",
       "      <td>13.1</td>\n",
       "      <td>4</td>\n",
       "      <td>Bethel</td>\n",
       "      <td>AK</td>\n",
       "    </tr>\n",
       "    <tr>\n",
       "      <th>4</th>\n",
       "      <td>2060</td>\n",
       "      <td>11.6</td>\n",
       "      <td>187</td>\n",
       "      <td>101</td>\n",
       "      <td>86</td>\n",
       "      <td>26</td>\n",
       "      <td>0</td>\n",
       "      <td>26</td>\n",
       "      <td>4</td>\n",
       "      <td>4</td>\n",
       "      <td>...</td>\n",
       "      <td>19.0</td>\n",
       "      <td>74.2</td>\n",
       "      <td>6.5</td>\n",
       "      <td>222000</td>\n",
       "      <td>87000</td>\n",
       "      <td>10.7</td>\n",
       "      <td>5.6</td>\n",
       "      <td>4</td>\n",
       "      <td>Bristol Bay</td>\n",
       "      <td>AK</td>\n",
       "    </tr>\n",
       "  </tbody>\n",
       "</table>\n",
       "<p>5 rows × 60 columns</p>\n",
       "</div>"
      ],
      "text/plain": [
       "   fips  Age65Plus   AIAN  AIANmen  AIANwomen  ANHPI  ANHPImen  ANHPIwomen  \\\n",
       "0  2013       11.2   1090      607        483    798       373         425   \n",
       "1  2016        7.5    465      249        216   2169      1351         818   \n",
       "2  2020       11.1  15672     6555       9117  26122     11599       14523   \n",
       "3  2050        7.4   9390     4848       4542    221        95         126   \n",
       "4  2060       11.6    187      101         86     26         0          26   \n",
       "\n",
       "   Black  BlackMen  ...  Broadband  EdLessColl  SNAPrecipients  MedHomeValue  \\\n",
       "0    129       119  ...       42.1        83.4             2.6        137000   \n",
       "1    167       147  ...       21.0        83.0             1.4        317000   \n",
       "2  11790      6228  ...        8.0        63.4             9.7        320000   \n",
       "3    139       103  ...       26.6        88.7            37.7         89000   \n",
       "4      4         4  ...       19.0        74.2             6.5        222000   \n",
       "\n",
       "   MedHouseIncome  Poverty  Unemploy  UrbanRural          county  state  \n",
       "0           79000     15.1       2.3           4  Aleutians East     AK  \n",
       "1           92000      8.1       3.6           4  Aleutians West     AK  \n",
       "2           85000      8.3       5.8           3       Anchorage     AK  \n",
       "3           52000     25.3      13.1           4          Bethel     AK  \n",
       "4           87000     10.7       5.6           4     Bristol Bay     AK  \n",
       "\n",
       "[5 rows x 60 columns]"
      ]
     },
     "execution_count": 8,
     "metadata": {},
     "output_type": "execute_result"
    }
   ],
   "source": [
    "cdc.head()"
   ]
  },
  {
   "cell_type": "markdown",
   "id": "55305298",
   "metadata": {},
   "source": [
    "## Relabeling Urban/Rural codes"
   ]
  },
  {
   "cell_type": "code",
   "execution_count": 9,
   "id": "04b30101",
   "metadata": {},
   "outputs": [],
   "source": [
    "#change rural/urban\n",
    "# 1 = Large central metro -> Large_Urban\n",
    "# 2 = Large fringe metro -> LargeFringe_Urban\n",
    "# 3 = Medium/small metro -> MediumSmall_Urban\n",
    "# 4 = Nonmetro -> Rural\n",
    "\n",
    "# Replace values in 'UrbanRural' column\n",
    "cdc['UrbanRural'] = cdc['UrbanRural'].replace({1: 'Large_Urban', 2: 'LargeFringe_Urban', 3: 'MediumSmall_Urban', 4: 'Rural'})\n",
    "\n",
    "# Replace -1 with NaN\n",
    "cdc = cdc.replace(-1, np.nan)"
   ]
  },
  {
   "cell_type": "markdown",
   "id": "cc529cb2",
   "metadata": {},
   "source": [
    "### Review header names, check for missing rural/urban values"
   ]
  },
  {
   "cell_type": "code",
   "execution_count": 10,
   "id": "e981a8c2",
   "metadata": {},
   "outputs": [
    {
     "name": "stdout",
     "output_type": "stream",
     "text": [
      "Index(['fips', 'Age65Plus', 'AIAN', 'AIANmen', 'AIANwomen', 'ANHPI',\n",
      "       'ANHPImen', 'ANHPIwomen', 'Black', 'BlackMen', 'BlackWomen', 'Hispanic',\n",
      "       'HispanicMen', 'HispanicWomen', 'OtherRace', 'OtherRaceMen',\n",
      "       'OtherRaceWomen', 'PopAllGenders', 'PopMen', 'PopWomen', 'pop',\n",
      "       'TwoPlus', 'TwoPlusMen', 'TwoPlusWomen', 'White', 'WhiteMen',\n",
      "       'WhiteWomen', 'bpmUse', 'CholScreen', 'CholMedNonAdhear',\n",
      "       'CholMedElegible', 'cruParticipate', 'Hospitals', 'HospCIC', 'HospCR',\n",
      "       'HospED', 'Pharmacies', 'HealthIns', 'CardioPhys', 'PrimaryCarePhys',\n",
      "       'CHD', 'HighBP', 'Stroke', 'Diabetes', 'HighChol', 'Obesity',\n",
      "       'PhysInactivity', 'Smoker', 'AirQuality', 'Parks', 'Broadband',\n",
      "       'EdLessColl', 'SNAPrecipients', 'MedHomeValue', 'MedHouseIncome',\n",
      "       'Poverty', 'Unemploy', 'UrbanRural', 'county', 'state'],\n",
      "      dtype='object')\n",
      "['Rural' 'MediumSmall_Urban' nan 'Large_Urban' 'LargeFringe_Urban']\n"
     ]
    },
    {
     "data": {
      "text/html": [
       "<div>\n",
       "<style scoped>\n",
       "    .dataframe tbody tr th:only-of-type {\n",
       "        vertical-align: middle;\n",
       "    }\n",
       "\n",
       "    .dataframe tbody tr th {\n",
       "        vertical-align: top;\n",
       "    }\n",
       "\n",
       "    .dataframe thead th {\n",
       "        text-align: right;\n",
       "    }\n",
       "</style>\n",
       "<table border=\"1\" class=\"dataframe\">\n",
       "  <thead>\n",
       "    <tr style=\"text-align: right;\">\n",
       "      <th></th>\n",
       "      <th>fips</th>\n",
       "      <th>Age65Plus</th>\n",
       "      <th>AIAN</th>\n",
       "      <th>AIANmen</th>\n",
       "      <th>AIANwomen</th>\n",
       "      <th>ANHPI</th>\n",
       "      <th>ANHPImen</th>\n",
       "      <th>ANHPIwomen</th>\n",
       "      <th>Black</th>\n",
       "      <th>BlackMen</th>\n",
       "      <th>...</th>\n",
       "      <th>Broadband</th>\n",
       "      <th>EdLessColl</th>\n",
       "      <th>SNAPrecipients</th>\n",
       "      <th>MedHomeValue</th>\n",
       "      <th>MedHouseIncome</th>\n",
       "      <th>Poverty</th>\n",
       "      <th>Unemploy</th>\n",
       "      <th>UrbanRural</th>\n",
       "      <th>county</th>\n",
       "      <th>state</th>\n",
       "    </tr>\n",
       "  </thead>\n",
       "  <tbody>\n",
       "    <tr>\n",
       "      <th>25</th>\n",
       "      <td>2158</td>\n",
       "      <td>5.8</td>\n",
       "      <td>4431</td>\n",
       "      <td>2361</td>\n",
       "      <td>2070</td>\n",
       "      <td>17</td>\n",
       "      <td>13</td>\n",
       "      <td>4</td>\n",
       "      <td>39</td>\n",
       "      <td>39</td>\n",
       "      <td>...</td>\n",
       "      <td>33.9</td>\n",
       "      <td>96.7</td>\n",
       "      <td>48.7</td>\n",
       "      <td>73000</td>\n",
       "      <td>38000.0</td>\n",
       "      <td>27.9</td>\n",
       "      <td>19.9</td>\n",
       "      <td>NaN</td>\n",
       "      <td>Kusilvak</td>\n",
       "      <td>AK</td>\n",
       "    </tr>\n",
       "  </tbody>\n",
       "</table>\n",
       "<p>1 rows × 60 columns</p>\n",
       "</div>"
      ],
      "text/plain": [
       "    fips  Age65Plus  AIAN  AIANmen  AIANwomen  ANHPI  ANHPImen  ANHPIwomen  \\\n",
       "25  2158        5.8  4431     2361       2070     17        13           4   \n",
       "\n",
       "    Black  BlackMen  ...  Broadband  EdLessColl  SNAPrecipients  MedHomeValue  \\\n",
       "25     39        39  ...       33.9        96.7            48.7         73000   \n",
       "\n",
       "    MedHouseIncome  Poverty  Unemploy  UrbanRural    county  state  \n",
       "25         38000.0     27.9      19.9         NaN  Kusilvak     AK  \n",
       "\n",
       "[1 rows x 60 columns]"
      ]
     },
     "execution_count": 10,
     "metadata": {},
     "output_type": "execute_result"
    }
   ],
   "source": [
    "# Display column names\n",
    "print(cdc.columns)\n",
    "\n",
    "# Show unique values in 'UrbanRural'\n",
    "print(cdc['UrbanRural'].unique())\n",
    "\n",
    "# Create a subset where 'UrbanRural' is NaN, an empty string, or 'NA'\n",
    "rural_query = cdc[cdc['UrbanRural'].isin([pd.np.nan, '', 'NA'])]\n",
    "\n",
    "# Display the first 20 rows of this subset\n",
    "rural_query.head(20)"
   ]
  },
  {
   "cell_type": "markdown",
   "id": "c0f84265",
   "metadata": {},
   "source": [
    "## Inserting Rural/Urban for missing value"
   ]
  },
  {
   "cell_type": "code",
   "execution_count": 11,
   "id": "5cc79f99",
   "metadata": {},
   "outputs": [
    {
     "name": "stdout",
     "output_type": "stream",
     "text": [
      "['Rural' 'MediumSmall_Urban' 'Large_Urban' 'LargeFringe_Urban']\n"
     ]
    },
    {
     "data": {
      "text/html": [
       "<div>\n",
       "<style scoped>\n",
       "    .dataframe tbody tr th:only-of-type {\n",
       "        vertical-align: middle;\n",
       "    }\n",
       "\n",
       "    .dataframe tbody tr th {\n",
       "        vertical-align: top;\n",
       "    }\n",
       "\n",
       "    .dataframe thead th {\n",
       "        text-align: right;\n",
       "    }\n",
       "</style>\n",
       "<table border=\"1\" class=\"dataframe\">\n",
       "  <thead>\n",
       "    <tr style=\"text-align: right;\">\n",
       "      <th></th>\n",
       "      <th>fips</th>\n",
       "      <th>Age65Plus</th>\n",
       "      <th>AIAN</th>\n",
       "      <th>AIANmen</th>\n",
       "      <th>AIANwomen</th>\n",
       "      <th>ANHPI</th>\n",
       "      <th>ANHPImen</th>\n",
       "      <th>ANHPIwomen</th>\n",
       "      <th>Black</th>\n",
       "      <th>BlackMen</th>\n",
       "      <th>...</th>\n",
       "      <th>Broadband</th>\n",
       "      <th>EdLessColl</th>\n",
       "      <th>SNAPrecipients</th>\n",
       "      <th>MedHomeValue</th>\n",
       "      <th>MedHouseIncome</th>\n",
       "      <th>Poverty</th>\n",
       "      <th>Unemploy</th>\n",
       "      <th>UrbanRural</th>\n",
       "      <th>county</th>\n",
       "      <th>state</th>\n",
       "    </tr>\n",
       "  </thead>\n",
       "  <tbody>\n",
       "  </tbody>\n",
       "</table>\n",
       "<p>0 rows × 60 columns</p>\n",
       "</div>"
      ],
      "text/plain": [
       "Empty DataFrame\n",
       "Columns: [fips, Age65Plus, AIAN, AIANmen, AIANwomen, ANHPI, ANHPImen, ANHPIwomen, Black, BlackMen, BlackWomen, Hispanic, HispanicMen, HispanicWomen, OtherRace, OtherRaceMen, OtherRaceWomen, PopAllGenders, PopMen, PopWomen, pop, TwoPlus, TwoPlusMen, TwoPlusWomen, White, WhiteMen, WhiteWomen, bpmUse, CholScreen, CholMedNonAdhear, CholMedElegible, cruParticipate, Hospitals, HospCIC, HospCR, HospED, Pharmacies, HealthIns, CardioPhys, PrimaryCarePhys, CHD, HighBP, Stroke, Diabetes, HighChol, Obesity, PhysInactivity, Smoker, AirQuality, Parks, Broadband, EdLessColl, SNAPrecipients, MedHomeValue, MedHouseIncome, Poverty, Unemploy, UrbanRural, county, state]\n",
       "Index: []\n",
       "\n",
       "[0 rows x 60 columns]"
      ]
     },
     "execution_count": 11,
     "metadata": {},
     "output_type": "execute_result"
    }
   ],
   "source": [
    "# Find and insert where county is 'Kusilvak' based on Wikipedia data.\n",
    "cdc.loc[cdc['county'].str.contains('Kusilvak', na=False), 'UrbanRural'] = \"Rural\"\n",
    "\n",
    "# Display unique values in the 'UrbanRural' column\n",
    "print(cdc['UrbanRural'].unique())\n",
    "\n",
    "# Double check for any NAs in Rural/Urban\n",
    "rural_query = cdc[cdc['UrbanRural'].isin([None, \"\", \"NA\"])].head(20)\n",
    "rural_query"
   ]
  },
  {
   "cell_type": "markdown",
   "id": "a5018066",
   "metadata": {},
   "source": [
    "## Convert fips to string"
   ]
  },
  {
   "cell_type": "code",
   "execution_count": 12,
   "id": "7074ea70",
   "metadata": {},
   "outputs": [],
   "source": [
    "cdc['fips'] = cdc['fips'].astype(str)"
   ]
  },
  {
   "cell_type": "markdown",
   "id": "67b990bb",
   "metadata": {},
   "source": [
    "## Inserting Parks missing value"
   ]
  },
  {
   "cell_type": "code",
   "execution_count": 13,
   "id": "1e3bc6fd",
   "metadata": {},
   "outputs": [],
   "source": [
    "cdc.loc[cdc['county'].str.contains('Kusilvak', na=False), 'Parks'] = 66"
   ]
  },
  {
   "cell_type": "markdown",
   "id": "93da5d8f",
   "metadata": {},
   "source": [
    "### Checking for missing values"
   ]
  },
  {
   "cell_type": "code",
   "execution_count": 14,
   "id": "4f999ac6",
   "metadata": {},
   "outputs": [
    {
     "name": "stdout",
     "output_type": "stream",
     "text": [
      "3297\n",
      "fips                   0\n",
      "Age65Plus              0\n",
      "AIAN                   0\n",
      "AIANmen                0\n",
      "AIANwomen              0\n",
      "ANHPI                  0\n",
      "ANHPImen               0\n",
      "ANHPIwomen             0\n",
      "Black                  0\n",
      "BlackMen               0\n",
      "BlackWomen             0\n",
      "Hispanic               0\n",
      "HispanicMen            0\n",
      "HispanicWomen          0\n",
      "OtherRace              0\n",
      "OtherRaceMen           0\n",
      "OtherRaceWomen         0\n",
      "PopAllGenders          0\n",
      "PopMen                 0\n",
      "PopWomen               0\n",
      "pop                    0\n",
      "TwoPlus                0\n",
      "TwoPlusMen             0\n",
      "TwoPlusWomen           0\n",
      "White                  0\n",
      "WhiteMen               0\n",
      "WhiteWomen             0\n",
      "bpmUse                21\n",
      "CholScreen            21\n",
      "CholMedNonAdhear      81\n",
      "CholMedElegible      111\n",
      "cruParticipate       743\n",
      "Hospitals              0\n",
      "HospCIC                0\n",
      "HospCR                 0\n",
      "HospED                 0\n",
      "Pharmacies             0\n",
      "HealthIns              1\n",
      "CardioPhys          1965\n",
      "PrimaryCarePhys      220\n",
      "CHD                    0\n",
      "HighBP                21\n",
      "Stroke                 0\n",
      "Diabetes              21\n",
      "HighChol              21\n",
      "Obesity               21\n",
      "PhysInactivity        21\n",
      "Smoker                 0\n",
      "AirQuality            25\n",
      "Parks                  0\n",
      "Broadband              0\n",
      "EdLessColl             0\n",
      "SNAPrecipients         1\n",
      "MedHomeValue           0\n",
      "MedHouseIncome         1\n",
      "Poverty                1\n",
      "Unemploy               1\n",
      "UrbanRural             0\n",
      "county                 0\n",
      "state                  0\n",
      "dtype: int64\n"
     ]
    }
   ],
   "source": [
    "# Total number of missing values in dataset\n",
    "total_na = cdc.isnull().sum().sum()\n",
    "print(total_na)\n",
    "\n",
    "# Total number of missing values in each column\n",
    "column_na = cdc.isnull().sum()\n",
    "print(column_na)\n",
    "\n",
    "# Total number of missing values in each row\n",
    "cdc['count_na'] = cdc.isnull().sum(axis=1)\n",
    "\n",
    "# Sort by 'count_na'\n",
    "cdc = cdc.sort_values(by='count_na', ascending=False)"
   ]
  },
  {
   "cell_type": "markdown",
   "id": "c8ec2f90",
   "metadata": {},
   "source": [
    "### Remove counties with minimal data"
   ]
  },
  {
   "cell_type": "code",
   "execution_count": 15,
   "id": "42d05400",
   "metadata": {},
   "outputs": [],
   "source": [
    "# Remove those that have more than 8 NAs in that row\n",
    "cdc = cdc[cdc['count_na'] <= 8]\n",
    "\n",
    "# Remove 'count_na' column\n",
    "cdc = cdc.drop('count_na', axis=1)"
   ]
  },
  {
   "cell_type": "markdown",
   "id": "fcbaec1f",
   "metadata": {},
   "source": [
    "## Inserting values for missing data for NJ\n",
    "Note: These values were obtained from 500 Cities & Places data (https://chronicdata.cdc.gov/browse)"
   ]
  },
  {
   "cell_type": "code",
   "execution_count": 16,
   "id": "e9b83483",
   "metadata": {},
   "outputs": [],
   "source": [
    "# bpmUse\n",
    "cdc.loc[cdc['state'].str.contains('NJ', na=False), 'bpmUse'] = 71.71\n",
    "\n",
    "# CholScreen\n",
    "cdc.loc[cdc['state'].str.contains('NJ', na=False), 'CholScreen'] = 79.43\n",
    "\n",
    "# HighBP\n",
    "cdc.loc[cdc['state'].str.contains('NJ', na=False), 'HighBP'] = 33.7\n",
    "\n",
    "# Diabetes\n",
    "cdc.loc[cdc['state'].str.contains('NJ', na=False), 'Diabetes'] = 17.4\n",
    "\n",
    "# HighChol\n",
    "cdc.loc[cdc['state'].str.contains('NJ', na=False), 'HighChol'] = 32.41\n",
    "\n",
    "# Obesity\n",
    "cdc.loc[cdc['state'].str.contains('NJ', na=False), 'Obesity'] = 33.59"
   ]
  },
  {
   "cell_type": "markdown",
   "id": "4b5739cd",
   "metadata": {},
   "source": [
    "## Inserting values for missing values in Median Home Value\n",
    "Note: these values were obtained from city-data.com (https://www.city-data.com)"
   ]
  },
  {
   "cell_type": "code",
   "execution_count": 17,
   "id": "7ae108c4",
   "metadata": {},
   "outputs": [],
   "source": [
    "cdc.loc[cdc['fips'].str.contains('48261', na=False), 'MedHomeValue'] = 42550\n",
    "cdc.loc[cdc['fips'].str.contains('48301', na=False), 'MedHomeValue'] = 38143\n",
    "cdc.loc[cdc['fips'].str.contains('46017', na=False), 'MedHomeValue'] = 101393\n",
    "cdc.loc[cdc['fips'].str.contains('46095', na=False), 'MedHomeValue'] = 60537"
   ]
  },
  {
   "cell_type": "markdown",
   "id": "9874b235",
   "metadata": {},
   "source": [
    "## Inserting missing values for PCP and Cardio Phys"
   ]
  },
  {
   "cell_type": "code",
   "execution_count": 18,
   "id": "c5ba8b93",
   "metadata": {},
   "outputs": [],
   "source": [
    "# Read in dataset with values for merging\n",
    "pcp_cardio_count = pd.read_csv(\"data/pcp_cardio_count.csv\")\n",
    "\n",
    "# Convert the 'COUNTY' column to string\n",
    "pcp_cardio_count['COUNTY'] = pcp_cardio_count['COUNTY'].astype(str)\n",
    "\n",
    "# Joining count data frame to the cdc data frame\n",
    "cdc = cdc.merge(pcp_cardio_count, left_on='fips', right_on='COUNTY', how='left')\n",
    "\n",
    "# Use fillna to replace NAs in PCP and CardioPhys\n",
    "cdc['pcp'] = cdc['pcp'].fillna(cdc['PrimaryCarePhys'])\n",
    "cdc['CardioPhys'] = cdc['CardioPhys'].fillna(cdc['cardio'])\n",
    "\n",
    "# Remove the temporary columns\n",
    "cdc = cdc.drop(['PrimaryCarePhys', 'cardio', 'COUNTY'], axis=1)"
   ]
  },
  {
   "cell_type": "markdown",
   "id": "f2df53fe",
   "metadata": {},
   "source": [
    "#### Check entire data frame for remaining missing or NA values"
   ]
  },
  {
   "cell_type": "code",
   "execution_count": 19,
   "id": "886a996d",
   "metadata": {},
   "outputs": [
    {
     "name": "stdout",
     "output_type": "stream",
     "text": [
      "CholMedNonAdhear      80\n",
      "CholMedElegible      110\n",
      "cruParticipate       742\n",
      "CardioPhys          1493\n",
      "PhysInactivity        21\n",
      "AirQuality            24\n",
      "pcp                   25\n",
      "dtype: int64\n"
     ]
    }
   ],
   "source": [
    "# Check DataFrame for missing or NA values, but only display columns with missing values\n",
    "missing_values = cdc.isnull().sum()\n",
    "missing_values = missing_values[missing_values != 0]\n",
    "print(missing_values)"
   ]
  },
  {
   "cell_type": "markdown",
   "id": "55254402",
   "metadata": {},
   "source": [
    "### Display data frame"
   ]
  },
  {
   "cell_type": "code",
   "execution_count": 20,
   "id": "17ae3d69",
   "metadata": {},
   "outputs": [
    {
     "data": {
      "text/html": [
       "<div>\n",
       "<style scoped>\n",
       "    .dataframe tbody tr th:only-of-type {\n",
       "        vertical-align: middle;\n",
       "    }\n",
       "\n",
       "    .dataframe tbody tr th {\n",
       "        vertical-align: top;\n",
       "    }\n",
       "\n",
       "    .dataframe thead th {\n",
       "        text-align: right;\n",
       "    }\n",
       "</style>\n",
       "<table border=\"1\" class=\"dataframe\">\n",
       "  <thead>\n",
       "    <tr style=\"text-align: right;\">\n",
       "      <th></th>\n",
       "      <th>fips</th>\n",
       "      <th>Age65Plus</th>\n",
       "      <th>AIAN</th>\n",
       "      <th>AIANmen</th>\n",
       "      <th>AIANwomen</th>\n",
       "      <th>ANHPI</th>\n",
       "      <th>ANHPImen</th>\n",
       "      <th>ANHPIwomen</th>\n",
       "      <th>Black</th>\n",
       "      <th>BlackMen</th>\n",
       "      <th>...</th>\n",
       "      <th>EdLessColl</th>\n",
       "      <th>SNAPrecipients</th>\n",
       "      <th>MedHomeValue</th>\n",
       "      <th>MedHouseIncome</th>\n",
       "      <th>Poverty</th>\n",
       "      <th>Unemploy</th>\n",
       "      <th>UrbanRural</th>\n",
       "      <th>county</th>\n",
       "      <th>state</th>\n",
       "      <th>pcp</th>\n",
       "    </tr>\n",
       "  </thead>\n",
       "  <tbody>\n",
       "    <tr>\n",
       "      <th>0</th>\n",
       "      <td>34027</td>\n",
       "      <td>17.1</td>\n",
       "      <td>446</td>\n",
       "      <td>213</td>\n",
       "      <td>233</td>\n",
       "      <td>39922</td>\n",
       "      <td>19200</td>\n",
       "      <td>20722</td>\n",
       "      <td>13116</td>\n",
       "      <td>6312</td>\n",
       "      <td>...</td>\n",
       "      <td>44.7</td>\n",
       "      <td>2.5</td>\n",
       "      <td>462000</td>\n",
       "      <td>114000.0</td>\n",
       "      <td>4.7</td>\n",
       "      <td>5.0</td>\n",
       "      <td>LargeFringe_Urban</td>\n",
       "      <td>Morris</td>\n",
       "      <td>NJ</td>\n",
       "      <td>1.0</td>\n",
       "    </tr>\n",
       "    <tr>\n",
       "      <th>1</th>\n",
       "      <td>34025</td>\n",
       "      <td>17.7</td>\n",
       "      <td>781</td>\n",
       "      <td>508</td>\n",
       "      <td>273</td>\n",
       "      <td>26636</td>\n",
       "      <td>12508</td>\n",
       "      <td>14128</td>\n",
       "      <td>33615</td>\n",
       "      <td>15605</td>\n",
       "      <td>...</td>\n",
       "      <td>52.7</td>\n",
       "      <td>4.5</td>\n",
       "      <td>435000</td>\n",
       "      <td>104000.0</td>\n",
       "      <td>5.9</td>\n",
       "      <td>5.5</td>\n",
       "      <td>LargeFringe_Urban</td>\n",
       "      <td>Monmouth</td>\n",
       "      <td>NJ</td>\n",
       "      <td>0.8</td>\n",
       "    </tr>\n",
       "    <tr>\n",
       "      <th>2</th>\n",
       "      <td>34017</td>\n",
       "      <td>12.0</td>\n",
       "      <td>2619</td>\n",
       "      <td>1539</td>\n",
       "      <td>1080</td>\n",
       "      <td>88314</td>\n",
       "      <td>44162</td>\n",
       "      <td>44152</td>\n",
       "      <td>63097</td>\n",
       "      <td>29672</td>\n",
       "      <td>...</td>\n",
       "      <td>56.0</td>\n",
       "      <td>13.1</td>\n",
       "      <td>401000</td>\n",
       "      <td>77000.0</td>\n",
       "      <td>13.1</td>\n",
       "      <td>6.8</td>\n",
       "      <td>Large_Urban</td>\n",
       "      <td>Hudson</td>\n",
       "      <td>NJ</td>\n",
       "      <td>1.8</td>\n",
       "    </tr>\n",
       "    <tr>\n",
       "      <th>3</th>\n",
       "      <td>34041</td>\n",
       "      <td>18.1</td>\n",
       "      <td>135</td>\n",
       "      <td>75</td>\n",
       "      <td>60</td>\n",
       "      <td>2178</td>\n",
       "      <td>1107</td>\n",
       "      <td>1071</td>\n",
       "      <td>3878</td>\n",
       "      <td>1964</td>\n",
       "      <td>...</td>\n",
       "      <td>65.5</td>\n",
       "      <td>6.1</td>\n",
       "      <td>266000</td>\n",
       "      <td>80000.0</td>\n",
       "      <td>7.3</td>\n",
       "      <td>5.5</td>\n",
       "      <td>MediumSmall_Urban</td>\n",
       "      <td>Warren</td>\n",
       "      <td>NJ</td>\n",
       "      <td>1.6</td>\n",
       "    </tr>\n",
       "    <tr>\n",
       "      <th>4</th>\n",
       "      <td>34039</td>\n",
       "      <td>14.5</td>\n",
       "      <td>1425</td>\n",
       "      <td>865</td>\n",
       "      <td>560</td>\n",
       "      <td>23289</td>\n",
       "      <td>10781</td>\n",
       "      <td>12508</td>\n",
       "      <td>92839</td>\n",
       "      <td>42103</td>\n",
       "      <td>...</td>\n",
       "      <td>62.9</td>\n",
       "      <td>7.1</td>\n",
       "      <td>379000</td>\n",
       "      <td>83000.0</td>\n",
       "      <td>9.2</td>\n",
       "      <td>6.7</td>\n",
       "      <td>Large_Urban</td>\n",
       "      <td>Union</td>\n",
       "      <td>NJ</td>\n",
       "      <td>1.5</td>\n",
       "    </tr>\n",
       "    <tr>\n",
       "      <th>...</th>\n",
       "      <td>...</td>\n",
       "      <td>...</td>\n",
       "      <td>...</td>\n",
       "      <td>...</td>\n",
       "      <td>...</td>\n",
       "      <td>...</td>\n",
       "      <td>...</td>\n",
       "      <td>...</td>\n",
       "      <td>...</td>\n",
       "      <td>...</td>\n",
       "      <td>...</td>\n",
       "      <td>...</td>\n",
       "      <td>...</td>\n",
       "      <td>...</td>\n",
       "      <td>...</td>\n",
       "      <td>...</td>\n",
       "      <td>...</td>\n",
       "      <td>...</td>\n",
       "      <td>...</td>\n",
       "      <td>...</td>\n",
       "      <td>...</td>\n",
       "    </tr>\n",
       "    <tr>\n",
       "      <th>3135</th>\n",
       "      <td>13157</td>\n",
       "      <td>14.4</td>\n",
       "      <td>7</td>\n",
       "      <td>7</td>\n",
       "      <td>0</td>\n",
       "      <td>948</td>\n",
       "      <td>444</td>\n",
       "      <td>504</td>\n",
       "      <td>3720</td>\n",
       "      <td>1980</td>\n",
       "      <td>...</td>\n",
       "      <td>76.5</td>\n",
       "      <td>9.1</td>\n",
       "      <td>210000</td>\n",
       "      <td>71000.0</td>\n",
       "      <td>9.1</td>\n",
       "      <td>2.4</td>\n",
       "      <td>Rural</td>\n",
       "      <td>Jackson</td>\n",
       "      <td>GA</td>\n",
       "      <td>140.0</td>\n",
       "    </tr>\n",
       "    <tr>\n",
       "      <th>3136</th>\n",
       "      <td>13153</td>\n",
       "      <td>12.7</td>\n",
       "      <td>904</td>\n",
       "      <td>193</td>\n",
       "      <td>711</td>\n",
       "      <td>4154</td>\n",
       "      <td>1488</td>\n",
       "      <td>2666</td>\n",
       "      <td>35261</td>\n",
       "      <td>16097</td>\n",
       "      <td>...</td>\n",
       "      <td>69.0</td>\n",
       "      <td>13.4</td>\n",
       "      <td>157000</td>\n",
       "      <td>69000.0</td>\n",
       "      <td>10.8</td>\n",
       "      <td>3.6</td>\n",
       "      <td>MediumSmall_Urban</td>\n",
       "      <td>Houston</td>\n",
       "      <td>GA</td>\n",
       "      <td>144.0</td>\n",
       "    </tr>\n",
       "    <tr>\n",
       "      <th>3137</th>\n",
       "      <td>13139</td>\n",
       "      <td>15.0</td>\n",
       "      <td>326</td>\n",
       "      <td>187</td>\n",
       "      <td>139</td>\n",
       "      <td>3035</td>\n",
       "      <td>1267</td>\n",
       "      <td>1768</td>\n",
       "      <td>11120</td>\n",
       "      <td>5338</td>\n",
       "      <td>...</td>\n",
       "      <td>76.0</td>\n",
       "      <td>9.8</td>\n",
       "      <td>213000</td>\n",
       "      <td>68000.0</td>\n",
       "      <td>12.7</td>\n",
       "      <td>2.7</td>\n",
       "      <td>MediumSmall_Urban</td>\n",
       "      <td>Hall</td>\n",
       "      <td>GA</td>\n",
       "      <td>524.0</td>\n",
       "    </tr>\n",
       "    <tr>\n",
       "      <th>3138</th>\n",
       "      <td>31019</td>\n",
       "      <td>14.6</td>\n",
       "      <td>69</td>\n",
       "      <td>30</td>\n",
       "      <td>39</td>\n",
       "      <td>652</td>\n",
       "      <td>358</td>\n",
       "      <td>294</td>\n",
       "      <td>369</td>\n",
       "      <td>204</td>\n",
       "      <td>...</td>\n",
       "      <td>66.2</td>\n",
       "      <td>6.2</td>\n",
       "      <td>185000</td>\n",
       "      <td>69000.0</td>\n",
       "      <td>9.5</td>\n",
       "      <td>2.0</td>\n",
       "      <td>Rural</td>\n",
       "      <td>Buffalo</td>\n",
       "      <td>NE</td>\n",
       "      <td>100.0</td>\n",
       "    </tr>\n",
       "    <tr>\n",
       "      <th>3139</th>\n",
       "      <td>21101</td>\n",
       "      <td>17.6</td>\n",
       "      <td>75</td>\n",
       "      <td>44</td>\n",
       "      <td>31</td>\n",
       "      <td>160</td>\n",
       "      <td>68</td>\n",
       "      <td>92</td>\n",
       "      <td>2707</td>\n",
       "      <td>1288</td>\n",
       "      <td>...</td>\n",
       "      <td>81.8</td>\n",
       "      <td>12.1</td>\n",
       "      <td>133000</td>\n",
       "      <td>55000.0</td>\n",
       "      <td>13.4</td>\n",
       "      <td>4.5</td>\n",
       "      <td>MediumSmall_Urban</td>\n",
       "      <td>Henderson</td>\n",
       "      <td>KY</td>\n",
       "      <td>98.0</td>\n",
       "    </tr>\n",
       "  </tbody>\n",
       "</table>\n",
       "<p>3140 rows × 60 columns</p>\n",
       "</div>"
      ],
      "text/plain": [
       "       fips  Age65Plus  AIAN  AIANmen  AIANwomen  ANHPI  ANHPImen  ANHPIwomen  \\\n",
       "0     34027       17.1   446      213        233  39922     19200       20722   \n",
       "1     34025       17.7   781      508        273  26636     12508       14128   \n",
       "2     34017       12.0  2619     1539       1080  88314     44162       44152   \n",
       "3     34041       18.1   135       75         60   2178      1107        1071   \n",
       "4     34039       14.5  1425      865        560  23289     10781       12508   \n",
       "...     ...        ...   ...      ...        ...    ...       ...         ...   \n",
       "3135  13157       14.4     7        7          0    948       444         504   \n",
       "3136  13153       12.7   904      193        711   4154      1488        2666   \n",
       "3137  13139       15.0   326      187        139   3035      1267        1768   \n",
       "3138  31019       14.6    69       30         39    652       358         294   \n",
       "3139  21101       17.6    75       44         31    160        68          92   \n",
       "\n",
       "      Black  BlackMen  ...  EdLessColl  SNAPrecipients  MedHomeValue  \\\n",
       "0     13116      6312  ...        44.7             2.5        462000   \n",
       "1     33615     15605  ...        52.7             4.5        435000   \n",
       "2     63097     29672  ...        56.0            13.1        401000   \n",
       "3      3878      1964  ...        65.5             6.1        266000   \n",
       "4     92839     42103  ...        62.9             7.1        379000   \n",
       "...     ...       ...  ...         ...             ...           ...   \n",
       "3135   3720      1980  ...        76.5             9.1        210000   \n",
       "3136  35261     16097  ...        69.0            13.4        157000   \n",
       "3137  11120      5338  ...        76.0             9.8        213000   \n",
       "3138    369       204  ...        66.2             6.2        185000   \n",
       "3139   2707      1288  ...        81.8            12.1        133000   \n",
       "\n",
       "      MedHouseIncome  Poverty  Unemploy         UrbanRural     county  state  \\\n",
       "0           114000.0      4.7       5.0  LargeFringe_Urban     Morris     NJ   \n",
       "1           104000.0      5.9       5.5  LargeFringe_Urban   Monmouth     NJ   \n",
       "2            77000.0     13.1       6.8        Large_Urban     Hudson     NJ   \n",
       "3            80000.0      7.3       5.5  MediumSmall_Urban     Warren     NJ   \n",
       "4            83000.0      9.2       6.7        Large_Urban      Union     NJ   \n",
       "...              ...      ...       ...                ...        ...    ...   \n",
       "3135         71000.0      9.1       2.4              Rural    Jackson     GA   \n",
       "3136         69000.0     10.8       3.6  MediumSmall_Urban    Houston     GA   \n",
       "3137         68000.0     12.7       2.7  MediumSmall_Urban       Hall     GA   \n",
       "3138         69000.0      9.5       2.0              Rural    Buffalo     NE   \n",
       "3139         55000.0     13.4       4.5  MediumSmall_Urban  Henderson     KY   \n",
       "\n",
       "        pcp  \n",
       "0       1.0  \n",
       "1       0.8  \n",
       "2       1.8  \n",
       "3       1.6  \n",
       "4       1.5  \n",
       "...     ...  \n",
       "3135  140.0  \n",
       "3136  144.0  \n",
       "3137  524.0  \n",
       "3138  100.0  \n",
       "3139   98.0  \n",
       "\n",
       "[3140 rows x 60 columns]"
      ]
     },
     "execution_count": 20,
     "metadata": {},
     "output_type": "execute_result"
    }
   ],
   "source": [
    "cdc"
   ]
  },
  {
   "cell_type": "markdown",
   "id": "84256c77",
   "metadata": {},
   "source": [
    "# Data Engineering"
   ]
  },
  {
   "cell_type": "markdown",
   "id": "4a2cc128",
   "metadata": {},
   "source": [
    "## Impute for missing values"
   ]
  },
  {
   "cell_type": "code",
   "execution_count": 21,
   "id": "614eb0aa",
   "metadata": {},
   "outputs": [],
   "source": [
    "from sklearn.impute import SimpleImputer\n",
    "\n",
    "# Specify the columns you want to impute\n",
    "columns_to_impute = ['CholMedNonAdhear', 'CholMedElegible', 'cruParticipate', 'CardioPhys', 'PhysInactivity', 'AirQuality', 'pcp']\n",
    "\n",
    "# Subset the DataFrame to only these columns\n",
    "subset_cdc = cdc[columns_to_impute]\n",
    "\n",
    "# Create an imputer object\n",
    "imputer = SimpleImputer(strategy='mean')\n",
    "\n",
    "# Fit the imputer to the data and transform the data\n",
    "imputed_data = imputer.fit_transform(subset_cdc)\n",
    "\n",
    "# Convert the result back to a DataFrame\n",
    "imputed_data = pd.DataFrame(imputed_data, columns=subset_cdc.columns)\n",
    "\n",
    "# Replace the original columns in the DataFrame with the imputed data\n",
    "cdc[columns_to_impute] = imputed_data\n"
   ]
  },
  {
   "cell_type": "markdown",
   "id": "4d81cf7e",
   "metadata": {},
   "source": [
    "## Changing UrbanRural to True/False"
   ]
  },
  {
   "cell_type": "code",
   "execution_count": 22,
   "id": "561a62db",
   "metadata": {},
   "outputs": [
    {
     "name": "stdout",
     "output_type": "stream",
     "text": [
      "[False  True]\n",
      "bool\n"
     ]
    }
   ],
   "source": [
    "cdc['IsRural'] = cdc['UrbanRural'] == 'Rural'\n",
    "\n",
    "# Checking status of new column\n",
    "print(cdc.IsRural.unique())\n",
    "print(cdc['IsRural'].dtype)\n"
   ]
  },
  {
   "cell_type": "markdown",
   "id": "b407b785",
   "metadata": {},
   "source": [
    "## Create classes for CHD prevalence"
   ]
  },
  {
   "cell_type": "code",
   "execution_count": 23,
   "id": "56415ed6",
   "metadata": {},
   "outputs": [
    {
     "name": "stdout",
     "output_type": "stream",
     "text": [
      "       fips  Age65Plus  AIAN  AIANmen  AIANwomen  ANHPI  ANHPImen  ANHPIwomen  \\\n",
      "0     34027       17.1   446      213        233  39922     19200       20722   \n",
      "1     34025       17.7   781      508        273  26636     12508       14128   \n",
      "2     34017       12.0  2619     1539       1080  88314     44162       44152   \n",
      "3     34041       18.1   135       75         60   2178      1107        1071   \n",
      "4     34039       14.5  1425      865        560  23289     10781       12508   \n",
      "...     ...        ...   ...      ...        ...    ...       ...         ...   \n",
      "3135  13157       14.4     7        7          0    948       444         504   \n",
      "3136  13153       12.7   904      193        711   4154      1488        2666   \n",
      "3137  13139       15.0   326      187        139   3035      1267        1768   \n",
      "3138  31019       14.6    69       30         39    652       358         294   \n",
      "3139  21101       17.6    75       44         31    160        68          92   \n",
      "\n",
      "      Black  BlackMen  ...  MedHomeValue  MedHouseIncome  Poverty  Unemploy  \\\n",
      "0     13116      6312  ...        462000        114000.0      4.7       5.0   \n",
      "1     33615     15605  ...        435000        104000.0      5.9       5.5   \n",
      "2     63097     29672  ...        401000         77000.0     13.1       6.8   \n",
      "3      3878      1964  ...        266000         80000.0      7.3       5.5   \n",
      "4     92839     42103  ...        379000         83000.0      9.2       6.7   \n",
      "...     ...       ...  ...           ...             ...      ...       ...   \n",
      "3135   3720      1980  ...        210000         71000.0      9.1       2.4   \n",
      "3136  35261     16097  ...        157000         69000.0     10.8       3.6   \n",
      "3137  11120      5338  ...        213000         68000.0     12.7       2.7   \n",
      "3138    369       204  ...        185000         69000.0      9.5       2.0   \n",
      "3139   2707      1288  ...        133000         55000.0     13.4       4.5   \n",
      "\n",
      "             UrbanRural     county  state    pcp  IsRural  CHD_Class  \n",
      "0     LargeFringe_Urban     Morris     NJ    1.0    False        Low  \n",
      "1     LargeFringe_Urban   Monmouth     NJ    0.8    False        Low  \n",
      "2           Large_Urban     Hudson     NJ    1.8    False        Low  \n",
      "3     MediumSmall_Urban     Warren     NJ    1.6    False        Low  \n",
      "4           Large_Urban      Union     NJ    1.5    False        Low  \n",
      "...                 ...        ...    ...    ...      ...        ...  \n",
      "3135              Rural    Jackson     GA  140.0     True        Low  \n",
      "3136  MediumSmall_Urban    Houston     GA  144.0    False        Low  \n",
      "3137  MediumSmall_Urban       Hall     GA  524.0    False        Low  \n",
      "3138              Rural    Buffalo     NE  100.0     True        Low  \n",
      "3139  MediumSmall_Urban  Henderson     KY   98.0    False     Medium  \n",
      "\n",
      "[3140 rows x 62 columns]\n"
     ]
    }
   ],
   "source": [
    "# Define the boundaries for the quantiles\n",
    "quantiles = cdc['CHD'].quantile([0.33, 0.66]).values\n",
    "\n",
    "# Function to classify 'CHD' values\n",
    "def classify_chd(value):\n",
    "    if value <= quantiles[0]:\n",
    "        return 'Low'\n",
    "    elif value <= quantiles[1]:\n",
    "        return 'Medium'\n",
    "    else:\n",
    "        return 'High'\n",
    "\n",
    "# Add 'CHD_Class' column\n",
    "cdc['CHD_Class'] = cdc['CHD'].apply(classify_chd)\n",
    "\n",
    "# Print the dataframe\n",
    "print(cdc)\n"
   ]
  },
  {
   "cell_type": "markdown",
   "id": "5ba7a85b",
   "metadata": {},
   "source": [
    "## Add classification column for region"
   ]
  },
  {
   "cell_type": "code",
   "execution_count": 24,
   "id": "0f237e2e",
   "metadata": {},
   "outputs": [
    {
     "name": "stdout",
     "output_type": "stream",
     "text": [
      "       fips  Age65Plus  AIAN  AIANmen  AIANwomen  ANHPI  ANHPImen  ANHPIwomen  \\\n",
      "0     34027       17.1   446      213        233  39922     19200       20722   \n",
      "1     34025       17.7   781      508        273  26636     12508       14128   \n",
      "2     34017       12.0  2619     1539       1080  88314     44162       44152   \n",
      "3     34041       18.1   135       75         60   2178      1107        1071   \n",
      "4     34039       14.5  1425      865        560  23289     10781       12508   \n",
      "...     ...        ...   ...      ...        ...    ...       ...         ...   \n",
      "3135  13157       14.4     7        7          0    948       444         504   \n",
      "3136  13153       12.7   904      193        711   4154      1488        2666   \n",
      "3137  13139       15.0   326      187        139   3035      1267        1768   \n",
      "3138  31019       14.6    69       30         39    652       358         294   \n",
      "3139  21101       17.6    75       44         31    160        68          92   \n",
      "\n",
      "      Black  BlackMen  ...  MedHouseIncome  Poverty  Unemploy  \\\n",
      "0     13116      6312  ...        114000.0      4.7       5.0   \n",
      "1     33615     15605  ...        104000.0      5.9       5.5   \n",
      "2     63097     29672  ...         77000.0     13.1       6.8   \n",
      "3      3878      1964  ...         80000.0      7.3       5.5   \n",
      "4     92839     42103  ...         83000.0      9.2       6.7   \n",
      "...     ...       ...  ...             ...      ...       ...   \n",
      "3135   3720      1980  ...         71000.0      9.1       2.4   \n",
      "3136  35261     16097  ...         69000.0     10.8       3.6   \n",
      "3137  11120      5338  ...         68000.0     12.7       2.7   \n",
      "3138    369       204  ...         69000.0      9.5       2.0   \n",
      "3139   2707      1288  ...         55000.0     13.4       4.5   \n",
      "\n",
      "             UrbanRural     county  state    pcp  IsRural  CHD_Class  \\\n",
      "0     LargeFringe_Urban     Morris     NJ    1.0    False        Low   \n",
      "1     LargeFringe_Urban   Monmouth     NJ    0.8    False        Low   \n",
      "2           Large_Urban     Hudson     NJ    1.8    False        Low   \n",
      "3     MediumSmall_Urban     Warren     NJ    1.6    False        Low   \n",
      "4           Large_Urban      Union     NJ    1.5    False        Low   \n",
      "...                 ...        ...    ...    ...      ...        ...   \n",
      "3135              Rural    Jackson     GA  140.0     True        Low   \n",
      "3136  MediumSmall_Urban    Houston     GA  144.0    False        Low   \n",
      "3137  MediumSmall_Urban       Hall     GA  524.0    False        Low   \n",
      "3138              Rural    Buffalo     NE  100.0     True        Low   \n",
      "3139  MediumSmall_Urban  Henderson     KY   98.0    False     Medium   \n",
      "\n",
      "         region  \n",
      "0     Northeast  \n",
      "1     Northeast  \n",
      "2     Northeast  \n",
      "3     Northeast  \n",
      "4     Northeast  \n",
      "...         ...  \n",
      "3135      South  \n",
      "3136      South  \n",
      "3137      South  \n",
      "3138    Midwest  \n",
      "3139      South  \n",
      "\n",
      "[3140 rows x 63 columns]\n"
     ]
    }
   ],
   "source": [
    "# Define the regions\n",
    "regions = {\n",
    "    'Northeast': ['CT', 'ME', 'MA', 'NH', 'RI', 'VT', 'NJ', 'NY', 'PA'],\n",
    "    'Midwest': ['IL', 'IN', 'MI', 'OH', 'WI', 'IA', 'KS', 'MN', 'MO', 'NE', 'ND', 'SD'],\n",
    "    'South': ['DE', 'FL', 'GA', 'MD', 'NC', 'SC', 'VA', 'DC', 'WV', 'AL', 'KY', 'MS', 'TN', 'AR', 'LA', 'OK', 'TX'],\n",
    "    'West': ['AZ', 'CO', 'ID', 'MT', 'NV', 'NM', 'UT', 'WY', 'AK', 'CA', 'HI', 'OR', 'WA']\n",
    "}\n",
    "\n",
    "# Function to assign region based on state\n",
    "def assign_region(state):\n",
    "    for region, states in regions.items():\n",
    "        if state in states:\n",
    "            return region\n",
    "    return 'Other'\n",
    "\n",
    "# Add 'region' column\n",
    "cdc['region'] = cdc['state'].apply(assign_region)\n",
    "\n",
    "# Print the updated DataFrame\n",
    "print(cdc)"
   ]
  },
  {
   "cell_type": "markdown",
   "id": "cddf8ef4",
   "metadata": {},
   "source": [
    "### Check entire data frame for remaining missing or NA values"
   ]
  },
  {
   "cell_type": "code",
   "execution_count": 25,
   "id": "6bfb2d02",
   "metadata": {},
   "outputs": [
    {
     "name": "stdout",
     "output_type": "stream",
     "text": [
      "Series([], dtype: int64)\n"
     ]
    }
   ],
   "source": [
    "# Check DataFrame for missing or NA values, but only display columns with missing values\n",
    "missing_values = cdc.isnull().sum()\n",
    "missing_values = missing_values[missing_values != 0]\n",
    "print(missing_values)"
   ]
  },
  {
   "cell_type": "markdown",
   "id": "f5dc9260",
   "metadata": {},
   "source": [
    "### Check variable class types"
   ]
  },
  {
   "cell_type": "code",
   "execution_count": 26,
   "id": "3d84821f",
   "metadata": {},
   "outputs": [
    {
     "name": "stdout",
     "output_type": "stream",
     "text": [
      "[dtype('bool') dtype('int64') dtype('float64') dtype('O')]\n"
     ]
    }
   ],
   "source": [
    "unique_dtypes = np.unique(cdc.dtypes)\n",
    "print(unique_dtypes)"
   ]
  },
  {
   "cell_type": "code",
   "execution_count": 27,
   "id": "b96bf8e9",
   "metadata": {},
   "outputs": [
    {
     "name": "stdout",
     "output_type": "stream",
     "text": [
      "fips: object\n",
      "Age65Plus: float64\n",
      "AIAN: int64\n",
      "AIANmen: int64\n",
      "AIANwomen: int64\n",
      "ANHPI: int64\n",
      "ANHPImen: int64\n",
      "ANHPIwomen: int64\n",
      "Black: int64\n",
      "BlackMen: int64\n",
      "BlackWomen: int64\n",
      "Hispanic: int64\n",
      "HispanicMen: int64\n",
      "HispanicWomen: int64\n",
      "OtherRace: int64\n",
      "OtherRaceMen: int64\n",
      "OtherRaceWomen: int64\n",
      "PopAllGenders: int64\n",
      "PopMen: int64\n",
      "PopWomen: int64\n",
      "pop: int64\n",
      "TwoPlus: int64\n",
      "TwoPlusMen: int64\n",
      "TwoPlusWomen: int64\n",
      "White: int64\n",
      "WhiteMen: int64\n",
      "WhiteWomen: int64\n",
      "bpmUse: float64\n",
      "CholScreen: float64\n",
      "CholMedNonAdhear: float64\n",
      "CholMedElegible: float64\n",
      "cruParticipate: float64\n",
      "Hospitals: int64\n",
      "HospCIC: int64\n",
      "HospCR: int64\n",
      "HospED: int64\n",
      "Pharmacies: float64\n",
      "HealthIns: float64\n",
      "CardioPhys: float64\n",
      "CHD: float64\n",
      "HighBP: float64\n",
      "Stroke: float64\n",
      "Diabetes: float64\n",
      "HighChol: float64\n",
      "Obesity: float64\n",
      "PhysInactivity: float64\n",
      "Smoker: float64\n",
      "AirQuality: float64\n",
      "Parks: float64\n",
      "Broadband: float64\n",
      "EdLessColl: float64\n",
      "SNAPrecipients: float64\n",
      "MedHomeValue: int64\n",
      "MedHouseIncome: float64\n",
      "Poverty: float64\n",
      "Unemploy: float64\n",
      "UrbanRural: object\n",
      "county: object\n",
      "state: object\n",
      "pcp: float64\n",
      "IsRural: bool\n",
      "CHD_Class: object\n",
      "region: object\n"
     ]
    }
   ],
   "source": [
    "for column in cdc.columns:\n",
    "    print(f\"{column}: {cdc[column].dtype}\")"
   ]
  },
  {
   "cell_type": "markdown",
   "id": "6c4bfb46",
   "metadata": {},
   "source": [
    "### Export data frame to csv file"
   ]
  },
  {
   "cell_type": "code",
   "execution_count": 28,
   "id": "ba9b30a3",
   "metadata": {},
   "outputs": [],
   "source": [
    "cdc.to_csv('data/CDC_python_clean.csv', index=False)"
   ]
  },
  {
   "cell_type": "markdown",
   "id": "918407ba",
   "metadata": {},
   "source": [
    "# Data Visualization"
   ]
  },
  {
   "cell_type": "markdown",
   "id": "6382e1a8",
   "metadata": {},
   "source": [
    "## Load libraries and read in data"
   ]
  },
  {
   "cell_type": "code",
   "execution_count": 29,
   "id": "f80075af",
   "metadata": {},
   "outputs": [],
   "source": [
    "chd = pd.read_csv(\"data/CDC_for_python.csv\")\n",
    "chd = chd.loc[chd.CHD > 0]"
   ]
  },
  {
   "cell_type": "markdown",
   "id": "99633b14",
   "metadata": {},
   "source": [
    "## Scatter plot for a variety of variables against variable of interest"
   ]
  },
  {
   "cell_type": "code",
   "execution_count": 30,
   "id": "f2709492",
   "metadata": {},
   "outputs": [
    {
     "data": {
      "image/png": "[encoded data removed]",
      "text/plain": [
       "<Figure size 1500x1200 with 12 Axes>"
      ]
     },
     "metadata": {},
     "output_type": "display_data"
    }
   ],
   "source": [
    "#Scatter plot for a variety of variables against variable of interest\n",
    "# Create a 3x4 grid of subplots (12 subplots in total)\n",
    "num_rows = 3\n",
    "num_cols = 4\n",
    "\n",
    "# Adjust the figure size according to your preference\n",
    "fig, axes = plt.subplots(num_rows, num_cols, figsize=(15, 12))\n",
    "\n",
    "# Flatten the axes array for easier iteration\n",
    "axes = axes.ravel()\n",
    "\n",
    "col_list = ('Stroke', 'Diabetes', 'Smoker', 'PhysInactivity',\n",
    "            'HealthIns', 'HospCR', 'Pharmacies', 'PrimaryCarePhys',\n",
    "            'Poverty', 'MedHouseIncome', 'UrbanRural', 'Parks'\n",
    "            )\n",
    "\n",
    "# Plot each independent variable against the dependent variable in each subplot\n",
    "for i, ax in enumerate(axes):\n",
    "    ax.scatter(chd[col_list[i]], chd.CHD, s=1, alpha=0.1)\n",
    "    ax.set_title(f\"{col_list[i]}\")\n",
    "    ax.set_ylabel(\"CHD\")\n",
    "\n",
    "# Adjust spacing between subplots for better visualization\n",
    "plt.tight_layout()\n",
    "\n",
    "# Display the plot\n",
    "plt.show()"
   ]
  },
  {
   "cell_type": "markdown",
   "id": "53806281",
   "metadata": {},
   "source": [
    "## Function for heat map where cells are filled by average of variable of interest"
   ]
  },
  {
   "cell_type": "code",
   "execution_count": 31,
   "id": "959f1361",
   "metadata": {},
   "outputs": [],
   "source": [
    "import matplotlib.pyplot as plt2\n",
    "\n",
    "# Create a heatmap with automatically binned continuous variables and average Z value in each bin\n",
    "def create_heatmap(x_data, y_data, z_data, x_label, y_label, z_label):\n",
    "    # Combine the data into a DataFrame\n",
    "    data = pd.DataFrame({'X': x_data, 'Y': y_data, 'Z': z_data})\n",
    "\n",
    "    # Determine the number of bins (you can adjust this as needed)\n",
    "    num_bins = 20\n",
    "\n",
    "    # Use pandas cut function to create bins for X and Y variables\n",
    "    data['X_bin'] = pd.cut(data['X'], bins=num_bins, labels=False)\n",
    "    data['Y_bin'] = pd.cut(data['Y'], bins=num_bins, labels=False)\n",
    "\n",
    "    # Group the data by the bins and calculate the average Z value in each bin\n",
    "    heatmap_data = data.groupby(['X_bin', 'Y_bin'])['Z'].mean().unstack()\n",
    "\n",
    "    # Create the heatmap using a separate figure\n",
    "    plt2.figure(figsize=(8, 6))\n",
    "    sns.heatmap(heatmap_data, cmap='viridis', annot=False, fmt=\".2f\", cbar_kws={'label': z_label})\n",
    "    plt2.xlabel(x_label)\n",
    "    plt2.ylabel(y_label)\n",
    "    plt2.title(f'Heatmap of {z_label} by {x_label} and {y_label}')\n",
    "    plt2.show()"
   ]
  },
  {
   "cell_type": "markdown",
   "id": "45e6f502",
   "metadata": {},
   "source": [
    "### Call the function with data and labels"
   ]
  },
  {
   "cell_type": "code",
   "execution_count": 32,
   "id": "b25cc619",
   "metadata": {},
   "outputs": [
    {
     "data": {
      "image/png": "[encoded data removed]",
      "text/plain": [
       "<Figure size 800x600 with 2 Axes>"
      ]
     },
     "metadata": {},
     "output_type": "display_data"
    }
   ],
   "source": [
    "create_heatmap(chd.PhysInactivity, chd.Poverty, chd.CHD, 'PhysInactivity', 'Poverty', 'Avg. CHD')"
   ]
  },
  {
   "cell_type": "markdown",
   "id": "afa5a457",
   "metadata": {},
   "source": [
    "# Machine Learning Models - Random Forest"
   ]
  },
  {
   "cell_type": "markdown",
   "id": "844aad46",
   "metadata": {},
   "source": [
    "## Random Forest - Setup"
   ]
  },
  {
   "cell_type": "markdown",
   "id": "108c5b96",
   "metadata": {},
   "source": [
    "### Import libraries"
   ]
  },
  {
   "cell_type": "code",
   "execution_count": 33,
   "id": "7e05ba3c",
   "metadata": {},
   "outputs": [],
   "source": [
    "from sklearn.model_selection import train_test_split\n",
    "from scipy.stats import randint\n",
    "from sklearn.preprocessing import OneHotEncoder, StandardScaler\n",
    "from sklearn.model_selection import GridSearchCV, RandomizedSearchCV\n",
    "from sklearn.ensemble import RandomForestClassifier"
   ]
  },
  {
   "cell_type": "markdown",
   "id": "2ffab907",
   "metadata": {},
   "source": [
    "### Import data"
   ]
  },
  {
   "cell_type": "code",
   "execution_count": 34,
   "id": "74962d70",
   "metadata": {},
   "outputs": [],
   "source": [
    "chd = pd.read_csv(\"data/CDC_python_clean.csv\")"
   ]
  },
  {
   "cell_type": "markdown",
   "id": "cbc39ce2",
   "metadata": {},
   "source": [
    "### View data structure"
   ]
  },
  {
   "cell_type": "code",
   "execution_count": 35,
   "id": "d94b57ea",
   "metadata": {},
   "outputs": [
    {
     "data": {
      "text/plain": [
       "Low       1090\n",
       "Medium    1040\n",
       "High      1010\n",
       "Name: CHD_Class, dtype: int64"
      ]
     },
     "execution_count": 35,
     "metadata": {},
     "output_type": "execute_result"
    }
   ],
   "source": [
    "chd.CHD_Class.value_counts()"
   ]
  },
  {
   "cell_type": "markdown",
   "id": "1b509bce",
   "metadata": {},
   "source": [
    "## Random Forest - Data Cleaning (Preprocessing)"
   ]
  },
  {
   "cell_type": "markdown",
   "id": "91056be4",
   "metadata": {},
   "source": [
    "### Drop unneeded columns"
   ]
  },
  {
   "cell_type": "code",
   "execution_count": 36,
   "id": "b8728d8c",
   "metadata": {},
   "outputs": [],
   "source": [
    "columns_to_drop = ['fips', 'CHD', 'county','UrbanRural']\n",
    "chd = chd.drop(columns=columns_to_drop)"
   ]
  },
  {
   "cell_type": "markdown",
   "id": "d0a76ec6",
   "metadata": {},
   "source": [
    "### Establish X and y"
   ]
  },
  {
   "cell_type": "code",
   "execution_count": 37,
   "id": "a2244f2e",
   "metadata": {},
   "outputs": [],
   "source": [
    "X = chd.drop(columns=['CHD_Class'])\n",
    "y = chd['CHD_Class']"
   ]
  },
  {
   "cell_type": "markdown",
   "id": "8839f4d4",
   "metadata": {},
   "source": [
    "### Additional preprocessing"
   ]
  },
  {
   "cell_type": "code",
   "execution_count": 38,
   "id": "599d90fd",
   "metadata": {},
   "outputs": [],
   "source": [
    "# Get the character columns that need to be dummy encoded\n",
    "char_cols = X.select_dtypes(include=['object']).columns\n",
    "\n",
    "# Create a one-hot encoder and apply it to the character columns\n",
    "encoder = OneHotEncoder()\n",
    "X = pd.get_dummies(X, columns=char_cols, drop_first=True)\n",
    "\n",
    "# Scale and Center\n",
    "numeric_columns = X.select_dtypes(include=['float64', 'int64']).columns\n",
    "scaler = StandardScaler()\n",
    "X[numeric_columns] = scaler.fit_transform(X[numeric_columns])\n"
   ]
  },
  {
   "cell_type": "markdown",
   "id": "7dc9f037",
   "metadata": {},
   "source": [
    "### View preprocessed data"
   ]
  },
  {
   "cell_type": "code",
   "execution_count": 39,
   "id": "bfb6076a",
   "metadata": {},
   "outputs": [
    {
     "data": {
      "text/html": [
       "<div>\n",
       "<style scoped>\n",
       "    .dataframe tbody tr th:only-of-type {\n",
       "        vertical-align: middle;\n",
       "    }\n",
       "\n",
       "    .dataframe tbody tr th {\n",
       "        vertical-align: top;\n",
       "    }\n",
       "\n",
       "    .dataframe thead th {\n",
       "        text-align: right;\n",
       "    }\n",
       "</style>\n",
       "<table border=\"1\" class=\"dataframe\">\n",
       "  <thead>\n",
       "    <tr style=\"text-align: right;\">\n",
       "      <th></th>\n",
       "      <th>Age65Plus</th>\n",
       "      <th>AIAN</th>\n",
       "      <th>AIANmen</th>\n",
       "      <th>AIANwomen</th>\n",
       "      <th>ANHPI</th>\n",
       "      <th>ANHPImen</th>\n",
       "      <th>ANHPIwomen</th>\n",
       "      <th>Black</th>\n",
       "      <th>BlackMen</th>\n",
       "      <th>BlackWomen</th>\n",
       "      <th>...</th>\n",
       "      <th>state_UT</th>\n",
       "      <th>state_VA</th>\n",
       "      <th>state_VT</th>\n",
       "      <th>state_WA</th>\n",
       "      <th>state_WI</th>\n",
       "      <th>state_WV</th>\n",
       "      <th>state_WY</th>\n",
       "      <th>region_Northeast</th>\n",
       "      <th>region_South</th>\n",
       "      <th>region_West</th>\n",
       "    </tr>\n",
       "  </thead>\n",
       "  <tbody>\n",
       "    <tr>\n",
       "      <th>0</th>\n",
       "      <td>-0.445838</td>\n",
       "      <td>-0.068777</td>\n",
       "      <td>-0.075373</td>\n",
       "      <td>-0.062421</td>\n",
       "      <td>0.990972</td>\n",
       "      <td>1.025591</td>\n",
       "      <td>0.960094</td>\n",
       "      <td>0.076628</td>\n",
       "      <td>0.088451</td>\n",
       "      <td>0.066900</td>\n",
       "      <td>...</td>\n",
       "      <td>0</td>\n",
       "      <td>0</td>\n",
       "      <td>0</td>\n",
       "      <td>0</td>\n",
       "      <td>0</td>\n",
       "      <td>0</td>\n",
       "      <td>0</td>\n",
       "      <td>1</td>\n",
       "      <td>0</td>\n",
       "      <td>0</td>\n",
       "    </tr>\n",
       "    <tr>\n",
       "      <th>1</th>\n",
       "      <td>-0.320688</td>\n",
       "      <td>0.056428</td>\n",
       "      <td>0.152814</td>\n",
       "      <td>-0.033582</td>\n",
       "      <td>0.615752</td>\n",
       "      <td>0.620306</td>\n",
       "      <td>0.611373</td>\n",
       "      <td>0.562760</td>\n",
       "      <td>0.578816</td>\n",
       "      <td>0.549019</td>\n",
       "      <td>...</td>\n",
       "      <td>0</td>\n",
       "      <td>0</td>\n",
       "      <td>0</td>\n",
       "      <td>0</td>\n",
       "      <td>0</td>\n",
       "      <td>0</td>\n",
       "      <td>0</td>\n",
       "      <td>1</td>\n",
       "      <td>0</td>\n",
       "      <td>0</td>\n",
       "    </tr>\n",
       "    <tr>\n",
       "      <th>2</th>\n",
       "      <td>-1.509615</td>\n",
       "      <td>0.743369</td>\n",
       "      <td>0.950305</td>\n",
       "      <td>0.548247</td>\n",
       "      <td>2.357646</td>\n",
       "      <td>2.537354</td>\n",
       "      <td>2.199181</td>\n",
       "      <td>1.261923</td>\n",
       "      <td>1.321092</td>\n",
       "      <td>1.212223</td>\n",
       "      <td>...</td>\n",
       "      <td>0</td>\n",
       "      <td>0</td>\n",
       "      <td>0</td>\n",
       "      <td>0</td>\n",
       "      <td>0</td>\n",
       "      <td>0</td>\n",
       "      <td>0</td>\n",
       "      <td>1</td>\n",
       "      <td>0</td>\n",
       "      <td>0</td>\n",
       "    </tr>\n",
       "    <tr>\n",
       "      <th>3</th>\n",
       "      <td>-0.237254</td>\n",
       "      <td>-0.185011</td>\n",
       "      <td>-0.182117</td>\n",
       "      <td>-0.187150</td>\n",
       "      <td>-0.074985</td>\n",
       "      <td>-0.070168</td>\n",
       "      <td>-0.079142</td>\n",
       "      <td>-0.142450</td>\n",
       "      <td>-0.140980</td>\n",
       "      <td>-0.143484</td>\n",
       "      <td>...</td>\n",
       "      <td>0</td>\n",
       "      <td>0</td>\n",
       "      <td>0</td>\n",
       "      <td>0</td>\n",
       "      <td>0</td>\n",
       "      <td>0</td>\n",
       "      <td>0</td>\n",
       "      <td>1</td>\n",
       "      <td>0</td>\n",
       "      <td>0</td>\n",
       "    </tr>\n",
       "    <tr>\n",
       "      <th>4</th>\n",
       "      <td>-0.988156</td>\n",
       "      <td>0.297119</td>\n",
       "      <td>0.428957</td>\n",
       "      <td>0.173339</td>\n",
       "      <td>0.521227</td>\n",
       "      <td>0.515715</td>\n",
       "      <td>0.525699</td>\n",
       "      <td>1.967251</td>\n",
       "      <td>1.977040</td>\n",
       "      <td>1.957000</td>\n",
       "      <td>...</td>\n",
       "      <td>0</td>\n",
       "      <td>0</td>\n",
       "      <td>0</td>\n",
       "      <td>0</td>\n",
       "      <td>0</td>\n",
       "      <td>0</td>\n",
       "      <td>0</td>\n",
       "      <td>1</td>\n",
       "      <td>0</td>\n",
       "      <td>0</td>\n",
       "    </tr>\n",
       "    <tr>\n",
       "      <th>...</th>\n",
       "      <td>...</td>\n",
       "      <td>...</td>\n",
       "      <td>...</td>\n",
       "      <td>...</td>\n",
       "      <td>...</td>\n",
       "      <td>...</td>\n",
       "      <td>...</td>\n",
       "      <td>...</td>\n",
       "      <td>...</td>\n",
       "      <td>...</td>\n",
       "      <td>...</td>\n",
       "      <td>...</td>\n",
       "      <td>...</td>\n",
       "      <td>...</td>\n",
       "      <td>...</td>\n",
       "      <td>...</td>\n",
       "      <td>...</td>\n",
       "      <td>...</td>\n",
       "      <td>...</td>\n",
       "      <td>...</td>\n",
       "      <td>...</td>\n",
       "    </tr>\n",
       "    <tr>\n",
       "      <th>3135</th>\n",
       "      <td>-1.009014</td>\n",
       "      <td>-0.232850</td>\n",
       "      <td>-0.234716</td>\n",
       "      <td>-0.230409</td>\n",
       "      <td>-0.109722</td>\n",
       "      <td>-0.110321</td>\n",
       "      <td>-0.109128</td>\n",
       "      <td>-0.146197</td>\n",
       "      <td>-0.140136</td>\n",
       "      <td>-0.150970</td>\n",
       "      <td>...</td>\n",
       "      <td>0</td>\n",
       "      <td>0</td>\n",
       "      <td>0</td>\n",
       "      <td>0</td>\n",
       "      <td>0</td>\n",
       "      <td>0</td>\n",
       "      <td>0</td>\n",
       "      <td>0</td>\n",
       "      <td>1</td>\n",
       "      <td>0</td>\n",
       "    </tr>\n",
       "    <tr>\n",
       "      <th>3136</th>\n",
       "      <td>-1.363606</td>\n",
       "      <td>0.102398</td>\n",
       "      <td>-0.090843</td>\n",
       "      <td>0.282207</td>\n",
       "      <td>-0.019179</td>\n",
       "      <td>-0.047093</td>\n",
       "      <td>0.005209</td>\n",
       "      <td>0.601795</td>\n",
       "      <td>0.604778</td>\n",
       "      <td>0.598668</td>\n",
       "      <td>...</td>\n",
       "      <td>0</td>\n",
       "      <td>0</td>\n",
       "      <td>0</td>\n",
       "      <td>0</td>\n",
       "      <td>0</td>\n",
       "      <td>0</td>\n",
       "      <td>0</td>\n",
       "      <td>0</td>\n",
       "      <td>1</td>\n",
       "      <td>0</td>\n",
       "    </tr>\n",
       "    <tr>\n",
       "      <th>3137</th>\n",
       "      <td>-0.883864</td>\n",
       "      <td>-0.113626</td>\n",
       "      <td>-0.095484</td>\n",
       "      <td>-0.130193</td>\n",
       "      <td>-0.050782</td>\n",
       "      <td>-0.060478</td>\n",
       "      <td>-0.042282</td>\n",
       "      <td>0.029293</td>\n",
       "      <td>0.037056</td>\n",
       "      <td>0.022930</td>\n",
       "      <td>...</td>\n",
       "      <td>0</td>\n",
       "      <td>0</td>\n",
       "      <td>0</td>\n",
       "      <td>0</td>\n",
       "      <td>0</td>\n",
       "      <td>0</td>\n",
       "      <td>0</td>\n",
       "      <td>0</td>\n",
       "      <td>1</td>\n",
       "      <td>0</td>\n",
       "    </tr>\n",
       "    <tr>\n",
       "      <th>3138</th>\n",
       "      <td>-0.967297</td>\n",
       "      <td>-0.209678</td>\n",
       "      <td>-0.216925</td>\n",
       "      <td>-0.202291</td>\n",
       "      <td>-0.118082</td>\n",
       "      <td>-0.115529</td>\n",
       "      <td>-0.120234</td>\n",
       "      <td>-0.225666</td>\n",
       "      <td>-0.233850</td>\n",
       "      <td>-0.218732</td>\n",
       "      <td>...</td>\n",
       "      <td>0</td>\n",
       "      <td>0</td>\n",
       "      <td>0</td>\n",
       "      <td>0</td>\n",
       "      <td>0</td>\n",
       "      <td>0</td>\n",
       "      <td>0</td>\n",
       "      <td>0</td>\n",
       "      <td>0</td>\n",
       "      <td>0</td>\n",
       "    </tr>\n",
       "    <tr>\n",
       "      <th>3139</th>\n",
       "      <td>-0.341546</td>\n",
       "      <td>-0.207436</td>\n",
       "      <td>-0.206096</td>\n",
       "      <td>-0.208059</td>\n",
       "      <td>-0.131977</td>\n",
       "      <td>-0.133092</td>\n",
       "      <td>-0.130916</td>\n",
       "      <td>-0.170220</td>\n",
       "      <td>-0.176651</td>\n",
       "      <td>-0.164781</td>\n",
       "      <td>...</td>\n",
       "      <td>0</td>\n",
       "      <td>0</td>\n",
       "      <td>0</td>\n",
       "      <td>0</td>\n",
       "      <td>0</td>\n",
       "      <td>0</td>\n",
       "      <td>0</td>\n",
       "      <td>0</td>\n",
       "      <td>1</td>\n",
       "      <td>0</td>\n",
       "    </tr>\n",
       "  </tbody>\n",
       "</table>\n",
       "<p>3140 rows × 109 columns</p>\n",
       "</div>"
      ],
      "text/plain": [
       "      Age65Plus      AIAN   AIANmen  AIANwomen     ANHPI  ANHPImen  \\\n",
       "0     -0.445838 -0.068777 -0.075373  -0.062421  0.990972  1.025591   \n",
       "1     -0.320688  0.056428  0.152814  -0.033582  0.615752  0.620306   \n",
       "2     -1.509615  0.743369  0.950305   0.548247  2.357646  2.537354   \n",
       "3     -0.237254 -0.185011 -0.182117  -0.187150 -0.074985 -0.070168   \n",
       "4     -0.988156  0.297119  0.428957   0.173339  0.521227  0.515715   \n",
       "...         ...       ...       ...        ...       ...       ...   \n",
       "3135  -1.009014 -0.232850 -0.234716  -0.230409 -0.109722 -0.110321   \n",
       "3136  -1.363606  0.102398 -0.090843   0.282207 -0.019179 -0.047093   \n",
       "3137  -0.883864 -0.113626 -0.095484  -0.130193 -0.050782 -0.060478   \n",
       "3138  -0.967297 -0.209678 -0.216925  -0.202291 -0.118082 -0.115529   \n",
       "3139  -0.341546 -0.207436 -0.206096  -0.208059 -0.131977 -0.133092   \n",
       "\n",
       "      ANHPIwomen     Black  BlackMen  BlackWomen  ...  state_UT  state_VA  \\\n",
       "0       0.960094  0.076628  0.088451    0.066900  ...         0         0   \n",
       "1       0.611373  0.562760  0.578816    0.549019  ...         0         0   \n",
       "2       2.199181  1.261923  1.321092    1.212223  ...         0         0   \n",
       "3      -0.079142 -0.142450 -0.140980   -0.143484  ...         0         0   \n",
       "4       0.525699  1.967251  1.977040    1.957000  ...         0         0   \n",
       "...          ...       ...       ...         ...  ...       ...       ...   \n",
       "3135   -0.109128 -0.146197 -0.140136   -0.150970  ...         0         0   \n",
       "3136    0.005209  0.601795  0.604778    0.598668  ...         0         0   \n",
       "3137   -0.042282  0.029293  0.037056    0.022930  ...         0         0   \n",
       "3138   -0.120234 -0.225666 -0.233850   -0.218732  ...         0         0   \n",
       "3139   -0.130916 -0.170220 -0.176651   -0.164781  ...         0         0   \n",
       "\n",
       "      state_VT  state_WA  state_WI  state_WV  state_WY  region_Northeast  \\\n",
       "0            0         0         0         0         0                 1   \n",
       "1            0         0         0         0         0                 1   \n",
       "2            0         0         0         0         0                 1   \n",
       "3            0         0         0         0         0                 1   \n",
       "4            0         0         0         0         0                 1   \n",
       "...        ...       ...       ...       ...       ...               ...   \n",
       "3135         0         0         0         0         0                 0   \n",
       "3136         0         0         0         0         0                 0   \n",
       "3137         0         0         0         0         0                 0   \n",
       "3138         0         0         0         0         0                 0   \n",
       "3139         0         0         0         0         0                 0   \n",
       "\n",
       "      region_South  region_West  \n",
       "0                0            0  \n",
       "1                0            0  \n",
       "2                0            0  \n",
       "3                0            0  \n",
       "4                0            0  \n",
       "...            ...          ...  \n",
       "3135             1            0  \n",
       "3136             1            0  \n",
       "3137             1            0  \n",
       "3138             0            0  \n",
       "3139             1            0  \n",
       "\n",
       "[3140 rows x 109 columns]"
      ]
     },
     "execution_count": 39,
     "metadata": {},
     "output_type": "execute_result"
    }
   ],
   "source": [
    "# Final modeling dataset\n",
    "X"
   ]
  },
  {
   "cell_type": "markdown",
   "id": "b7ed724d",
   "metadata": {},
   "source": [
    "## Random Forest - Modeling"
   ]
  },
  {
   "cell_type": "markdown",
   "id": "2f26012c",
   "metadata": {},
   "source": [
    "### Split data"
   ]
  },
  {
   "cell_type": "code",
   "execution_count": 40,
   "id": "cd098d60",
   "metadata": {},
   "outputs": [],
   "source": [
    "Xtrain, Xtest, ytrain, ytest = train_test_split(X, y, random_state=42)"
   ]
  },
  {
   "cell_type": "markdown",
   "id": "9cd86d67",
   "metadata": {},
   "source": [
    "### Establish Parameters"
   ]
  },
  {
   "cell_type": "code",
   "execution_count": 41,
   "id": "c1e27732",
   "metadata": {},
   "outputs": [],
   "source": [
    "rf_classifier = RandomForestClassifier()\n",
    "\n",
    "param_dist = {\n",
    "    'n_estimators': randint(1, 1000),\n",
    "    'max_depth': randint(1, 50),\n",
    "    'min_samples_split': randint(2, 10),\n",
    "    'min_samples_leaf': randint(1, 10),\n",
    "    'bootstrap': [True, False],\n",
    "    'criterion': ['gini', 'entropy']\n",
    "}"
   ]
  },
  {
   "cell_type": "markdown",
   "id": "ad77c22f",
   "metadata": {},
   "source": [
    "### Additional Parameters"
   ]
  },
  {
   "cell_type": "code",
   "execution_count": 42,
   "id": "f514603a",
   "metadata": {},
   "outputs": [],
   "source": [
    "random_search = RandomizedSearchCV(\n",
    "    estimator=rf_classifier,\n",
    "    param_distributions=param_dist,\n",
    "    n_iter=50,  # Adjust the number of iterations as needed\n",
    "    cv=5,        # Number of cross-validation folds\n",
    "    n_jobs=-1,   # Use all available CPU cores for parallel processing\n",
    "    random_state=42,\n",
    "    verbose=True\n",
    ")"
   ]
  },
  {
   "cell_type": "markdown",
   "id": "fc751687",
   "metadata": {},
   "source": [
    "### Fit model"
   ]
  },
  {
   "cell_type": "code",
   "execution_count": 43,
   "id": "f909ff10",
   "metadata": {},
   "outputs": [
    {
     "name": "stdout",
     "output_type": "stream",
     "text": [
      "Fitting 5 folds for each of 50 candidates, totalling 250 fits\n"
     ]
    },
    {
     "data": {
      "text/html": [
       "<style>#sk-container-id-1 {color: black;background-color: white;}#sk-container-id-1 pre{padding: 0;}#sk-container-id-1 div.sk-toggleable {background-color: white;}#sk-container-id-1 label.sk-toggleable__label {cursor: pointer;display: block;width: 100%;margin-bottom: 0;padding: 0.3em;box-sizing: border-box;text-align: center;}#sk-container-id-1 label.sk-toggleable__label-arrow:before {content: \"▸\";float: left;margin-right: 0.25em;color: #696969;}#sk-container-id-1 label.sk-toggleable__label-arrow:hover:before {color: black;}#sk-container-id-1 div.sk-estimator:hover label.sk-toggleable__label-arrow:before {color: black;}#sk-container-id-1 div.sk-toggleable__content {max-height: 0;max-width: 0;overflow: hidden;text-align: left;background-color: #f0f8ff;}#sk-container-id-1 div.sk-toggleable__content pre {margin: 0.2em;color: black;border-radius: 0.25em;background-color: #f0f8ff;}#sk-container-id-1 input.sk-toggleable__control:checked~div.sk-toggleable__content {max-height: 200px;max-width: 100%;overflow: auto;}#sk-container-id-1 input.sk-toggleable__control:checked~label.sk-toggleable__label-arrow:before {content: \"▾\";}#sk-container-id-1 div.sk-estimator input.sk-toggleable__control:checked~label.sk-toggleable__label {background-color: #d4ebff;}#sk-container-id-1 div.sk-label input.sk-toggleable__control:checked~label.sk-toggleable__label {background-color: #d4ebff;}#sk-container-id-1 input.sk-hidden--visually {border: 0;clip: rect(1px 1px 1px 1px);clip: rect(1px, 1px, 1px, 1px);height: 1px;margin: -1px;overflow: hidden;padding: 0;position: absolute;width: 1px;}#sk-container-id-1 div.sk-estimator {font-family: monospace;background-color: #f0f8ff;border: 1px dotted black;border-radius: 0.25em;box-sizing: border-box;margin-bottom: 0.5em;}#sk-container-id-1 div.sk-estimator:hover {background-color: #d4ebff;}#sk-container-id-1 div.sk-parallel-item::after {content: \"\";width: 100%;border-bottom: 1px solid gray;flex-grow: 1;}#sk-container-id-1 div.sk-label:hover label.sk-toggleable__label {background-color: #d4ebff;}#sk-container-id-1 div.sk-serial::before {content: \"\";position: absolute;border-left: 1px solid gray;box-sizing: border-box;top: 0;bottom: 0;left: 50%;z-index: 0;}#sk-container-id-1 div.sk-serial {display: flex;flex-direction: column;align-items: center;background-color: white;padding-right: 0.2em;padding-left: 0.2em;position: relative;}#sk-container-id-1 div.sk-item {position: relative;z-index: 1;}#sk-container-id-1 div.sk-parallel {display: flex;align-items: stretch;justify-content: center;background-color: white;position: relative;}#sk-container-id-1 div.sk-item::before, #sk-container-id-1 div.sk-parallel-item::before {content: \"\";position: absolute;border-left: 1px solid gray;box-sizing: border-box;top: 0;bottom: 0;left: 50%;z-index: -1;}#sk-container-id-1 div.sk-parallel-item {display: flex;flex-direction: column;z-index: 1;position: relative;background-color: white;}#sk-container-id-1 div.sk-parallel-item:first-child::after {align-self: flex-end;width: 50%;}#sk-container-id-1 div.sk-parallel-item:last-child::after {align-self: flex-start;width: 50%;}#sk-container-id-1 div.sk-parallel-item:only-child::after {width: 0;}#sk-container-id-1 div.sk-dashed-wrapped {border: 1px dashed gray;margin: 0 0.4em 0.5em 0.4em;box-sizing: border-box;padding-bottom: 0.4em;background-color: white;}#sk-container-id-1 div.sk-label label {font-family: monospace;font-weight: bold;display: inline-block;line-height: 1.2em;}#sk-container-id-1 div.sk-label-container {text-align: center;}#sk-container-id-1 div.sk-container {/* jupyter's `normalize.less` sets `[hidden] { display: none; }` but bootstrap.min.css set `[hidden] { display: none !important; }` so we also need the `!important` here to be able to override the default hidden behavior on the sphinx rendered scikit-learn.org. See: https://github.com/scikit-learn/scikit-learn/issues/21755 */display: inline-block !important;position: relative;}#sk-container-id-1 div.sk-text-repr-fallback {display: none;}</style><div id=\"sk-container-id-1\" class=\"sk-top-container\"><div class=\"sk-text-repr-fallback\"><pre>RandomizedSearchCV(cv=5, estimator=RandomForestClassifier(), n_iter=50,\n",
       "                   n_jobs=-1,\n",
       "                   param_distributions={&#x27;bootstrap&#x27;: [True, False],\n",
       "                                        &#x27;criterion&#x27;: [&#x27;gini&#x27;, &#x27;entropy&#x27;],\n",
       "                                        &#x27;max_depth&#x27;: &lt;scipy.stats._distn_infrastructure.rv_discrete_frozen object at 0x000001C781A497E0&gt;,\n",
       "                                        &#x27;min_samples_leaf&#x27;: &lt;scipy.stats._distn_infrastructure.rv_discrete_frozen object at 0x000001C781A4A200&gt;,\n",
       "                                        &#x27;min_samples_split&#x27;: &lt;scipy.stats._distn_infrastructure.rv_discrete_frozen object at 0x000001C781A49D50&gt;,\n",
       "                                        &#x27;n_estimators&#x27;: &lt;scipy.stats._distn_infrastructure.rv_discrete_frozen object at 0x000001C781927700&gt;},\n",
       "                   random_state=42, verbose=True)</pre><b>In a Jupyter environment, please rerun this cell to show the HTML representation or trust the notebook. <br />On GitHub, the HTML representation is unable to render, please try loading this page with nbviewer.org.</b></div><div class=\"sk-container\" hidden><div class=\"sk-item sk-dashed-wrapped\"><div class=\"sk-label-container\"><div class=\"sk-label sk-toggleable\"><input class=\"sk-toggleable__control sk-hidden--visually\" id=\"sk-estimator-id-1\" type=\"checkbox\" ><label for=\"sk-estimator-id-1\" class=\"sk-toggleable__label sk-toggleable__label-arrow\">RandomizedSearchCV</label><div class=\"sk-toggleable__content\"><pre>RandomizedSearchCV(cv=5, estimator=RandomForestClassifier(), n_iter=50,\n",
       "                   n_jobs=-1,\n",
       "                   param_distributions={&#x27;bootstrap&#x27;: [True, False],\n",
       "                                        &#x27;criterion&#x27;: [&#x27;gini&#x27;, &#x27;entropy&#x27;],\n",
       "                                        &#x27;max_depth&#x27;: &lt;scipy.stats._distn_infrastructure.rv_discrete_frozen object at 0x000001C781A497E0&gt;,\n",
       "                                        &#x27;min_samples_leaf&#x27;: &lt;scipy.stats._distn_infrastructure.rv_discrete_frozen object at 0x000001C781A4A200&gt;,\n",
       "                                        &#x27;min_samples_split&#x27;: &lt;scipy.stats._distn_infrastructure.rv_discrete_frozen object at 0x000001C781A49D50&gt;,\n",
       "                                        &#x27;n_estimators&#x27;: &lt;scipy.stats._distn_infrastructure.rv_discrete_frozen object at 0x000001C781927700&gt;},\n",
       "                   random_state=42, verbose=True)</pre></div></div></div><div class=\"sk-parallel\"><div class=\"sk-parallel-item\"><div class=\"sk-item\"><div class=\"sk-label-container\"><div class=\"sk-label sk-toggleable\"><input class=\"sk-toggleable__control sk-hidden--visually\" id=\"sk-estimator-id-2\" type=\"checkbox\" ><label for=\"sk-estimator-id-2\" class=\"sk-toggleable__label sk-toggleable__label-arrow\">estimator: RandomForestClassifier</label><div class=\"sk-toggleable__content\"><pre>RandomForestClassifier()</pre></div></div></div><div class=\"sk-serial\"><div class=\"sk-item\"><div class=\"sk-estimator sk-toggleable\"><input class=\"sk-toggleable__control sk-hidden--visually\" id=\"sk-estimator-id-3\" type=\"checkbox\" ><label for=\"sk-estimator-id-3\" class=\"sk-toggleable__label sk-toggleable__label-arrow\">RandomForestClassifier</label><div class=\"sk-toggleable__content\"><pre>RandomForestClassifier()</pre></div></div></div></div></div></div></div></div></div></div>"
      ],
      "text/plain": [
       "RandomizedSearchCV(cv=5, estimator=RandomForestClassifier(), n_iter=50,\n",
       "                   n_jobs=-1,\n",
       "                   param_distributions={'bootstrap': [True, False],\n",
       "                                        'criterion': ['gini', 'entropy'],\n",
       "                                        'max_depth': <scipy.stats._distn_infrastructure.rv_discrete_frozen object at 0x000001C781A497E0>,\n",
       "                                        'min_samples_leaf': <scipy.stats._distn_infrastructure.rv_discrete_frozen object at 0x000001C781A4A200>,\n",
       "                                        'min_samples_split': <scipy.stats._distn_infrastructure.rv_discrete_frozen object at 0x000001C781A49D50>,\n",
       "                                        'n_estimators': <scipy.stats._distn_infrastructure.rv_discrete_frozen object at 0x000001C781927700>},\n",
       "                   random_state=42, verbose=True)"
      ]
     },
     "execution_count": 43,
     "metadata": {},
     "output_type": "execute_result"
    }
   ],
   "source": [
    "random_search.fit(Xtrain, ytrain)"
   ]
  },
  {
   "cell_type": "markdown",
   "id": "83ab2984",
   "metadata": {},
   "source": [
    "### Store best model"
   ]
  },
  {
   "cell_type": "code",
   "execution_count": 44,
   "id": "526b736e",
   "metadata": {},
   "outputs": [],
   "source": [
    "best_rf_classifier = random_search.best_estimator_"
   ]
  },
  {
   "cell_type": "markdown",
   "id": "2055c968",
   "metadata": {},
   "source": [
    "# Random Forest - Model Results"
   ]
  },
  {
   "cell_type": "markdown",
   "id": "34401709",
   "metadata": {},
   "source": [
    "## Accuracy"
   ]
  },
  {
   "cell_type": "code",
   "execution_count": 45,
   "id": "f6e6dddf",
   "metadata": {},
   "outputs": [
    {
     "name": "stdout",
     "output_type": "stream",
     "text": [
      "Accuracy of the Random Forest Classifier: 88.79%\n"
     ]
    }
   ],
   "source": [
    "accuracy = best_rf_classifier.score(Xtest, ytest)\n",
    "print(\"Accuracy of the Random Forest Classifier: {:.2f}%\".format(accuracy * 100))"
   ]
  },
  {
   "cell_type": "markdown",
   "id": "9c926b0c",
   "metadata": {},
   "source": [
    "## Feature importance"
   ]
  },
  {
   "cell_type": "code",
   "execution_count": 46,
   "id": "385a9506",
   "metadata": {},
   "outputs": [
    {
     "data": {
      "image/png": "[encoded data removed]",
      "text/plain": [
       "<Figure size 800x1200 with 1 Axes>"
      ]
     },
     "metadata": {},
     "output_type": "display_data"
    }
   ],
   "source": [
    "feature_importance_df = pd.DataFrame({'Feature': X.columns, 'Importance': best_rf_classifier.feature_importances_})\n",
    "\n",
    "top_20_features = feature_importance_df.nlargest(50, 'Importance')\n",
    "\n",
    "import matplotlib.pyplot as plt\n",
    "\n",
    "# Create a horizontal bar plot with rotated axes\n",
    "plt.figure(figsize=(8, 12))\n",
    "plt.barh(top_20_features['Feature'], top_20_features['Importance'], color='darkgreen')\n",
    "plt.gca().invert_yaxis()  # Invert the y-axis to show features at the top\n",
    "plt.xlabel('Importance')\n",
    "plt.ylabel('Feature')\n",
    "plt.title('Top 50 Variable Importance in Random Forest Classifier')\n",
    "plt.tight_layout()\n",
    "plt.show()\n"
   ]
  },
  {
   "cell_type": "markdown",
   "id": "399b1ead",
   "metadata": {},
   "source": [
    "## Confussion matrix"
   ]
  },
  {
   "cell_type": "code",
   "execution_count": 47,
   "id": "08017505",
   "metadata": {},
   "outputs": [
    {
     "data": {
      "image/png": "[encoded data removed]",
      "text/plain": [
       "<Figure size 600x400 with 2 Axes>"
      ]
     },
     "metadata": {},
     "output_type": "display_data"
    }
   ],
   "source": [
    "from sklearn.metrics import confusion_matrix\n",
    "\n",
    "ypred = best_rf_classifier.predict(Xtest)\n",
    "\n",
    "conf_matrix = confusion_matrix(ytest, ypred)\n",
    "\n",
    "class_names = ['low', 'medium', 'high']\n",
    "conf_matrix_df = pd.DataFrame(conf_matrix, index=class_names, columns=class_names)\n",
    "\n",
    "\n",
    "import seaborn as sns\n",
    "import matplotlib.pyplot as plt\n",
    "\n",
    "# Set the labels for the heatmap\n",
    "labels = ['High','Medium','Low']\n",
    "\n",
    "# Create the heatmap\n",
    "plt.figure(figsize=(6, 4))\n",
    "sns.heatmap(conf_matrix, annot=True, fmt=\"d\", cmap=\"Blues\", xticklabels=labels, yticklabels=labels)\n",
    "plt.xlabel('Predicted')\n",
    "plt.ylabel('True')\n",
    "plt.title('Confusion Matrix Heatmap')\n",
    "plt.show()\n"
   ]
  },
  {
   "cell_type": "markdown",
   "id": "28bb5eb0",
   "metadata": {},
   "source": [
    "## Random Forest - Other Analysis"
   ]
  },
  {
   "cell_type": "markdown",
   "id": "b1ba5628",
   "metadata": {},
   "source": [
    "### y value counts"
   ]
  },
  {
   "cell_type": "code",
   "execution_count": 48,
   "id": "e61c0e15",
   "metadata": {},
   "outputs": [
    {
     "data": {
      "text/plain": [
       "Low       271\n",
       "Medium    267\n",
       "High      247\n",
       "Name: CHD_Class, dtype: int64"
      ]
     },
     "execution_count": 48,
     "metadata": {},
     "output_type": "execute_result"
    }
   ],
   "source": [
    "ytest.value_counts()"
   ]
  },
  {
   "cell_type": "markdown",
   "id": "4bf60786",
   "metadata": {},
   "source": [
    "### Heatmap - CHD/Rural"
   ]
  },
  {
   "cell_type": "code",
   "execution_count": 49,
   "id": "966fa765",
   "metadata": {},
   "outputs": [
    {
     "data": {
      "image/png": "[encoded data removed]",
      "text/plain": [
       "<Figure size 800x600 with 1 Axes>"
      ]
     },
     "metadata": {},
     "output_type": "display_data"
    }
   ],
   "source": [
    "contingency_table = pd.crosstab(chd['IsRural'], chd['CHD_Class'], margins=True, margins_name='Total')\n",
    "\n",
    "# Drop the 'Total' row and column if needed\n",
    "contingency_table.drop('Total', axis=0, inplace=True)\n",
    "contingency_table.drop('Total', axis=1, inplace=True)\n",
    "\n",
    "# Create the heatmap using seaborn\n",
    "plt.figure(figsize=(8, 6))\n",
    "sns.heatmap(contingency_table, annot=True, fmt='d', cmap='YlGnBu', cbar=False)\n",
    "plt.xlabel('CHD_Class')\n",
    "plt.ylabel('IsRural')\n",
    "plt.title('Heatmap of CHD_Class by IsRural')\n",
    "plt.show()"
   ]
  },
  {
   "cell_type": "markdown",
   "id": "4992bc42",
   "metadata": {},
   "source": [
    "### Split Urban Rural and Redo Analysis"
   ]
  },
  {
   "cell_type": "code",
   "execution_count": 50,
   "id": "605fbf60",
   "metadata": {},
   "outputs": [],
   "source": [
    "def get_variable_importance(data):\n",
    "    # Separate the target variable 'CHD_Class' from the features\n",
    "    X = data.drop(columns=['CHD_Class'])\n",
    "    y = data['CHD_Class']\n",
    "    \n",
    "    # Get the character columns that need to be dummy encoded\n",
    "    char_cols = X.select_dtypes(include=['object']).columns\n",
    "\n",
    "    # Create a one-hot encoder and apply it to the character columns\n",
    "    encoder = OneHotEncoder()\n",
    "    X = pd.get_dummies(X, columns=char_cols, drop_first=True)\n",
    "\n",
    "    Xtrain, Xtest, ytrain, ytest = train_test_split(X, y, random_state=42)\n",
    "    \n",
    "    rf_classifier = RandomForestClassifier()\n",
    "\n",
    "    param_dist = {\n",
    "        'n_estimators': randint(1, 1000),\n",
    "        'max_depth': randint(1, 50),\n",
    "        'min_samples_split': randint(2, 10),\n",
    "        'min_samples_leaf': randint(1, 10),\n",
    "        'bootstrap': [True, False],\n",
    "        'criterion': ['gini', 'entropy']\n",
    "    }\n",
    "    \n",
    "    \n",
    "    random_search = RandomizedSearchCV(\n",
    "        estimator=rf_classifier,\n",
    "        param_distributions=param_dist,\n",
    "        n_iter=50,  # Adjust the number of iterations as needed\n",
    "        cv=5,        # Number of cross-validation folds\n",
    "        n_jobs=-1,   # Use all available CPU cores for parallel processing\n",
    "        random_state=42,\n",
    "        verbose=True\n",
    "    )\n",
    "\n",
    "    random_search.fit(Xtrain, ytrain)\n",
    "    \n",
    "    best_rf_classifier = random_search.best_estimator_\n",
    "    \n",
    "    accuracy = best_rf_classifier.score(Xtest, ytest)\n",
    "    print(\"Accuracy of the Random Forest Classifier: {:.2f}%\".format(accuracy * 100))\n",
    "    \n",
    "    # Create a DataFrame to store the feature names and their corresponding importance scores\n",
    "    feature_importance_df = pd.DataFrame({'Feature': X.columns, 'Importance': best_rf_classifier.feature_importances_})\n",
    "\n",
    "    # Sort the DataFrame in descending order based on importance\n",
    "    feature_importance_df.sort_values(by='Importance', ascending=False, inplace=True)\n",
    "\n",
    "    return feature_importance_df"
   ]
  },
  {
   "cell_type": "markdown",
   "id": "abec7f56",
   "metadata": {},
   "source": [
    "### Model Accuracies"
   ]
  },
  {
   "cell_type": "code",
   "execution_count": 51,
   "id": "4634f381",
   "metadata": {},
   "outputs": [
    {
     "name": "stdout",
     "output_type": "stream",
     "text": [
      "Fitting 5 folds for each of 50 candidates, totalling 250 fits\n",
      "Accuracy of the Random Forest Classifier: 88.87%\n",
      "Fitting 5 folds for each of 50 candidates, totalling 250 fits\n",
      "Accuracy of the Random Forest Classifier: 88.70%\n"
     ]
    }
   ],
   "source": [
    "# Create separate datasets for IsRural=True and IsRural=False\n",
    "data_rural = chd[chd['IsRural'] == True]\n",
    "data_non_rural = chd[chd['IsRural'] == False]\n",
    "\n",
    "# Get variable importance for IsRural=True\n",
    "result_rural = get_variable_importance(data_rural)\n",
    "\n",
    "# Get variable importance for IsRural=False\n",
    "result_non_rural = get_variable_importance(data_non_rural)"
   ]
  },
  {
   "cell_type": "markdown",
   "id": "22e2532a",
   "metadata": {},
   "source": [
    "### Variable importance in models"
   ]
  },
  {
   "cell_type": "code",
   "execution_count": 52,
   "id": "4d690ae7",
   "metadata": {},
   "outputs": [
    {
     "data": {
      "image/png": "[encoded data removed]",
      "text/plain": [
       "<Figure size 1000x1000 with 1 Axes>"
      ]
     },
     "metadata": {},
     "output_type": "display_data"
    }
   ],
   "source": [
    "# Add a new column to each DataFrame to indicate the dataset (IsRural=True or IsRural=False)\n",
    "result_rural['Dataset'] = 'IsRural=True'\n",
    "result_non_rural['Dataset'] = 'IsRural=False'\n",
    "\n",
    "# Concatenate the two DataFrames into a single DataFrame\n",
    "combined_result = pd.concat([result_rural, result_non_rural,], ignore_index=True)\n",
    "\n",
    "combined_result = combined_result[combined_result['Importance'] > 0.01]\n",
    "\n",
    "# Create a bar plot with rotated axes\n",
    "plt.figure(figsize=(10, 10))\n",
    "sns.barplot(x='Importance', y='Feature', hue='Dataset', data=combined_result)\n",
    "plt.xlabel('Importance')\n",
    "plt.ylabel('Feature')\n",
    "plt.title('Variable Importance Comparison between IsRural=True and IsRural=False')\n",
    "plt.legend(title='Dataset', loc='lower right')\n",
    "plt.tight_layout()\n",
    "plt.show()\n"
   ]
  },
  {
   "cell_type": "markdown",
   "id": "d1ca64b1",
   "metadata": {},
   "source": [
    "# Machine Learning Models - Support Vector Machine"
   ]
  },
  {
   "cell_type": "markdown",
   "id": "e9899f58",
   "metadata": {},
   "source": [
    "## SVM - Setup"
   ]
  },
  {
   "cell_type": "markdown",
   "id": "879ff363",
   "metadata": {},
   "source": [
    "### Data Loading and Preprocessing"
   ]
  },
  {
   "cell_type": "code",
   "execution_count": 53,
   "id": "7f4de0e8",
   "metadata": {},
   "outputs": [
    {
     "data": {
      "text/plain": [
       "(   Age65Plus      AIAN   AIANmen  AIANwomen     ANHPI  ANHPImen  ANHPIwomen  \\\n",
       " 0  -0.445838 -0.068777 -0.075373  -0.062421  0.990972  1.025591    0.960094   \n",
       " 1  -0.320688  0.056428  0.152814  -0.033582  0.615752  0.620306    0.611373   \n",
       " 2  -1.509615  0.743369  0.950305   0.548247  2.357646  2.537354    2.199181   \n",
       " 3  -0.237254 -0.185011 -0.182117  -0.187150 -0.074985 -0.070168   -0.079142   \n",
       " 4  -0.988156  0.297119  0.428957   0.173339  0.521227  0.515715    0.525699   \n",
       " \n",
       "       Black  BlackMen  BlackWomen  ...  state_UT  state_VA  state_VT  \\\n",
       " 0  0.076628  0.088451    0.066900  ...         0         0         0   \n",
       " 1  0.562760  0.578816    0.549019  ...         0         0         0   \n",
       " 2  1.261923  1.321092    1.212223  ...         0         0         0   \n",
       " 3 -0.142450 -0.140980   -0.143484  ...         0         0         0   \n",
       " 4  1.967251  1.977040    1.957000  ...         0         0         0   \n",
       " \n",
       "    state_WA  state_WI  state_WV  state_WY  region_Northeast  region_South  \\\n",
       " 0         0         0         0         0                 1             0   \n",
       " 1         0         0         0         0                 1             0   \n",
       " 2         0         0         0         0                 1             0   \n",
       " 3         0         0         0         0                 1             0   \n",
       " 4         0         0         0         0                 1             0   \n",
       " \n",
       "    region_West  \n",
       " 0            0  \n",
       " 1            0  \n",
       " 2            0  \n",
       " 3            0  \n",
       " 4            0  \n",
       " \n",
       " [5 rows x 109 columns],\n",
       " 0    Low\n",
       " 1    Low\n",
       " 2    Low\n",
       " 3    Low\n",
       " 4    Low\n",
       " Name: CHD_Class, dtype: object)"
      ]
     },
     "execution_count": 53,
     "metadata": {},
     "output_type": "execute_result"
    }
   ],
   "source": [
    "import pandas as pd\n",
    "from sklearn.preprocessing import StandardScaler, OneHotEncoder\n",
    "\n",
    "# Load data\n",
    "chd = pd.read_csv(\"data/CDC_python_clean.csv\")\n",
    "\n",
    "# Drop unnecessary columns\n",
    "columns_to_drop = ['fips', 'CHD', 'county', 'UrbanRural']\n",
    "chd = chd.drop(columns=columns_to_drop)\n",
    "\n",
    "# Define features and target\n",
    "X = chd.drop(columns=['CHD_Class'])\n",
    "y = chd['CHD_Class']\n",
    "\n",
    "# One-hot encode categorical variables\n",
    "char_cols = X.select_dtypes(include=['object']).columns\n",
    "X = pd.get_dummies(X, columns=char_cols, drop_first=True)\n",
    "\n",
    "# Scale numerical variables\n",
    "numeric_columns = X.select_dtypes(include=['float64', 'int64']).columns\n",
    "scaler = StandardScaler()\n",
    "X[numeric_columns] = scaler.fit_transform(X[numeric_columns])\n",
    "\n",
    "X.head(), y.head()\n"
   ]
  },
  {
   "cell_type": "markdown",
   "id": "0f730343",
   "metadata": {},
   "source": [
    "### Data Splitting"
   ]
  },
  {
   "cell_type": "code",
   "execution_count": 54,
   "id": "3016156e",
   "metadata": {},
   "outputs": [
    {
     "data": {
      "text/plain": [
       "((2355, 109), (785, 109))"
      ]
     },
     "execution_count": 54,
     "metadata": {},
     "output_type": "execute_result"
    }
   ],
   "source": [
    "from sklearn.model_selection import train_test_split\n",
    "\n",
    "# Split data into train and test sets\n",
    "Xtrain, Xtest, ytrain, ytest = train_test_split(X, y, random_state=42)\n",
    "\n",
    "Xtrain.shape, Xtest.shape"
   ]
  },
  {
   "cell_type": "markdown",
   "id": "72929a0f",
   "metadata": {},
   "source": [
    "## SVM - Modeling"
   ]
  },
  {
   "cell_type": "markdown",
   "id": "5ee543ce",
   "metadata": {},
   "source": [
    "### Model Building and Hyperparameter Tuning"
   ]
  },
  {
   "cell_type": "code",
   "execution_count": 55,
   "id": "6eb53cb1",
   "metadata": {},
   "outputs": [
    {
     "name": "stdout",
     "output_type": "stream",
     "text": [
      "Fitting 5 folds for each of 2 candidates, totalling 10 fits\n"
     ]
    },
    {
     "data": {
      "text/html": [
       "<style>#sk-container-id-2 {color: black;background-color: white;}#sk-container-id-2 pre{padding: 0;}#sk-container-id-2 div.sk-toggleable {background-color: white;}#sk-container-id-2 label.sk-toggleable__label {cursor: pointer;display: block;width: 100%;margin-bottom: 0;padding: 0.3em;box-sizing: border-box;text-align: center;}#sk-container-id-2 label.sk-toggleable__label-arrow:before {content: \"▸\";float: left;margin-right: 0.25em;color: #696969;}#sk-container-id-2 label.sk-toggleable__label-arrow:hover:before {color: black;}#sk-container-id-2 div.sk-estimator:hover label.sk-toggleable__label-arrow:before {color: black;}#sk-container-id-2 div.sk-toggleable__content {max-height: 0;max-width: 0;overflow: hidden;text-align: left;background-color: #f0f8ff;}#sk-container-id-2 div.sk-toggleable__content pre {margin: 0.2em;color: black;border-radius: 0.25em;background-color: #f0f8ff;}#sk-container-id-2 input.sk-toggleable__control:checked~div.sk-toggleable__content {max-height: 200px;max-width: 100%;overflow: auto;}#sk-container-id-2 input.sk-toggleable__control:checked~label.sk-toggleable__label-arrow:before {content: \"▾\";}#sk-container-id-2 div.sk-estimator input.sk-toggleable__control:checked~label.sk-toggleable__label {background-color: #d4ebff;}#sk-container-id-2 div.sk-label input.sk-toggleable__control:checked~label.sk-toggleable__label {background-color: #d4ebff;}#sk-container-id-2 input.sk-hidden--visually {border: 0;clip: rect(1px 1px 1px 1px);clip: rect(1px, 1px, 1px, 1px);height: 1px;margin: -1px;overflow: hidden;padding: 0;position: absolute;width: 1px;}#sk-container-id-2 div.sk-estimator {font-family: monospace;background-color: #f0f8ff;border: 1px dotted black;border-radius: 0.25em;box-sizing: border-box;margin-bottom: 0.5em;}#sk-container-id-2 div.sk-estimator:hover {background-color: #d4ebff;}#sk-container-id-2 div.sk-parallel-item::after {content: \"\";width: 100%;border-bottom: 1px solid gray;flex-grow: 1;}#sk-container-id-2 div.sk-label:hover label.sk-toggleable__label {background-color: #d4ebff;}#sk-container-id-2 div.sk-serial::before {content: \"\";position: absolute;border-left: 1px solid gray;box-sizing: border-box;top: 0;bottom: 0;left: 50%;z-index: 0;}#sk-container-id-2 div.sk-serial {display: flex;flex-direction: column;align-items: center;background-color: white;padding-right: 0.2em;padding-left: 0.2em;position: relative;}#sk-container-id-2 div.sk-item {position: relative;z-index: 1;}#sk-container-id-2 div.sk-parallel {display: flex;align-items: stretch;justify-content: center;background-color: white;position: relative;}#sk-container-id-2 div.sk-item::before, #sk-container-id-2 div.sk-parallel-item::before {content: \"\";position: absolute;border-left: 1px solid gray;box-sizing: border-box;top: 0;bottom: 0;left: 50%;z-index: -1;}#sk-container-id-2 div.sk-parallel-item {display: flex;flex-direction: column;z-index: 1;position: relative;background-color: white;}#sk-container-id-2 div.sk-parallel-item:first-child::after {align-self: flex-end;width: 50%;}#sk-container-id-2 div.sk-parallel-item:last-child::after {align-self: flex-start;width: 50%;}#sk-container-id-2 div.sk-parallel-item:only-child::after {width: 0;}#sk-container-id-2 div.sk-dashed-wrapped {border: 1px dashed gray;margin: 0 0.4em 0.5em 0.4em;box-sizing: border-box;padding-bottom: 0.4em;background-color: white;}#sk-container-id-2 div.sk-label label {font-family: monospace;font-weight: bold;display: inline-block;line-height: 1.2em;}#sk-container-id-2 div.sk-label-container {text-align: center;}#sk-container-id-2 div.sk-container {/* jupyter's `normalize.less` sets `[hidden] { display: none; }` but bootstrap.min.css set `[hidden] { display: none !important; }` so we also need the `!important` here to be able to override the default hidden behavior on the sphinx rendered scikit-learn.org. See: https://github.com/scikit-learn/scikit-learn/issues/21755 */display: inline-block !important;position: relative;}#sk-container-id-2 div.sk-text-repr-fallback {display: none;}</style><div id=\"sk-container-id-2\" class=\"sk-top-container\"><div class=\"sk-text-repr-fallback\"><pre>GridSearchCV(cv=5, estimator=SVC(kernel=&#x27;linear&#x27;), n_jobs=-1,\n",
       "             param_grid={&#x27;C&#x27;: [0.1, 1]}, verbose=True)</pre><b>In a Jupyter environment, please rerun this cell to show the HTML representation or trust the notebook. <br />On GitHub, the HTML representation is unable to render, please try loading this page with nbviewer.org.</b></div><div class=\"sk-container\" hidden><div class=\"sk-item sk-dashed-wrapped\"><div class=\"sk-label-container\"><div class=\"sk-label sk-toggleable\"><input class=\"sk-toggleable__control sk-hidden--visually\" id=\"sk-estimator-id-4\" type=\"checkbox\" ><label for=\"sk-estimator-id-4\" class=\"sk-toggleable__label sk-toggleable__label-arrow\">GridSearchCV</label><div class=\"sk-toggleable__content\"><pre>GridSearchCV(cv=5, estimator=SVC(kernel=&#x27;linear&#x27;), n_jobs=-1,\n",
       "             param_grid={&#x27;C&#x27;: [0.1, 1]}, verbose=True)</pre></div></div></div><div class=\"sk-parallel\"><div class=\"sk-parallel-item\"><div class=\"sk-item\"><div class=\"sk-label-container\"><div class=\"sk-label sk-toggleable\"><input class=\"sk-toggleable__control sk-hidden--visually\" id=\"sk-estimator-id-5\" type=\"checkbox\" ><label for=\"sk-estimator-id-5\" class=\"sk-toggleable__label sk-toggleable__label-arrow\">estimator: SVC</label><div class=\"sk-toggleable__content\"><pre>SVC(kernel=&#x27;linear&#x27;)</pre></div></div></div><div class=\"sk-serial\"><div class=\"sk-item\"><div class=\"sk-estimator sk-toggleable\"><input class=\"sk-toggleable__control sk-hidden--visually\" id=\"sk-estimator-id-6\" type=\"checkbox\" ><label for=\"sk-estimator-id-6\" class=\"sk-toggleable__label sk-toggleable__label-arrow\">SVC</label><div class=\"sk-toggleable__content\"><pre>SVC(kernel=&#x27;linear&#x27;)</pre></div></div></div></div></div></div></div></div></div></div>"
      ],
      "text/plain": [
       "GridSearchCV(cv=5, estimator=SVC(kernel='linear'), n_jobs=-1,\n",
       "             param_grid={'C': [0.1, 1]}, verbose=True)"
      ]
     },
     "execution_count": 55,
     "metadata": {},
     "output_type": "execute_result"
    }
   ],
   "source": [
    "from sklearn.model_selection import GridSearchCV\n",
    "from sklearn.svm import SVC\n",
    "\n",
    "# Define the SVC classifier\n",
    "svc = SVC(kernel='linear')\n",
    "\n",
    "# Define the parameter grid for the GridSearchCV\n",
    "param_grid = {\n",
    "    'C': [0.1, 1],\n",
    "}\n",
    "\n",
    "# Define the GridSearchCV for hyperparameter tuning\n",
    "grid_search = GridSearchCV(\n",
    "    estimator=svc,\n",
    "    param_grid=param_grid,\n",
    "    cv=5,        # Number of cross-validation folds\n",
    "    n_jobs=-1,   # Use all available CPU cores for parallel processing\n",
    "    verbose=True\n",
    ")\n",
    "\n",
    "# Fit the GridSearchCV to the training data\n",
    "grid_search.fit(Xtrain, ytrain)\n"
   ]
  },
  {
   "cell_type": "markdown",
   "id": "bd120c3e",
   "metadata": {},
   "source": [
    "In a Jupyter environment, please rerun this cell to show the HTML representation or trust the notebook.\n",
    "On GitHub, the HTML representation is unable to render, please try loading this page with nbviewer.org."
   ]
  },
  {
   "cell_type": "markdown",
   "id": "99ad2d4f",
   "metadata": {},
   "source": [
    "# Random Forest - Model Results"
   ]
  },
  {
   "cell_type": "markdown",
   "id": "f3a6a08d",
   "metadata": {},
   "source": [
    "## Model Evaluation"
   ]
  },
  {
   "cell_type": "code",
   "execution_count": 56,
   "id": "8410b708",
   "metadata": {},
   "outputs": [
    {
     "data": {
      "text/plain": [
       "0.9210191082802548"
      ]
     },
     "execution_count": 56,
     "metadata": {},
     "output_type": "execute_result"
    }
   ],
   "source": [
    "from sklearn.metrics import accuracy_score\n",
    "\n",
    "# Get the best SVC classifier\n",
    "best_svc = grid_search.best_estimator_\n",
    "\n",
    "# Predict the test set results\n",
    "svc_pred = best_svc.predict(Xtest)\n",
    "\n",
    "# Compute the accuracy of the SVC classifier\n",
    "svc_accuracy = accuracy_score(ytest, svc_pred)\n",
    "\n",
    "svc_accuracy\n"
   ]
  },
  {
   "cell_type": "markdown",
   "id": "400408dc",
   "metadata": {},
   "source": [
    "## Feature Importance Plot"
   ]
  },
  {
   "cell_type": "code",
   "execution_count": 57,
   "id": "76ae6850",
   "metadata": {},
   "outputs": [
    {
     "data": {
      "image/png": "[encoded data removed]",
      "text/plain": [
       "<Figure size 1200x800 with 1 Axes>"
      ]
     },
     "metadata": {},
     "output_type": "display_data"
    }
   ],
   "source": [
    "import matplotlib.pyplot as plt\n",
    "import numpy as np\n",
    "\n",
    "# Get feature importances (use absolute values of coefficients as proxy)\n",
    "importances = abs(best_svc.coef_[0])\n",
    "\n",
    "# Get top 10 features\n",
    "indices = np.argsort(importances)[-10:]\n",
    "\n",
    "plt.figure(figsize=(12, 8))\n",
    "plt.title('Feature Importances')\n",
    "plt.barh(range(len(indices)), importances[indices], color='b', align='center')\n",
    "plt.yticks(range(len(indices)), [X.columns[i] for i in indices])\n",
    "plt.xlabel('Relative Importance')\n",
    "plt.show()"
   ]
  },
  {
   "cell_type": "markdown",
   "id": "4dd9b70e",
   "metadata": {},
   "source": [
    "## Confusion Matrix and Plot"
   ]
  },
  {
   "cell_type": "code",
   "execution_count": 58,
   "id": "d18822c9",
   "metadata": {},
   "outputs": [
    {
     "data": {
      "text/plain": [
       "Text(50.722222222222214, 0.5, 'True')"
      ]
     },
     "execution_count": 58,
     "metadata": {},
     "output_type": "execute_result"
    },
    {
     "data": {
      "image/png": "[encoded data removed]",
      "text/plain": [
       "<Figure size 640x480 with 2 Axes>"
      ]
     },
     "metadata": {},
     "output_type": "display_data"
    }
   ],
   "source": [
    "# Import the required libraries\n",
    "import seaborn as sns\n",
    "import matplotlib.pyplot as plt\n",
    "\n",
    "# Use the sklearn function confusion_matrix to compute the confusion matrix\n",
    "svc_cm = confusion_matrix(ytest, svc_pred)\n",
    "\n",
    "# Using seaborn to create a heatmap. The heatmap will visually represent the confusion matrix\n",
    "# Each cell in the heatmap corresponds to a cell in the confusion matrix.\n",
    "# The color of the cell is proportional to the number of instances.\n",
    "sns.heatmap(svc_cm, annot=True, fmt='d')\n",
    "\n",
    "# Label the x-axis as 'Predicted'\n",
    "plt.xlabel('Predicted')\n",
    "\n",
    "# Label the y-axis as 'True'\n",
    "plt.ylabel('True')\n"
   ]
  },
  {
   "cell_type": "markdown",
   "id": "ab262dd9",
   "metadata": {},
   "source": [
    "# Machine Learning Models - K Means Clustering"
   ]
  },
  {
   "cell_type": "markdown",
   "id": "8f316f6c",
   "metadata": {},
   "source": [
    "## K-Means - Setup"
   ]
  },
  {
   "cell_type": "markdown",
   "id": "b8c21f78",
   "metadata": {},
   "source": [
    "### Import libraries"
   ]
  },
  {
   "cell_type": "code",
   "execution_count": 59,
   "id": "49d0a69e",
   "metadata": {},
   "outputs": [],
   "source": [
    "from sklearn.cluster import KMeans\n",
    "from sklearn.preprocessing import StandardScaler"
   ]
  },
  {
   "cell_type": "markdown",
   "id": "6902b54c",
   "metadata": {},
   "source": [
    "### Import data"
   ]
  },
  {
   "cell_type": "code",
   "execution_count": 60,
   "id": "0fb08107",
   "metadata": {},
   "outputs": [],
   "source": [
    "df = pd.read_csv('data/CDC_python_clean.csv')\n",
    "df = df.loc[df.CHD > 0]"
   ]
  },
  {
   "cell_type": "markdown",
   "id": "fa18807b",
   "metadata": {},
   "source": [
    "### View data structures"
   ]
  },
  {
   "cell_type": "code",
   "execution_count": 61,
   "id": "b79cbf1a",
   "metadata": {},
   "outputs": [
    {
     "data": {
      "text/html": [
       "<div>\n",
       "<style scoped>\n",
       "    .dataframe tbody tr th:only-of-type {\n",
       "        vertical-align: middle;\n",
       "    }\n",
       "\n",
       "    .dataframe tbody tr th {\n",
       "        vertical-align: top;\n",
       "    }\n",
       "\n",
       "    .dataframe thead th {\n",
       "        text-align: right;\n",
       "    }\n",
       "</style>\n",
       "<table border=\"1\" class=\"dataframe\">\n",
       "  <thead>\n",
       "    <tr style=\"text-align: right;\">\n",
       "      <th></th>\n",
       "      <th>fips</th>\n",
       "      <th>Age65Plus</th>\n",
       "      <th>AIAN</th>\n",
       "      <th>AIANmen</th>\n",
       "      <th>AIANwomen</th>\n",
       "      <th>ANHPI</th>\n",
       "      <th>ANHPImen</th>\n",
       "      <th>ANHPIwomen</th>\n",
       "      <th>Black</th>\n",
       "      <th>BlackMen</th>\n",
       "      <th>...</th>\n",
       "      <th>MedHouseIncome</th>\n",
       "      <th>Poverty</th>\n",
       "      <th>Unemploy</th>\n",
       "      <th>UrbanRural</th>\n",
       "      <th>county</th>\n",
       "      <th>state</th>\n",
       "      <th>pcp</th>\n",
       "      <th>IsRural</th>\n",
       "      <th>CHD_Class</th>\n",
       "      <th>region</th>\n",
       "    </tr>\n",
       "  </thead>\n",
       "  <tbody>\n",
       "    <tr>\n",
       "      <th>0</th>\n",
       "      <td>34027</td>\n",
       "      <td>17.1</td>\n",
       "      <td>446</td>\n",
       "      <td>213</td>\n",
       "      <td>233</td>\n",
       "      <td>39922</td>\n",
       "      <td>19200</td>\n",
       "      <td>20722</td>\n",
       "      <td>13116</td>\n",
       "      <td>6312</td>\n",
       "      <td>...</td>\n",
       "      <td>114000.0</td>\n",
       "      <td>4.7</td>\n",
       "      <td>5.0</td>\n",
       "      <td>LargeFringe_Urban</td>\n",
       "      <td>Morris</td>\n",
       "      <td>NJ</td>\n",
       "      <td>1.0</td>\n",
       "      <td>False</td>\n",
       "      <td>Low</td>\n",
       "      <td>Northeast</td>\n",
       "    </tr>\n",
       "    <tr>\n",
       "      <th>1</th>\n",
       "      <td>34025</td>\n",
       "      <td>17.7</td>\n",
       "      <td>781</td>\n",
       "      <td>508</td>\n",
       "      <td>273</td>\n",
       "      <td>26636</td>\n",
       "      <td>12508</td>\n",
       "      <td>14128</td>\n",
       "      <td>33615</td>\n",
       "      <td>15605</td>\n",
       "      <td>...</td>\n",
       "      <td>104000.0</td>\n",
       "      <td>5.9</td>\n",
       "      <td>5.5</td>\n",
       "      <td>LargeFringe_Urban</td>\n",
       "      <td>Monmouth</td>\n",
       "      <td>NJ</td>\n",
       "      <td>0.8</td>\n",
       "      <td>False</td>\n",
       "      <td>Low</td>\n",
       "      <td>Northeast</td>\n",
       "    </tr>\n",
       "    <tr>\n",
       "      <th>2</th>\n",
       "      <td>34017</td>\n",
       "      <td>12.0</td>\n",
       "      <td>2619</td>\n",
       "      <td>1539</td>\n",
       "      <td>1080</td>\n",
       "      <td>88314</td>\n",
       "      <td>44162</td>\n",
       "      <td>44152</td>\n",
       "      <td>63097</td>\n",
       "      <td>29672</td>\n",
       "      <td>...</td>\n",
       "      <td>77000.0</td>\n",
       "      <td>13.1</td>\n",
       "      <td>6.8</td>\n",
       "      <td>Large_Urban</td>\n",
       "      <td>Hudson</td>\n",
       "      <td>NJ</td>\n",
       "      <td>1.8</td>\n",
       "      <td>False</td>\n",
       "      <td>Low</td>\n",
       "      <td>Northeast</td>\n",
       "    </tr>\n",
       "    <tr>\n",
       "      <th>3</th>\n",
       "      <td>34041</td>\n",
       "      <td>18.1</td>\n",
       "      <td>135</td>\n",
       "      <td>75</td>\n",
       "      <td>60</td>\n",
       "      <td>2178</td>\n",
       "      <td>1107</td>\n",
       "      <td>1071</td>\n",
       "      <td>3878</td>\n",
       "      <td>1964</td>\n",
       "      <td>...</td>\n",
       "      <td>80000.0</td>\n",
       "      <td>7.3</td>\n",
       "      <td>5.5</td>\n",
       "      <td>MediumSmall_Urban</td>\n",
       "      <td>Warren</td>\n",
       "      <td>NJ</td>\n",
       "      <td>1.6</td>\n",
       "      <td>False</td>\n",
       "      <td>Low</td>\n",
       "      <td>Northeast</td>\n",
       "    </tr>\n",
       "    <tr>\n",
       "      <th>4</th>\n",
       "      <td>34039</td>\n",
       "      <td>14.5</td>\n",
       "      <td>1425</td>\n",
       "      <td>865</td>\n",
       "      <td>560</td>\n",
       "      <td>23289</td>\n",
       "      <td>10781</td>\n",
       "      <td>12508</td>\n",
       "      <td>92839</td>\n",
       "      <td>42103</td>\n",
       "      <td>...</td>\n",
       "      <td>83000.0</td>\n",
       "      <td>9.2</td>\n",
       "      <td>6.7</td>\n",
       "      <td>Large_Urban</td>\n",
       "      <td>Union</td>\n",
       "      <td>NJ</td>\n",
       "      <td>1.5</td>\n",
       "      <td>False</td>\n",
       "      <td>Low</td>\n",
       "      <td>Northeast</td>\n",
       "    </tr>\n",
       "  </tbody>\n",
       "</table>\n",
       "<p>5 rows × 63 columns</p>\n",
       "</div>"
      ],
      "text/plain": [
       "    fips  Age65Plus  AIAN  AIANmen  AIANwomen  ANHPI  ANHPImen  ANHPIwomen  \\\n",
       "0  34027       17.1   446      213        233  39922     19200       20722   \n",
       "1  34025       17.7   781      508        273  26636     12508       14128   \n",
       "2  34017       12.0  2619     1539       1080  88314     44162       44152   \n",
       "3  34041       18.1   135       75         60   2178      1107        1071   \n",
       "4  34039       14.5  1425      865        560  23289     10781       12508   \n",
       "\n",
       "   Black  BlackMen  ...  MedHouseIncome  Poverty  Unemploy         UrbanRural  \\\n",
       "0  13116      6312  ...        114000.0      4.7       5.0  LargeFringe_Urban   \n",
       "1  33615     15605  ...        104000.0      5.9       5.5  LargeFringe_Urban   \n",
       "2  63097     29672  ...         77000.0     13.1       6.8        Large_Urban   \n",
       "3   3878      1964  ...         80000.0      7.3       5.5  MediumSmall_Urban   \n",
       "4  92839     42103  ...         83000.0      9.2       6.7        Large_Urban   \n",
       "\n",
       "     county  state  pcp  IsRural  CHD_Class     region  \n",
       "0    Morris     NJ  1.0    False        Low  Northeast  \n",
       "1  Monmouth     NJ  0.8    False        Low  Northeast  \n",
       "2    Hudson     NJ  1.8    False        Low  Northeast  \n",
       "3    Warren     NJ  1.6    False        Low  Northeast  \n",
       "4     Union     NJ  1.5    False        Low  Northeast  \n",
       "\n",
       "[5 rows x 63 columns]"
      ]
     },
     "execution_count": 61,
     "metadata": {},
     "output_type": "execute_result"
    }
   ],
   "source": [
    "# Display the first few rows of the dataset\n",
    "df.head()"
   ]
  },
  {
   "cell_type": "markdown",
   "id": "fbbdef7e",
   "metadata": {},
   "source": [
    "## K-means - Data Cleaning (Preprocessing)"
   ]
  },
  {
   "cell_type": "markdown",
   "id": "bb4ac35a",
   "metadata": {},
   "source": [
    "### Selecting columns"
   ]
  },
  {
   "cell_type": "code",
   "execution_count": 62,
   "id": "31cff81f",
   "metadata": {},
   "outputs": [],
   "source": [
    "from sklearn.preprocessing import StandardScaler\n",
    "\n",
    "# Select numerical columns\n",
    "numerical_cols = df.select_dtypes(include=['float64', 'int64']).columns\n",
    "\n",
    "# Remove the 'fips' column as it's a unique identifier, not a meaningful numerical feature\n",
    "numerical_cols = numerical_cols.drop('fips')\n",
    "\n",
    "# Subset the dataframe on these columns\n",
    "df_numerical = df[numerical_cols]"
   ]
  },
  {
   "cell_type": "markdown",
   "id": "3ac2cd66",
   "metadata": {},
   "source": [
    "### Normalize the data"
   ]
  },
  {
   "cell_type": "code",
   "execution_count": 63,
   "id": "3a32beb7",
   "metadata": {},
   "outputs": [
    {
     "data": {
      "text/html": [
       "<div>\n",
       "<style scoped>\n",
       "    .dataframe tbody tr th:only-of-type {\n",
       "        vertical-align: middle;\n",
       "    }\n",
       "\n",
       "    .dataframe tbody tr th {\n",
       "        vertical-align: top;\n",
       "    }\n",
       "\n",
       "    .dataframe thead th {\n",
       "        text-align: right;\n",
       "    }\n",
       "</style>\n",
       "<table border=\"1\" class=\"dataframe\">\n",
       "  <thead>\n",
       "    <tr style=\"text-align: right;\">\n",
       "      <th></th>\n",
       "      <th>Age65Plus</th>\n",
       "      <th>AIAN</th>\n",
       "      <th>AIANmen</th>\n",
       "      <th>AIANwomen</th>\n",
       "      <th>ANHPI</th>\n",
       "      <th>ANHPImen</th>\n",
       "      <th>ANHPIwomen</th>\n",
       "      <th>Black</th>\n",
       "      <th>BlackMen</th>\n",
       "      <th>BlackWomen</th>\n",
       "      <th>...</th>\n",
       "      <th>AirQuality</th>\n",
       "      <th>Parks</th>\n",
       "      <th>Broadband</th>\n",
       "      <th>EdLessColl</th>\n",
       "      <th>SNAPrecipients</th>\n",
       "      <th>MedHomeValue</th>\n",
       "      <th>MedHouseIncome</th>\n",
       "      <th>Poverty</th>\n",
       "      <th>Unemploy</th>\n",
       "      <th>pcp</th>\n",
       "    </tr>\n",
       "  </thead>\n",
       "  <tbody>\n",
       "    <tr>\n",
       "      <th>0</th>\n",
       "      <td>-0.445838</td>\n",
       "      <td>-0.068777</td>\n",
       "      <td>-0.075373</td>\n",
       "      <td>-0.062421</td>\n",
       "      <td>0.990972</td>\n",
       "      <td>1.025591</td>\n",
       "      <td>0.960094</td>\n",
       "      <td>0.076628</td>\n",
       "      <td>0.088451</td>\n",
       "      <td>0.066900</td>\n",
       "      <td>...</td>\n",
       "      <td>-0.976009</td>\n",
       "      <td>0.846820</td>\n",
       "      <td>-1.717885</td>\n",
       "      <td>-3.368287</td>\n",
       "      <td>-1.483495</td>\n",
       "      <td>2.988556</td>\n",
       "      <td>3.877516</td>\n",
       "      <td>-1.666923</td>\n",
       "      <td>0.193532</td>\n",
       "      <td>-0.423358</td>\n",
       "    </tr>\n",
       "    <tr>\n",
       "      <th>1</th>\n",
       "      <td>-0.320688</td>\n",
       "      <td>0.056428</td>\n",
       "      <td>0.152814</td>\n",
       "      <td>-0.033582</td>\n",
       "      <td>0.615752</td>\n",
       "      <td>0.620306</td>\n",
       "      <td>0.611373</td>\n",
       "      <td>0.562760</td>\n",
       "      <td>0.578816</td>\n",
       "      <td>0.549019</td>\n",
       "      <td>...</td>\n",
       "      <td>0.750144</td>\n",
       "      <td>0.467575</td>\n",
       "      <td>-1.463161</td>\n",
       "      <td>-2.544027</td>\n",
       "      <td>-1.184063</td>\n",
       "      <td>2.720466</td>\n",
       "      <td>3.191663</td>\n",
       "      <td>-1.445597</td>\n",
       "      <td>0.477102</td>\n",
       "      <td>-0.423977</td>\n",
       "    </tr>\n",
       "    <tr>\n",
       "      <th>2</th>\n",
       "      <td>-1.509615</td>\n",
       "      <td>0.743369</td>\n",
       "      <td>0.950305</td>\n",
       "      <td>0.548247</td>\n",
       "      <td>2.357646</td>\n",
       "      <td>2.537354</td>\n",
       "      <td>2.199181</td>\n",
       "      <td>1.261923</td>\n",
       "      <td>1.321092</td>\n",
       "      <td>1.212223</td>\n",
       "      <td>...</td>\n",
       "      <td>1.166802</td>\n",
       "      <td>2.068833</td>\n",
       "      <td>-1.099269</td>\n",
       "      <td>-2.204019</td>\n",
       "      <td>0.103495</td>\n",
       "      <td>2.382872</td>\n",
       "      <td>1.339860</td>\n",
       "      <td>-0.117641</td>\n",
       "      <td>1.214384</td>\n",
       "      <td>-0.420881</td>\n",
       "    </tr>\n",
       "    <tr>\n",
       "      <th>3</th>\n",
       "      <td>-0.237254</td>\n",
       "      <td>-0.185011</td>\n",
       "      <td>-0.182117</td>\n",
       "      <td>-0.187150</td>\n",
       "      <td>-0.074985</td>\n",
       "      <td>-0.070168</td>\n",
       "      <td>-0.079142</td>\n",
       "      <td>-0.142450</td>\n",
       "      <td>-0.140980</td>\n",
       "      <td>-0.143484</td>\n",
       "      <td>...</td>\n",
       "      <td>0.988234</td>\n",
       "      <td>0.931097</td>\n",
       "      <td>-1.172048</td>\n",
       "      <td>-1.225211</td>\n",
       "      <td>-0.944517</td>\n",
       "      <td>1.042426</td>\n",
       "      <td>1.545616</td>\n",
       "      <td>-1.187384</td>\n",
       "      <td>0.477102</td>\n",
       "      <td>-0.421500</td>\n",
       "    </tr>\n",
       "    <tr>\n",
       "      <th>4</th>\n",
       "      <td>-0.988156</td>\n",
       "      <td>0.297119</td>\n",
       "      <td>0.428957</td>\n",
       "      <td>0.173339</td>\n",
       "      <td>0.521227</td>\n",
       "      <td>0.515715</td>\n",
       "      <td>0.525699</td>\n",
       "      <td>1.967251</td>\n",
       "      <td>1.977040</td>\n",
       "      <td>1.957000</td>\n",
       "      <td>...</td>\n",
       "      <td>1.583459</td>\n",
       "      <td>2.068833</td>\n",
       "      <td>-0.990102</td>\n",
       "      <td>-1.493095</td>\n",
       "      <td>-0.794801</td>\n",
       "      <td>2.164429</td>\n",
       "      <td>1.751372</td>\n",
       "      <td>-0.836951</td>\n",
       "      <td>1.157670</td>\n",
       "      <td>-0.421810</td>\n",
       "    </tr>\n",
       "  </tbody>\n",
       "</table>\n",
       "<p>5 rows × 56 columns</p>\n",
       "</div>"
      ],
      "text/plain": [
       "   Age65Plus      AIAN   AIANmen  AIANwomen     ANHPI  ANHPImen  ANHPIwomen  \\\n",
       "0  -0.445838 -0.068777 -0.075373  -0.062421  0.990972  1.025591    0.960094   \n",
       "1  -0.320688  0.056428  0.152814  -0.033582  0.615752  0.620306    0.611373   \n",
       "2  -1.509615  0.743369  0.950305   0.548247  2.357646  2.537354    2.199181   \n",
       "3  -0.237254 -0.185011 -0.182117  -0.187150 -0.074985 -0.070168   -0.079142   \n",
       "4  -0.988156  0.297119  0.428957   0.173339  0.521227  0.515715    0.525699   \n",
       "\n",
       "      Black  BlackMen  BlackWomen  ...  AirQuality     Parks  Broadband  \\\n",
       "0  0.076628  0.088451    0.066900  ...   -0.976009  0.846820  -1.717885   \n",
       "1  0.562760  0.578816    0.549019  ...    0.750144  0.467575  -1.463161   \n",
       "2  1.261923  1.321092    1.212223  ...    1.166802  2.068833  -1.099269   \n",
       "3 -0.142450 -0.140980   -0.143484  ...    0.988234  0.931097  -1.172048   \n",
       "4  1.967251  1.977040    1.957000  ...    1.583459  2.068833  -0.990102   \n",
       "\n",
       "   EdLessColl  SNAPrecipients  MedHomeValue  MedHouseIncome   Poverty  \\\n",
       "0   -3.368287       -1.483495      2.988556        3.877516 -1.666923   \n",
       "1   -2.544027       -1.184063      2.720466        3.191663 -1.445597   \n",
       "2   -2.204019        0.103495      2.382872        1.339860 -0.117641   \n",
       "3   -1.225211       -0.944517      1.042426        1.545616 -1.187384   \n",
       "4   -1.493095       -0.794801      2.164429        1.751372 -0.836951   \n",
       "\n",
       "   Unemploy       pcp  \n",
       "0  0.193532 -0.423358  \n",
       "1  0.477102 -0.423977  \n",
       "2  1.214384 -0.420881  \n",
       "3  0.477102 -0.421500  \n",
       "4  1.157670 -0.421810  \n",
       "\n",
       "[5 rows x 56 columns]"
      ]
     },
     "execution_count": 63,
     "metadata": {},
     "output_type": "execute_result"
    }
   ],
   "source": [
    "# Normalize the data\n",
    "scaler = StandardScaler()\n",
    "df_normalized = pd.DataFrame(scaler.fit_transform(df_numerical), columns=df_numerical.columns)\n",
    "\n",
    "df_normalized.head()"
   ]
  },
  {
   "cell_type": "markdown",
   "id": "456991de",
   "metadata": {},
   "source": [
    "After normalizing the numerical features in the dataset each feature now has a mean of 0 and a standard deviation of 1. This ensures that all features contribute equally to the clustering process, regardless of their original scale."
   ]
  },
  {
   "cell_type": "markdown",
   "id": "63ec3e3d",
   "metadata": {},
   "source": [
    "### Determining how many clusters to use"
   ]
  },
  {
   "cell_type": "markdown",
   "id": "1078b2d7",
   "metadata": {},
   "source": [
    "### Using Elbow method"
   ]
  },
  {
   "cell_type": "code",
   "execution_count": 64,
   "id": "7a209bd3",
   "metadata": {},
   "outputs": [
    {
     "data": {
      "image/png": "[encoded data removed]",
      "text/plain": [
       "<Figure size 800x600 with 1 Axes>"
      ]
     },
     "metadata": {},
     "output_type": "display_data"
    }
   ],
   "source": [
    "from sklearn.cluster import KMeans\n",
    "import matplotlib.pyplot as plt\n",
    "\n",
    "# Set a range of clusters to try out\n",
    "clusters_range = range(2, 15)\n",
    "\n",
    "# List to hold the inertia for each number of clusters\n",
    "inertias = []\n",
    "\n",
    "# Perform K-means for each number of clusters and store the inertia\n",
    "for num_clusters in clusters_range:\n",
    "    kmeans = KMeans(n_clusters=num_clusters, random_state=42)\n",
    "    kmeans.fit(df_normalized)\n",
    "    inertias.append(kmeans.inertia_)\n",
    "\n",
    "# Plot the elbow plot\n",
    "plt.figure(figsize=(8, 6))\n",
    "plt.plot(clusters_range, inertias, 'bo-')\n",
    "plt.xlabel('Number of Clusters')\n",
    "plt.ylabel('Inertia')\n",
    "plt.title('Elbow Method For Optimal Number of Clusters')\n",
    "plt.grid(True)\n",
    "plt.show()\n"
   ]
  },
  {
   "cell_type": "markdown",
   "id": "a8922002",
   "metadata": {},
   "source": [
    "The Elbow Method plot shows the inertia (sum of squared distances to the nearest cluster center) as a function of the number of clusters. From the plot, it's not entirely clear where the \"elbow\" is, as there isn't a sharp bend. This often happens with real-world data, which may not have well-separated clusters. However, we can see that the inertia starts to decrease at a slower rate from around 4 clusters onwards. Therefore, we'll choose 4 as the number of clusters for our K-means clustering."
   ]
  },
  {
   "cell_type": "markdown",
   "id": "4eb525d9",
   "metadata": {},
   "source": [
    "## K-Means - Modeling"
   ]
  },
  {
   "cell_type": "code",
   "execution_count": 65,
   "id": "f967a034",
   "metadata": {},
   "outputs": [
    {
     "data": {
      "text/html": [
       "<div>\n",
       "<style scoped>\n",
       "    .dataframe tbody tr th:only-of-type {\n",
       "        vertical-align: middle;\n",
       "    }\n",
       "\n",
       "    .dataframe tbody tr th {\n",
       "        vertical-align: top;\n",
       "    }\n",
       "\n",
       "    .dataframe thead th {\n",
       "        text-align: right;\n",
       "    }\n",
       "</style>\n",
       "<table border=\"1\" class=\"dataframe\">\n",
       "  <thead>\n",
       "    <tr style=\"text-align: right;\">\n",
       "      <th></th>\n",
       "      <th>fips</th>\n",
       "      <th>Age65Plus</th>\n",
       "      <th>AIAN</th>\n",
       "      <th>AIANmen</th>\n",
       "      <th>AIANwomen</th>\n",
       "      <th>ANHPI</th>\n",
       "      <th>ANHPImen</th>\n",
       "      <th>ANHPIwomen</th>\n",
       "      <th>Black</th>\n",
       "      <th>BlackMen</th>\n",
       "      <th>...</th>\n",
       "      <th>Poverty</th>\n",
       "      <th>Unemploy</th>\n",
       "      <th>UrbanRural</th>\n",
       "      <th>county</th>\n",
       "      <th>state</th>\n",
       "      <th>pcp</th>\n",
       "      <th>IsRural</th>\n",
       "      <th>CHD_Class</th>\n",
       "      <th>region</th>\n",
       "      <th>Cluster</th>\n",
       "    </tr>\n",
       "  </thead>\n",
       "  <tbody>\n",
       "    <tr>\n",
       "      <th>0</th>\n",
       "      <td>34027</td>\n",
       "      <td>17.1</td>\n",
       "      <td>446</td>\n",
       "      <td>213</td>\n",
       "      <td>233</td>\n",
       "      <td>39922</td>\n",
       "      <td>19200</td>\n",
       "      <td>20722</td>\n",
       "      <td>13116</td>\n",
       "      <td>6312</td>\n",
       "      <td>...</td>\n",
       "      <td>4.7</td>\n",
       "      <td>5.0</td>\n",
       "      <td>LargeFringe_Urban</td>\n",
       "      <td>Morris</td>\n",
       "      <td>NJ</td>\n",
       "      <td>1.0</td>\n",
       "      <td>False</td>\n",
       "      <td>Low</td>\n",
       "      <td>Northeast</td>\n",
       "      <td>1</td>\n",
       "    </tr>\n",
       "    <tr>\n",
       "      <th>1</th>\n",
       "      <td>34025</td>\n",
       "      <td>17.7</td>\n",
       "      <td>781</td>\n",
       "      <td>508</td>\n",
       "      <td>273</td>\n",
       "      <td>26636</td>\n",
       "      <td>12508</td>\n",
       "      <td>14128</td>\n",
       "      <td>33615</td>\n",
       "      <td>15605</td>\n",
       "      <td>...</td>\n",
       "      <td>5.9</td>\n",
       "      <td>5.5</td>\n",
       "      <td>LargeFringe_Urban</td>\n",
       "      <td>Monmouth</td>\n",
       "      <td>NJ</td>\n",
       "      <td>0.8</td>\n",
       "      <td>False</td>\n",
       "      <td>Low</td>\n",
       "      <td>Northeast</td>\n",
       "      <td>1</td>\n",
       "    </tr>\n",
       "    <tr>\n",
       "      <th>2</th>\n",
       "      <td>34017</td>\n",
       "      <td>12.0</td>\n",
       "      <td>2619</td>\n",
       "      <td>1539</td>\n",
       "      <td>1080</td>\n",
       "      <td>88314</td>\n",
       "      <td>44162</td>\n",
       "      <td>44152</td>\n",
       "      <td>63097</td>\n",
       "      <td>29672</td>\n",
       "      <td>...</td>\n",
       "      <td>13.1</td>\n",
       "      <td>6.8</td>\n",
       "      <td>Large_Urban</td>\n",
       "      <td>Hudson</td>\n",
       "      <td>NJ</td>\n",
       "      <td>1.8</td>\n",
       "      <td>False</td>\n",
       "      <td>Low</td>\n",
       "      <td>Northeast</td>\n",
       "      <td>0</td>\n",
       "    </tr>\n",
       "    <tr>\n",
       "      <th>3</th>\n",
       "      <td>34041</td>\n",
       "      <td>18.1</td>\n",
       "      <td>135</td>\n",
       "      <td>75</td>\n",
       "      <td>60</td>\n",
       "      <td>2178</td>\n",
       "      <td>1107</td>\n",
       "      <td>1071</td>\n",
       "      <td>3878</td>\n",
       "      <td>1964</td>\n",
       "      <td>...</td>\n",
       "      <td>7.3</td>\n",
       "      <td>5.5</td>\n",
       "      <td>MediumSmall_Urban</td>\n",
       "      <td>Warren</td>\n",
       "      <td>NJ</td>\n",
       "      <td>1.6</td>\n",
       "      <td>False</td>\n",
       "      <td>Low</td>\n",
       "      <td>Northeast</td>\n",
       "      <td>1</td>\n",
       "    </tr>\n",
       "    <tr>\n",
       "      <th>4</th>\n",
       "      <td>34039</td>\n",
       "      <td>14.5</td>\n",
       "      <td>1425</td>\n",
       "      <td>865</td>\n",
       "      <td>560</td>\n",
       "      <td>23289</td>\n",
       "      <td>10781</td>\n",
       "      <td>12508</td>\n",
       "      <td>92839</td>\n",
       "      <td>42103</td>\n",
       "      <td>...</td>\n",
       "      <td>9.2</td>\n",
       "      <td>6.7</td>\n",
       "      <td>Large_Urban</td>\n",
       "      <td>Union</td>\n",
       "      <td>NJ</td>\n",
       "      <td>1.5</td>\n",
       "      <td>False</td>\n",
       "      <td>Low</td>\n",
       "      <td>Northeast</td>\n",
       "      <td>1</td>\n",
       "    </tr>\n",
       "  </tbody>\n",
       "</table>\n",
       "<p>5 rows × 64 columns</p>\n",
       "</div>"
      ],
      "text/plain": [
       "    fips  Age65Plus  AIAN  AIANmen  AIANwomen  ANHPI  ANHPImen  ANHPIwomen  \\\n",
       "0  34027       17.1   446      213        233  39922     19200       20722   \n",
       "1  34025       17.7   781      508        273  26636     12508       14128   \n",
       "2  34017       12.0  2619     1539       1080  88314     44162       44152   \n",
       "3  34041       18.1   135       75         60   2178      1107        1071   \n",
       "4  34039       14.5  1425      865        560  23289     10781       12508   \n",
       "\n",
       "   Black  BlackMen  ...  Poverty  Unemploy         UrbanRural    county  \\\n",
       "0  13116      6312  ...      4.7       5.0  LargeFringe_Urban    Morris   \n",
       "1  33615     15605  ...      5.9       5.5  LargeFringe_Urban  Monmouth   \n",
       "2  63097     29672  ...     13.1       6.8        Large_Urban    Hudson   \n",
       "3   3878      1964  ...      7.3       5.5  MediumSmall_Urban    Warren   \n",
       "4  92839     42103  ...      9.2       6.7        Large_Urban     Union   \n",
       "\n",
       "   state  pcp  IsRural  CHD_Class     region  Cluster  \n",
       "0     NJ  1.0    False        Low  Northeast        1  \n",
       "1     NJ  0.8    False        Low  Northeast        1  \n",
       "2     NJ  1.8    False        Low  Northeast        0  \n",
       "3     NJ  1.6    False        Low  Northeast        1  \n",
       "4     NJ  1.5    False        Low  Northeast        1  \n",
       "\n",
       "[5 rows x 64 columns]"
      ]
     },
     "execution_count": 65,
     "metadata": {},
     "output_type": "execute_result"
    }
   ],
   "source": [
    "# Perform K-means clustering with 4 clusters\n",
    "kmeans = KMeans(n_clusters=4, random_state=42)\n",
    "kmeans.fit(df_normalized)\n",
    "\n",
    "# Get the cluster assignments for each data point\n",
    "cluster_assignments = kmeans.labels_\n",
    "\n",
    "# Add the cluster assignments back to the original DataFrame\n",
    "df['Cluster'] = cluster_assignments\n",
    "\n",
    "df.head()\n"
   ]
  },
  {
   "cell_type": "markdown",
   "id": "c361ebb6",
   "metadata": {},
   "source": [
    "We have successfully performed K-means clustering and assigned each data point to one of four clusters.  "
   ]
  },
  {
   "cell_type": "markdown",
   "id": "50dcbe6a",
   "metadata": {},
   "source": [
    "### Calculate the mean values"
   ]
  },
  {
   "cell_type": "code",
   "execution_count": 66,
   "id": "c9669ab2",
   "metadata": {},
   "outputs": [
    {
     "data": {
      "text/html": [
       "<div>\n",
       "<style scoped>\n",
       "    .dataframe tbody tr th:only-of-type {\n",
       "        vertical-align: middle;\n",
       "    }\n",
       "\n",
       "    .dataframe tbody tr th {\n",
       "        vertical-align: top;\n",
       "    }\n",
       "\n",
       "    .dataframe thead th {\n",
       "        text-align: right;\n",
       "    }\n",
       "</style>\n",
       "<table border=\"1\" class=\"dataframe\">\n",
       "  <thead>\n",
       "    <tr style=\"text-align: right;\">\n",
       "      <th>Cluster</th>\n",
       "      <th>0</th>\n",
       "      <th>1</th>\n",
       "      <th>2</th>\n",
       "      <th>3</th>\n",
       "    </tr>\n",
       "  </thead>\n",
       "  <tbody>\n",
       "    <tr>\n",
       "      <th>fips</th>\n",
       "      <td>2.623861e+04</td>\n",
       "      <td>30818.709951</td>\n",
       "      <td>6037.0</td>\n",
       "      <td>30180.962937</td>\n",
       "    </tr>\n",
       "    <tr>\n",
       "      <th>Age65Plus</th>\n",
       "      <td>1.451136e+01</td>\n",
       "      <td>18.532646</td>\n",
       "      <td>13.6</td>\n",
       "      <td>20.365788</td>\n",
       "    </tr>\n",
       "    <tr>\n",
       "      <th>AIAN</th>\n",
       "      <td>6.031023e+03</td>\n",
       "      <td>468.153519</td>\n",
       "      <td>61292.0</td>\n",
       "      <td>438.150392</td>\n",
       "    </tr>\n",
       "    <tr>\n",
       "      <th>AIANmen</th>\n",
       "      <td>2.982455e+03</td>\n",
       "      <td>231.899879</td>\n",
       "      <td>31146.0</td>\n",
       "      <td>213.125445</td>\n",
       "    </tr>\n",
       "    <tr>\n",
       "      <th>AIANwomen</th>\n",
       "      <td>3.048568e+03</td>\n",
       "      <td>236.253641</td>\n",
       "      <td>30146.0</td>\n",
       "      <td>225.024947</td>\n",
       "    </tr>\n",
       "    <tr>\n",
       "      <th>ANHPI</th>\n",
       "      <td>1.081277e+05</td>\n",
       "      <td>2482.338592</td>\n",
       "      <td>1263567.0</td>\n",
       "      <td>218.282965</td>\n",
       "    </tr>\n",
       "    <tr>\n",
       "      <th>ANHPImen</th>\n",
       "      <td>5.101868e+04</td>\n",
       "      <td>1159.301578</td>\n",
       "      <td>577195.0</td>\n",
       "      <td>97.368496</td>\n",
       "    </tr>\n",
       "    <tr>\n",
       "      <th>ANHPIwomen</th>\n",
       "      <td>5.710899e+04</td>\n",
       "      <td>1323.037015</td>\n",
       "      <td>686372.0</td>\n",
       "      <td>120.914469</td>\n",
       "    </tr>\n",
       "    <tr>\n",
       "      <th>Black</th>\n",
       "      <td>1.713742e+05</td>\n",
       "      <td>6184.191141</td>\n",
       "      <td>651221.0</td>\n",
       "      <td>3645.394155</td>\n",
       "    </tr>\n",
       "    <tr>\n",
       "      <th>BlackMen</th>\n",
       "      <td>7.813853e+04</td>\n",
       "      <td>2984.700850</td>\n",
       "      <td>302532.0</td>\n",
       "      <td>1752.470421</td>\n",
       "    </tr>\n",
       "    <tr>\n",
       "      <th>BlackWomen</th>\n",
       "      <td>9.323567e+04</td>\n",
       "      <td>3199.490291</td>\n",
       "      <td>348689.0</td>\n",
       "      <td>1892.923735</td>\n",
       "    </tr>\n",
       "    <tr>\n",
       "      <th>Hispanic</th>\n",
       "      <td>2.483860e+05</td>\n",
       "      <td>7584.780947</td>\n",
       "      <td>3535227.0</td>\n",
       "      <td>2136.420527</td>\n",
       "    </tr>\n",
       "    <tr>\n",
       "      <th>HispanicMen</th>\n",
       "      <td>1.233034e+05</td>\n",
       "      <td>3877.535801</td>\n",
       "      <td>1747526.0</td>\n",
       "      <td>1107.845331</td>\n",
       "    </tr>\n",
       "    <tr>\n",
       "      <th>HispanicWomen</th>\n",
       "      <td>1.250826e+05</td>\n",
       "      <td>3707.245146</td>\n",
       "      <td>1787701.0</td>\n",
       "      <td>1028.575196</td>\n",
       "    </tr>\n",
       "    <tr>\n",
       "      <th>OtherRace</th>\n",
       "      <td>7.339952e+04</td>\n",
       "      <td>2029.709345</td>\n",
       "      <td>1558111.0</td>\n",
       "      <td>436.946543</td>\n",
       "    </tr>\n",
       "    <tr>\n",
       "      <th>OtherRaceMen</th>\n",
       "      <td>3.705336e+04</td>\n",
       "      <td>1065.158981</td>\n",
       "      <td>776394.0</td>\n",
       "      <td>241.044191</td>\n",
       "    </tr>\n",
       "    <tr>\n",
       "      <th>OtherRaceWomen</th>\n",
       "      <td>3.634616e+04</td>\n",
       "      <td>964.550364</td>\n",
       "      <td>781717.0</td>\n",
       "      <td>195.902352</td>\n",
       "    </tr>\n",
       "    <tr>\n",
       "      <th>PopAllGenders</th>\n",
       "      <td>1.059144e+06</td>\n",
       "      <td>71888.060073</td>\n",
       "      <td>7862123.0</td>\n",
       "      <td>24038.928011</td>\n",
       "    </tr>\n",
       "    <tr>\n",
       "      <th>PopMen</th>\n",
       "      <td>5.122840e+05</td>\n",
       "      <td>35168.572209</td>\n",
       "      <td>3834913.0</td>\n",
       "      <td>11749.100499</td>\n",
       "    </tr>\n",
       "    <tr>\n",
       "      <th>PopWomen</th>\n",
       "      <td>5.468601e+05</td>\n",
       "      <td>36719.487864</td>\n",
       "      <td>4027210.0</td>\n",
       "      <td>12289.827512</td>\n",
       "    </tr>\n",
       "    <tr>\n",
       "      <th>pop</th>\n",
       "      <td>1.368954e+06</td>\n",
       "      <td>92594.621359</td>\n",
       "      <td>10040682.0</td>\n",
       "      <td>30972.838917</td>\n",
       "    </tr>\n",
       "    <tr>\n",
       "      <th>TwoPlus</th>\n",
       "      <td>5.514949e+04</td>\n",
       "      <td>2398.819782</td>\n",
       "      <td>487679.0</td>\n",
       "      <td>622.535994</td>\n",
       "    </tr>\n",
       "    <tr>\n",
       "      <th>TwoPlusMen</th>\n",
       "      <td>2.694277e+04</td>\n",
       "      <td>1185.782160</td>\n",
       "      <td>241287.0</td>\n",
       "      <td>313.129009</td>\n",
       "    </tr>\n",
       "    <tr>\n",
       "      <th>TwoPlusWomen</th>\n",
       "      <td>2.820672e+04</td>\n",
       "      <td>1213.037621</td>\n",
       "      <td>246392.0</td>\n",
       "      <td>309.406985</td>\n",
       "    </tr>\n",
       "    <tr>\n",
       "      <th>White</th>\n",
       "      <td>5.060054e+05</td>\n",
       "      <td>53838.028519</td>\n",
       "      <td>2242018.0</td>\n",
       "      <td>17242.942979</td>\n",
       "    </tr>\n",
       "    <tr>\n",
       "      <th>WhiteMen</th>\n",
       "      <td>2.477518e+05</td>\n",
       "      <td>26278.083738</td>\n",
       "      <td>1125722.0</td>\n",
       "      <td>8402.948681</td>\n",
       "    </tr>\n",
       "    <tr>\n",
       "      <th>WhiteWomen</th>\n",
       "      <td>2.582537e+05</td>\n",
       "      <td>27559.944782</td>\n",
       "      <td>1116296.0</td>\n",
       "      <td>8839.994298</td>\n",
       "    </tr>\n",
       "    <tr>\n",
       "      <th>bpmUse</th>\n",
       "      <td>7.297545e+01</td>\n",
       "      <td>75.952530</td>\n",
       "      <td>67.6</td>\n",
       "      <td>79.169423</td>\n",
       "    </tr>\n",
       "    <tr>\n",
       "      <th>CholScreen</th>\n",
       "      <td>8.632182e+01</td>\n",
       "      <td>85.046426</td>\n",
       "      <td>86.8</td>\n",
       "      <td>85.853457</td>\n",
       "    </tr>\n",
       "    <tr>\n",
       "      <th>CholMedNonAdhear</th>\n",
       "      <td>1.582500e+01</td>\n",
       "      <td>13.623060</td>\n",
       "      <td>16.5</td>\n",
       "      <td>16.432046</td>\n",
       "    </tr>\n",
       "    <tr>\n",
       "      <th>CholMedElegible</th>\n",
       "      <td>1.473068e+01</td>\n",
       "      <td>16.896129</td>\n",
       "      <td>15.1</td>\n",
       "      <td>20.758997</td>\n",
       "    </tr>\n",
       "    <tr>\n",
       "      <th>cruParticipate</th>\n",
       "      <td>2.559205e+01</td>\n",
       "      <td>39.768003</td>\n",
       "      <td>14.6</td>\n",
       "      <td>29.889777</td>\n",
       "    </tr>\n",
       "    <tr>\n",
       "      <th>Hospitals</th>\n",
       "      <td>1.005682e+01</td>\n",
       "      <td>1.399879</td>\n",
       "      <td>77.0</td>\n",
       "      <td>0.862438</td>\n",
       "    </tr>\n",
       "    <tr>\n",
       "      <th>HospCIC</th>\n",
       "      <td>3.931818e+00</td>\n",
       "      <td>0.282767</td>\n",
       "      <td>27.0</td>\n",
       "      <td>0.092659</td>\n",
       "    </tr>\n",
       "    <tr>\n",
       "      <th>HospCR</th>\n",
       "      <td>5.102273e+00</td>\n",
       "      <td>0.813107</td>\n",
       "      <td>24.0</td>\n",
       "      <td>0.306486</td>\n",
       "    </tr>\n",
       "    <tr>\n",
       "      <th>HospED</th>\n",
       "      <td>7.727273e+00</td>\n",
       "      <td>1.073422</td>\n",
       "      <td>47.0</td>\n",
       "      <td>0.576622</td>\n",
       "    </tr>\n",
       "    <tr>\n",
       "      <th>Pharmacies</th>\n",
       "      <td>1.371023e+01</td>\n",
       "      <td>8.723786</td>\n",
       "      <td>14.3</td>\n",
       "      <td>13.233143</td>\n",
       "    </tr>\n",
       "    <tr>\n",
       "      <th>HealthIns</th>\n",
       "      <td>1.044659e+01</td>\n",
       "      <td>10.294175</td>\n",
       "      <td>11.1</td>\n",
       "      <td>13.976764</td>\n",
       "    </tr>\n",
       "    <tr>\n",
       "      <th>CardioPhys</th>\n",
       "      <td>1.399773e+01</td>\n",
       "      <td>23.367621</td>\n",
       "      <td>15.1</td>\n",
       "      <td>19.053965</td>\n",
       "    </tr>\n",
       "    <tr>\n",
       "      <th>CHD</th>\n",
       "      <td>5.826136e+00</td>\n",
       "      <td>7.324515</td>\n",
       "      <td>5.6</td>\n",
       "      <td>9.387598</td>\n",
       "    </tr>\n",
       "    <tr>\n",
       "      <th>HighBP</th>\n",
       "      <td>3.038864e+01</td>\n",
       "      <td>33.601153</td>\n",
       "      <td>26.2</td>\n",
       "      <td>41.706486</td>\n",
       "    </tr>\n",
       "    <tr>\n",
       "      <th>Stroke</th>\n",
       "      <td>2.931818e+00</td>\n",
       "      <td>3.327913</td>\n",
       "      <td>2.9</td>\n",
       "      <td>4.568211</td>\n",
       "    </tr>\n",
       "    <tr>\n",
       "      <th>Diabetes</th>\n",
       "      <td>9.417045e+00</td>\n",
       "      <td>8.324272</td>\n",
       "      <td>9.0</td>\n",
       "      <td>9.319815</td>\n",
       "    </tr>\n",
       "    <tr>\n",
       "      <th>HighChol</th>\n",
       "      <td>3.103227e+01</td>\n",
       "      <td>33.430200</td>\n",
       "      <td>28.6</td>\n",
       "      <td>37.539843</td>\n",
       "    </tr>\n",
       "    <tr>\n",
       "      <th>Obesity</th>\n",
       "      <td>2.824955e+01</td>\n",
       "      <td>28.624169</td>\n",
       "      <td>25.0</td>\n",
       "      <td>28.510763</td>\n",
       "    </tr>\n",
       "    <tr>\n",
       "      <th>PhysInactivity</th>\n",
       "      <td>2.134820e+01</td>\n",
       "      <td>21.805462</td>\n",
       "      <td>19.0</td>\n",
       "      <td>24.588738</td>\n",
       "    </tr>\n",
       "    <tr>\n",
       "      <th>Smoker</th>\n",
       "      <td>1.396250e+01</td>\n",
       "      <td>16.767051</td>\n",
       "      <td>10.4</td>\n",
       "      <td>21.777904</td>\n",
       "    </tr>\n",
       "    <tr>\n",
       "      <th>AirQuality</th>\n",
       "      <td>9.094318e+00</td>\n",
       "      <td>7.180253</td>\n",
       "      <td>12.0</td>\n",
       "      <td>8.085101</td>\n",
       "    </tr>\n",
       "    <tr>\n",
       "      <th>Parks</th>\n",
       "      <td>6.250000e+01</td>\n",
       "      <td>30.591626</td>\n",
       "      <td>69.0</td>\n",
       "      <td>18.071276</td>\n",
       "    </tr>\n",
       "    <tr>\n",
       "      <th>Broadband</th>\n",
       "      <td>1.237727e+01</td>\n",
       "      <td>16.957464</td>\n",
       "      <td>13.0</td>\n",
       "      <td>27.330364</td>\n",
       "    </tr>\n",
       "    <tr>\n",
       "      <th>EdLessColl</th>\n",
       "      <td>6.053977e+01</td>\n",
       "      <td>73.123180</td>\n",
       "      <td>66.5</td>\n",
       "      <td>83.469922</td>\n",
       "    </tr>\n",
       "    <tr>\n",
       "      <th>SNAPrecipients</th>\n",
       "      <td>1.199432e+01</td>\n",
       "      <td>8.826032</td>\n",
       "      <td>10.1</td>\n",
       "      <td>16.644690</td>\n",
       "    </tr>\n",
       "    <tr>\n",
       "      <th>MedHomeValue</th>\n",
       "      <td>3.657045e+05</td>\n",
       "      <td>191848.387743</td>\n",
       "      <td>616000.0</td>\n",
       "      <td>111633.271561</td>\n",
       "    </tr>\n",
       "    <tr>\n",
       "      <th>MedHouseIncome</th>\n",
       "      <td>7.795455e+04</td>\n",
       "      <td>64970.266990</td>\n",
       "      <td>76000.0</td>\n",
       "      <td>47349.251604</td>\n",
       "    </tr>\n",
       "    <tr>\n",
       "      <th>Poverty</th>\n",
       "      <td>1.178977e+01</td>\n",
       "      <td>10.553459</td>\n",
       "      <td>13.2</td>\n",
       "      <td>17.600855</td>\n",
       "    </tr>\n",
       "    <tr>\n",
       "      <th>Unemploy</th>\n",
       "      <td>5.809091e+00</td>\n",
       "      <td>4.163653</td>\n",
       "      <td>8.9</td>\n",
       "      <td>5.165146</td>\n",
       "    </tr>\n",
       "    <tr>\n",
       "      <th>pcp</th>\n",
       "      <td>1.366516e+03</td>\n",
       "      <td>136.903671</td>\n",
       "      <td>4873.0</td>\n",
       "      <td>58.267688</td>\n",
       "    </tr>\n",
       "    <tr>\n",
       "      <th>IsRural</th>\n",
       "      <td>0.000000e+00</td>\n",
       "      <td>0.539442</td>\n",
       "      <td>0.0</td>\n",
       "      <td>0.774056</td>\n",
       "    </tr>\n",
       "  </tbody>\n",
       "</table>\n",
       "</div>"
      ],
      "text/plain": [
       "Cluster                      0              1           2              3\n",
       "fips              2.623861e+04   30818.709951      6037.0   30180.962937\n",
       "Age65Plus         1.451136e+01      18.532646        13.6      20.365788\n",
       "AIAN              6.031023e+03     468.153519     61292.0     438.150392\n",
       "AIANmen           2.982455e+03     231.899879     31146.0     213.125445\n",
       "AIANwomen         3.048568e+03     236.253641     30146.0     225.024947\n",
       "ANHPI             1.081277e+05    2482.338592   1263567.0     218.282965\n",
       "ANHPImen          5.101868e+04    1159.301578    577195.0      97.368496\n",
       "ANHPIwomen        5.710899e+04    1323.037015    686372.0     120.914469\n",
       "Black             1.713742e+05    6184.191141    651221.0    3645.394155\n",
       "BlackMen          7.813853e+04    2984.700850    302532.0    1752.470421\n",
       "BlackWomen        9.323567e+04    3199.490291    348689.0    1892.923735\n",
       "Hispanic          2.483860e+05    7584.780947   3535227.0    2136.420527\n",
       "HispanicMen       1.233034e+05    3877.535801   1747526.0    1107.845331\n",
       "HispanicWomen     1.250826e+05    3707.245146   1787701.0    1028.575196\n",
       "OtherRace         7.339952e+04    2029.709345   1558111.0     436.946543\n",
       "OtherRaceMen      3.705336e+04    1065.158981    776394.0     241.044191\n",
       "OtherRaceWomen    3.634616e+04     964.550364    781717.0     195.902352\n",
       "PopAllGenders     1.059144e+06   71888.060073   7862123.0   24038.928011\n",
       "PopMen            5.122840e+05   35168.572209   3834913.0   11749.100499\n",
       "PopWomen          5.468601e+05   36719.487864   4027210.0   12289.827512\n",
       "pop               1.368954e+06   92594.621359  10040682.0   30972.838917\n",
       "TwoPlus           5.514949e+04    2398.819782    487679.0     622.535994\n",
       "TwoPlusMen        2.694277e+04    1185.782160    241287.0     313.129009\n",
       "TwoPlusWomen      2.820672e+04    1213.037621    246392.0     309.406985\n",
       "White             5.060054e+05   53838.028519   2242018.0   17242.942979\n",
       "WhiteMen          2.477518e+05   26278.083738   1125722.0    8402.948681\n",
       "WhiteWomen        2.582537e+05   27559.944782   1116296.0    8839.994298\n",
       "bpmUse            7.297545e+01      75.952530        67.6      79.169423\n",
       "CholScreen        8.632182e+01      85.046426        86.8      85.853457\n",
       "CholMedNonAdhear  1.582500e+01      13.623060        16.5      16.432046\n",
       "CholMedElegible   1.473068e+01      16.896129        15.1      20.758997\n",
       "cruParticipate    2.559205e+01      39.768003        14.6      29.889777\n",
       "Hospitals         1.005682e+01       1.399879        77.0       0.862438\n",
       "HospCIC           3.931818e+00       0.282767        27.0       0.092659\n",
       "HospCR            5.102273e+00       0.813107        24.0       0.306486\n",
       "HospED            7.727273e+00       1.073422        47.0       0.576622\n",
       "Pharmacies        1.371023e+01       8.723786        14.3      13.233143\n",
       "HealthIns         1.044659e+01      10.294175        11.1      13.976764\n",
       "CardioPhys        1.399773e+01      23.367621        15.1      19.053965\n",
       "CHD               5.826136e+00       7.324515         5.6       9.387598\n",
       "HighBP            3.038864e+01      33.601153        26.2      41.706486\n",
       "Stroke            2.931818e+00       3.327913         2.9       4.568211\n",
       "Diabetes          9.417045e+00       8.324272         9.0       9.319815\n",
       "HighChol          3.103227e+01      33.430200        28.6      37.539843\n",
       "Obesity           2.824955e+01      28.624169        25.0      28.510763\n",
       "PhysInactivity    2.134820e+01      21.805462        19.0      24.588738\n",
       "Smoker            1.396250e+01      16.767051        10.4      21.777904\n",
       "AirQuality        9.094318e+00       7.180253        12.0       8.085101\n",
       "Parks             6.250000e+01      30.591626        69.0      18.071276\n",
       "Broadband         1.237727e+01      16.957464        13.0      27.330364\n",
       "EdLessColl        6.053977e+01      73.123180        66.5      83.469922\n",
       "SNAPrecipients    1.199432e+01       8.826032        10.1      16.644690\n",
       "MedHomeValue      3.657045e+05  191848.387743    616000.0  111633.271561\n",
       "MedHouseIncome    7.795455e+04   64970.266990     76000.0   47349.251604\n",
       "Poverty           1.178977e+01      10.553459        13.2      17.600855\n",
       "Unemploy          5.809091e+00       4.163653         8.9       5.165146\n",
       "pcp               1.366516e+03     136.903671      4873.0      58.267688\n",
       "IsRural           0.000000e+00       0.539442         0.0       0.774056"
      ]
     },
     "execution_count": 66,
     "metadata": {},
     "output_type": "execute_result"
    }
   ],
   "source": [
    "# Calculate the mean values of our features within each cluster\n",
    "cluster_characteristics = df.groupby('Cluster').mean()\n",
    "cluster_characteristics.transpose()"
   ]
  },
  {
   "cell_type": "markdown",
   "id": "b088fa21",
   "metadata": {},
   "source": [
    "The table above shows the average values of each feature for each cluster. This can help us understand the distinguishing characteristics of each cluster."
   ]
  },
  {
   "cell_type": "markdown",
   "id": "d518f98e",
   "metadata": {},
   "source": [
    "## K-Means - Model Results"
   ]
  },
  {
   "cell_type": "markdown",
   "id": "63a9d5a5",
   "metadata": {},
   "source": [
    "### Silhouette score"
   ]
  },
  {
   "cell_type": "code",
   "execution_count": 67,
   "id": "e099d746",
   "metadata": {},
   "outputs": [
    {
     "data": {
      "text/plain": [
       "0.16659025768870228"
      ]
     },
     "execution_count": 67,
     "metadata": {},
     "output_type": "execute_result"
    }
   ],
   "source": [
    "from sklearn.metrics import silhouette_score\n",
    "\n",
    "# Calculate the silhouette score\n",
    "sil_score = silhouette_score(df_normalized, cluster_assignments)\n",
    "\n",
    "sil_score"
   ]
  },
  {
   "cell_type": "markdown",
   "id": "bdc1b73b",
   "metadata": {},
   "source": [
    "The silhouette score for our clustering is approximately 0.167. This score is relatively low, indicating that the clusters are not very clearly separated and that the samples within each cluster are not extremely dense. This is not surprising considering that we have used a high-dimensional dataset with many features, which can make it challenging to form distinct clusters."
   ]
  },
  {
   "cell_type": "markdown",
   "id": "1b89a113",
   "metadata": {},
   "source": [
    "## K-Means - Overall Results"
   ]
  },
  {
   "cell_type": "markdown",
   "id": "a97b83f6",
   "metadata": {},
   "source": [
    "We described the characteristics of each cluster by examining the mean of each feature within the clusters. This gave us some insights into the health and socio-economic conditions in each cluster, especially in terms of urban and rural differences. The k-means clustering shows a silhouette score of approximately 0.167. This score is relatively low, indicating that the clusters are not very clearly separated and that the samples within each cluster are not extremely dense. This is not surprising considering that we have used a high-dimensional dataset with many features, which can make it challenging to form distinct clusters."
   ]
  },
  {
   "cell_type": "markdown",
   "id": "2bb1aacb",
   "metadata": {},
   "source": [
    "# Results"
   ]
  },
  {
   "cell_type": "markdown",
   "id": "6415d6cf",
   "metadata": {},
   "source": [
    "Through our exploratory data analysis, we found interesting patterns and distributions in the data, such as, you can see a positive correlation between coronary heart disease (CHD) and people who smoke, and with people who have had a stroke. Also see that as poverty rates increase there is an association that prevalence of CHD also goes up. When you look at median household income, as income rises prevalence of coronary heart disease goes down.\n",
    "\n",
    "Our machine learning models yielded promising results. The SVM model achieved an accuracy of approximately 92.1%, while the Random Forest model achieved an accuracy of approximately 89.4%. Therefore, the SVM model performed slightly better on this dataset. The k-means clustering shows a silhouette score of approximately 0.167. This score is relatively low, indicating that the clusters are not very clearly separated and that the samples within each cluster are not extremely dense. This is not surprising considering that we have used a high-dimensional dataset with many features, which can make it challenging to form distinct clusters."
   ]
  },
  {
   "cell_type": "markdown",
   "id": "804513d4",
   "metadata": {},
   "source": [
    "# Discussions and Implications"
   ]
  },
  {
   "cell_type": "markdown",
   "id": "e7602f4c",
   "metadata": {},
   "source": [
    "The difference in performance between the SVM and Random Forest models could be attributed to the specific properties of these algorithms. SVMs tend to perform well on high-dimensional data, while Random Forests are often better suited for datasets with a mix of categorical and numerical features. The k-means clustering results provide additional insights into the structure of the dataset, potentially informing feature engineering and selection processes.\n",
    "\n",
    "These findings highlight the potential of machine learning in aiding the prediction of Coronary Heart Disease, which could have significant implications for early intervention and treatment planning."
   ]
  },
  {
   "cell_type": "markdown",
   "id": "4352de81",
   "metadata": {},
   "source": [
    "# Conclusion"
   ]
  },
  {
   "cell_type": "markdown",
   "id": "4c2a9676",
   "metadata": {},
   "source": [
    "In conclusion, our project demonstrates the feasibility and potential of using machine learning for predicting Coronary Heart Disease. The findings suggest that machine learning, and specifically SVM, can provide a valuable tool in the field of health informatics. Future work could explore other algorithms, feature engineering techniques, and larger or more diverse datasets to further improve prediction performance.These findings suggest that machine learning can be a valuable tool in health informatics, providing insights that can aid in early disease prediction and intervention."
   ]
  },
  {
   "cell_type": "markdown",
   "id": "7f1d02c5",
   "metadata": {},
   "source": [
    "# References"
   ]
  },
  {
   "cell_type": "markdown",
   "id": "1c86cf3b",
   "metadata": {},
   "source": [
    "1. Scikit-learn: Machine Learning in Python (https://scikit-learn.org/stable/index.html)\n",
    "2. CDC Dataset (https://nccd.cdc.gov/DHDSPAtlas/?state=County)"
   ]
  },
  {
   "cell_type": "markdown",
   "id": "903d87ad",
   "metadata": {},
   "source": [
    "# Appendix: List of Contributors"
   ]
  },
  {
   "cell_type": "markdown",
   "id": "d9103335",
   "metadata": {},
   "source": [
    "1. Hans LehnDorff - [LinkedIn](https://www.linkedin.com/in/hans-lehndorff/)\n",
    "2. Isaac Johnson - [LinkedIn](https://www.linkedin.com/in/isaacajohnson/)\n",
    "3. Jesse DeBolt - [LinkedIn](https://www.linkedin.com/in/jessedebolt/)"
   ]
  }
 ],
 "metadata": {
  "kernelspec": {
   "display_name": "Python 3 (ipykernel)",
   "language": "python",
   "name": "python3"
  },
  "language_info": {
   "codemirror_mode": {
    "name": "ipython",
    "version": 3
   },
   "file_extension": ".py",
   "mimetype": "text/x-python",
   "name": "python",
   "nbconvert_exporter": "python",
   "pygments_lexer": "ipython3",
   "version": "3.10.9"
  }
 },
 "nbformat": 4,
 "nbformat_minor": 5
}
