{
 "cells": [
  {
   "cell_type": "markdown",
   "id": "03f8ed12",
   "metadata": {},
   "source": [
    "# DATA599-02:Python for Data Science - Final Project: Effort Diary\n",
    "***\n",
    "## Members:\n",
    "- Hans Lehndorff\n",
    "- Isaac Johnson\n",
    "- Jesse DeBolt"
   ]
  },
  {
   "cell_type": "markdown",
   "id": "9bd75f0a",
   "metadata": {},
   "source": [
    "## Effort per member as of 7/24/2023"
   ]
  },
  {
   "cell_type": "code",
   "execution_count": 10,
   "id": "e12da1af",
   "metadata": {},
   "outputs": [],
   "source": [
    "import pandas as pd\n",
    "import numpy as np\n",
    "\n",
    "# Define the tasks and members\n",
    "tasks = [\"Project Proposal\", \"Data Pre-processing\", \"Visualizations\", \"Various EDA\", \n",
    "         \"Random Forest Classifier\", \"Support Vector Classifier\", \"Clustering\", \n",
    "         \"Advanced Tasks\", \"Effort Diary\"]\n",
    "members = [\"Hans Lehndorff\", \"Isaac Johnson\", \"Jesse DeBolt\"]\n",
    "\n",
    "# Define the effort each member put into each task\n",
    "effort = [\n",
    "    [10, 80, 10],  # Project Proposal\n",
    "    [10, 10, 80],  # Data Pre-processing\n",
    "    [80, 10, 10],  # Visualizations\n",
    "    [\"-\", \"-\", \"-\"],  # Various EDA\n",
    "    [\"-\", \"-\", \"-\"],  # Random Forest Classifier\n",
    "    [\"-\", \"-\", \"-\"],  # Support Vector Classifier\n",
    "    [\"-\", \"-\", \"-\"],  # Clustering\n",
    "    [\"-\", \"-\", \"-\"],  # Advanced Tasks\n",
    "    [33.3, 33.3, 33.3]  # Effort Diary\n",
    "]\n",
    "\n",
    "# Create the DataFrame\n",
    "df = pd.DataFrame(effort, columns=members, index=tasks)"
   ]
  },
  {
   "cell_type": "markdown",
   "id": "b78e50e8",
   "metadata": {},
   "source": [
    "## Addidtional formatting and displaying resulting table"
   ]
  },
  {
   "cell_type": "code",
   "execution_count": 11,
   "id": "1a31b029",
   "metadata": {},
   "outputs": [
    {
     "data": {
      "text/html": [
       "<style type=\"text/css\">\n",
       "#T_87b69_row0_col0, #T_87b69_row0_col1, #T_87b69_row0_col2, #T_87b69_row1_col0, #T_87b69_row1_col1, #T_87b69_row1_col2, #T_87b69_row2_col0, #T_87b69_row2_col1, #T_87b69_row2_col2, #T_87b69_row3_col0, #T_87b69_row3_col1, #T_87b69_row3_col2, #T_87b69_row4_col0, #T_87b69_row4_col1, #T_87b69_row4_col2, #T_87b69_row5_col0, #T_87b69_row5_col1, #T_87b69_row5_col2, #T_87b69_row6_col0, #T_87b69_row6_col1, #T_87b69_row6_col2, #T_87b69_row7_col0, #T_87b69_row7_col1, #T_87b69_row7_col2, #T_87b69_row8_col0, #T_87b69_row8_col1, #T_87b69_row8_col2 {\n",
       "  text-align: center;\n",
       "}\n",
       "</style>\n",
       "<table id=\"T_87b69\">\n",
       "  <thead>\n",
       "    <tr>\n",
       "      <th class=\"blank level0\" >&nbsp;</th>\n",
       "      <th id=\"T_87b69_level0_col0\" class=\"col_heading level0 col0\" >Hans Lehndorff</th>\n",
       "      <th id=\"T_87b69_level0_col1\" class=\"col_heading level0 col1\" >Isaac Johnson</th>\n",
       "      <th id=\"T_87b69_level0_col2\" class=\"col_heading level0 col2\" >Jesse DeBolt</th>\n",
       "    </tr>\n",
       "  </thead>\n",
       "  <tbody>\n",
       "    <tr>\n",
       "      <th id=\"T_87b69_level0_row0\" class=\"row_heading level0 row0\" >Project Proposal</th>\n",
       "      <td id=\"T_87b69_row0_col0\" class=\"data row0 col0\" >10.0</td>\n",
       "      <td id=\"T_87b69_row0_col1\" class=\"data row0 col1\" >80.0</td>\n",
       "      <td id=\"T_87b69_row0_col2\" class=\"data row0 col2\" >10.0</td>\n",
       "    </tr>\n",
       "    <tr>\n",
       "      <th id=\"T_87b69_level0_row1\" class=\"row_heading level0 row1\" >Data Pre-processing</th>\n",
       "      <td id=\"T_87b69_row1_col0\" class=\"data row1 col0\" >10.0</td>\n",
       "      <td id=\"T_87b69_row1_col1\" class=\"data row1 col1\" >10.0</td>\n",
       "      <td id=\"T_87b69_row1_col2\" class=\"data row1 col2\" >80.0</td>\n",
       "    </tr>\n",
       "    <tr>\n",
       "      <th id=\"T_87b69_level0_row2\" class=\"row_heading level0 row2\" >Visualizations</th>\n",
       "      <td id=\"T_87b69_row2_col0\" class=\"data row2 col0\" >80.0</td>\n",
       "      <td id=\"T_87b69_row2_col1\" class=\"data row2 col1\" >10.0</td>\n",
       "      <td id=\"T_87b69_row2_col2\" class=\"data row2 col2\" >10.0</td>\n",
       "    </tr>\n",
       "    <tr>\n",
       "      <th id=\"T_87b69_level0_row3\" class=\"row_heading level0 row3\" >Various EDA</th>\n",
       "      <td id=\"T_87b69_row3_col0\" class=\"data row3 col0\" >-</td>\n",
       "      <td id=\"T_87b69_row3_col1\" class=\"data row3 col1\" >-</td>\n",
       "      <td id=\"T_87b69_row3_col2\" class=\"data row3 col2\" >-</td>\n",
       "    </tr>\n",
       "    <tr>\n",
       "      <th id=\"T_87b69_level0_row4\" class=\"row_heading level0 row4\" >Random Forest Classifier</th>\n",
       "      <td id=\"T_87b69_row4_col0\" class=\"data row4 col0\" >-</td>\n",
       "      <td id=\"T_87b69_row4_col1\" class=\"data row4 col1\" >-</td>\n",
       "      <td id=\"T_87b69_row4_col2\" class=\"data row4 col2\" >-</td>\n",
       "    </tr>\n",
       "    <tr>\n",
       "      <th id=\"T_87b69_level0_row5\" class=\"row_heading level0 row5\" >Support Vector Classifier</th>\n",
       "      <td id=\"T_87b69_row5_col0\" class=\"data row5 col0\" >-</td>\n",
       "      <td id=\"T_87b69_row5_col1\" class=\"data row5 col1\" >-</td>\n",
       "      <td id=\"T_87b69_row5_col2\" class=\"data row5 col2\" >-</td>\n",
       "    </tr>\n",
       "    <tr>\n",
       "      <th id=\"T_87b69_level0_row6\" class=\"row_heading level0 row6\" >Clustering</th>\n",
       "      <td id=\"T_87b69_row6_col0\" class=\"data row6 col0\" >-</td>\n",
       "      <td id=\"T_87b69_row6_col1\" class=\"data row6 col1\" >-</td>\n",
       "      <td id=\"T_87b69_row6_col2\" class=\"data row6 col2\" >-</td>\n",
       "    </tr>\n",
       "    <tr>\n",
       "      <th id=\"T_87b69_level0_row7\" class=\"row_heading level0 row7\" >Advanced Tasks</th>\n",
       "      <td id=\"T_87b69_row7_col0\" class=\"data row7 col0\" >-</td>\n",
       "      <td id=\"T_87b69_row7_col1\" class=\"data row7 col1\" >-</td>\n",
       "      <td id=\"T_87b69_row7_col2\" class=\"data row7 col2\" >-</td>\n",
       "    </tr>\n",
       "    <tr>\n",
       "      <th id=\"T_87b69_level0_row8\" class=\"row_heading level0 row8\" >Effort Diary</th>\n",
       "      <td id=\"T_87b69_row8_col0\" class=\"data row8 col0\" >33.3</td>\n",
       "      <td id=\"T_87b69_row8_col1\" class=\"data row8 col1\" >33.3</td>\n",
       "      <td id=\"T_87b69_row8_col2\" class=\"data row8 col2\" >33.3</td>\n",
       "    </tr>\n",
       "  </tbody>\n",
       "</table>\n"
      ],
      "text/plain": [
       "<pandas.io.formats.style.Styler at 0x27c9b016cb0>"
      ]
     },
     "execution_count": 11,
     "metadata": {},
     "output_type": "execute_result"
    }
   ],
   "source": [
    "# For existing numeric values, convert them to float and round to 1 decimal place, then convert them to strings with one decimal\n",
    "for col in df.columns:\n",
    "    df[col] = df[col].apply(lambda x: \"{:.1f}\".format(float(x)) if isinstance(x, (int, float)) else x)\n",
    "\n",
    "# Then convert all 'nan' values back to 'tbd'\n",
    "df = df.replace('nan', 'tbd')\n",
    "\n",
    "# Display the DataFrame with centered alignment\n",
    "df.style.set_properties(**{'text-align': 'center'})\n"
   ]
  }
 ],
 "metadata": {
  "kernelspec": {
   "display_name": "Python 3 (ipykernel)",
   "language": "python",
   "name": "python3"
  },
  "language_info": {
   "codemirror_mode": {
    "name": "ipython",
    "version": 3
   },
   "file_extension": ".py",
   "mimetype": "text/x-python",
   "name": "python",
   "nbconvert_exporter": "python",
   "pygments_lexer": "ipython3",
   "version": "3.10.9"
  }
 },
 "nbformat": 4,
 "nbformat_minor": 5
}
