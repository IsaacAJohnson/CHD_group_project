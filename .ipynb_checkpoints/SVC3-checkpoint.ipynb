{
 "cells": [
  {
   "cell_type": "markdown",
   "id": "ebb543d0",
   "metadata": {},
   "source": [
    "## SVC"
   ]
  },
  {
   "cell_type": "code",
   "execution_count": 3,
   "id": "23898903",
   "metadata": {},
   "outputs": [
    {
     "name": "stdout",
     "output_type": "stream",
     "text": [
      "Fitting 5 folds for each of 2 candidates, totalling 10 fits\n"
     ]
    },
    {
     "data": {
      "text/plain": [
       "0.9210191082802548"
      ]
     },
     "execution_count": 3,
     "metadata": {},
     "output_type": "execute_result"
    }
   ],
   "source": [
    "# Import necessary libraries\n",
    "import pandas as pd\n",
    "from sklearn.model_selection import train_test_split, GridSearchCV\n",
    "from sklearn.preprocessing import StandardScaler, OneHotEncoder\n",
    "from sklearn.metrics import accuracy_score\n",
    "from sklearn.svm import SVC\n",
    "\n",
    "# Load data\n",
    "chd = pd.read_csv(\"data/CDC_python_clean.csv\")\n",
    "\n",
    "# Drop unnecessary columns\n",
    "columns_to_drop = ['fips', 'CHD', 'county', 'UrbanRural']\n",
    "chd = chd.drop(columns=columns_to_drop)\n",
    "\n",
    "# Define features and target\n",
    "X = chd.drop(columns=['CHD_Class'])\n",
    "y = chd['CHD_Class']\n",
    "\n",
    "# One-hot encode categorical variables\n",
    "char_cols = X.select_dtypes(include=['object']).columns\n",
    "X = pd.get_dummies(X, columns=char_cols, drop_first=True)\n",
    "\n",
    "# Scale numerical variables\n",
    "numeric_columns = X.select_dtypes(include=['float64', 'int64']).columns\n",
    "scaler = StandardScaler()\n",
    "X[numeric_columns] = scaler.fit_transform(X[numeric_columns])\n",
    "\n",
    "# Split data into train and test sets\n",
    "Xtrain, Xtest, ytrain, ytest = train_test_split(X, y, random_state=42)\n",
    "\n",
    "# Define the SVC classifier\n",
    "svc = SVC(kernel='linear')\n",
    "\n",
    "# Define the parameter grid for the GridSearchCV\n",
    "param_grid = {\n",
    "    'C': [0.1, 1],  # You can extend this range if you have more computational resources\n",
    "}\n",
    "\n",
    "# Define the GridSearchCV for hyperparameter tuning\n",
    "grid_search = GridSearchCV(\n",
    "    estimator=svc,\n",
    "    param_grid=param_grid,\n",
    "    cv=5,        # Number of cross-validation folds\n",
    "    n_jobs=-1,   # Use all available CPU cores for parallel processing\n",
    "    verbose=True\n",
    ")\n",
    "\n",
    "# Fit the GridSearchCV to the training data\n",
    "grid_search.fit(Xtrain, ytrain)\n",
    "\n",
    "# Get the best SVC classifier\n",
    "best_svc = grid_search.best_estimator_\n",
    "\n",
    "# Predict the test set results\n",
    "svc_pred = best_svc.predict(Xtest)\n",
    "\n",
    "# Compute the accuracy of the SVC classifier\n",
    "svc_accuracy = accuracy_score(ytest, svc_pred)\n",
    "\n",
    "svc_accuracy\n"
   ]
  }
 ],
 "metadata": {
  "kernelspec": {
   "display_name": "Python 3 (ipykernel)",
   "language": "python",
   "name": "python3"
  },
  "language_info": {
   "codemirror_mode": {
    "name": "ipython",
    "version": 3
   },
   "file_extension": ".py",
   "mimetype": "text/x-python",
   "name": "python",
   "nbconvert_exporter": "python",
   "pygments_lexer": "ipython3",
   "version": "3.10.9"
  }
 },
 "nbformat": 4,
 "nbformat_minor": 5
}
