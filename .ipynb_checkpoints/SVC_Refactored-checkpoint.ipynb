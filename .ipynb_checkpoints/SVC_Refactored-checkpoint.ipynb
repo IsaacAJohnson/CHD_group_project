{
 "cells": [
  {
   "cell_type": "markdown",
   "id": "261c11c0",
   "metadata": {},
   "source": [
    "## SVC for CHD_Class prediction"
   ]
  },
  {
   "cell_type": "markdown",
   "id": "0bdf3aed",
   "metadata": {},
   "source": [
    "### Data Loading and Preprocessing"
   ]
  },
  {
   "cell_type": "code",
   "execution_count": 1,
   "id": "ca9db2d8",
   "metadata": {},
   "outputs": [
    {
     "data": {
      "text/plain": [
       "(   Age65Plus      AIAN   AIANmen  AIANwomen     ANHPI  ANHPImen  ANHPIwomen  \\\n",
       " 0  -0.445838 -0.068777 -0.075373  -0.062421  0.990972  1.025591    0.960094   \n",
       " 1  -0.320688  0.056428  0.152814  -0.033582  0.615752  0.620306    0.611373   \n",
       " 2  -1.509615  0.743369  0.950305   0.548247  2.357646  2.537354    2.199181   \n",
       " 3  -0.237254 -0.185011 -0.182117  -0.187150 -0.074985 -0.070168   -0.079142   \n",
       " 4  -0.988156  0.297119  0.428957   0.173339  0.521227  0.515715    0.525699   \n",
       " \n",
       "       Black  BlackMen  BlackWomen  ...  state_UT  state_VA  state_VT  \\\n",
       " 0  0.076628  0.088451    0.066900  ...         0         0         0   \n",
       " 1  0.562760  0.578816    0.549019  ...         0         0         0   \n",
       " 2  1.261923  1.321092    1.212223  ...         0         0         0   \n",
       " 3 -0.142450 -0.140980   -0.143484  ...         0         0         0   \n",
       " 4  1.967251  1.977040    1.957000  ...         0         0         0   \n",
       " \n",
       "    state_WA  state_WI  state_WV  state_WY  region_Northeast  region_South  \\\n",
       " 0         0         0         0         0                 1             0   \n",
       " 1         0         0         0         0                 1             0   \n",
       " 2         0         0         0         0                 1             0   \n",
       " 3         0         0         0         0                 1             0   \n",
       " 4         0         0         0         0                 1             0   \n",
       " \n",
       "    region_West  \n",
       " 0            0  \n",
       " 1            0  \n",
       " 2            0  \n",
       " 3            0  \n",
       " 4            0  \n",
       " \n",
       " [5 rows x 109 columns],\n",
       " 0    Low\n",
       " 1    Low\n",
       " 2    Low\n",
       " 3    Low\n",
       " 4    Low\n",
       " Name: CHD_Class, dtype: object)"
      ]
     },
     "execution_count": 1,
     "metadata": {},
     "output_type": "execute_result"
    }
   ],
   "source": [
    "\n",
    "import pandas as pd\n",
    "from sklearn.preprocessing import StandardScaler, OneHotEncoder\n",
    "\n",
    "# Load data\n",
    "chd = pd.read_csv(\"data/CDC_python_clean.csv\")\n",
    "\n",
    "# Drop unnecessary columns\n",
    "columns_to_drop = ['fips', 'CHD', 'county', 'UrbanRural']\n",
    "chd = chd.drop(columns=columns_to_drop)\n",
    "\n",
    "# Define features and target\n",
    "X = chd.drop(columns=['CHD_Class'])\n",
    "y = chd['CHD_Class']\n",
    "\n",
    "# One-hot encode categorical variables\n",
    "char_cols = X.select_dtypes(include=['object']).columns\n",
    "X = pd.get_dummies(X, columns=char_cols, drop_first=True)\n",
    "\n",
    "# Scale numerical variables\n",
    "numeric_columns = X.select_dtypes(include=['float64', 'int64']).columns\n",
    "scaler = StandardScaler()\n",
    "X[numeric_columns] = scaler.fit_transform(X[numeric_columns])\n",
    "\n",
    "X.head(), y.head()\n"
   ]
  },
  {
   "cell_type": "markdown",
   "id": "67956ab7",
   "metadata": {},
   "source": [
    "### Data Splitting"
   ]
  },
  {
   "cell_type": "code",
   "execution_count": 3,
   "id": "7b489083",
   "metadata": {},
   "outputs": [
    {
     "data": {
      "text/plain": [
       "((2355, 109), (785, 109))"
      ]
     },
     "execution_count": 3,
     "metadata": {},
     "output_type": "execute_result"
    }
   ],
   "source": [
    "\n",
    "from sklearn.model_selection import train_test_split\n",
    "\n",
    "# Split data into train and test sets\n",
    "Xtrain, Xtest, ytrain, ytest = train_test_split(X, y, random_state=42)\n",
    "\n",
    "Xtrain.shape, Xtest.shape\n"
   ]
  },
  {
   "cell_type": "markdown",
   "id": "036dd434",
   "metadata": {},
   "source": [
    "### Model Building and Hyperparameter Tuning"
   ]
  },
  {
   "cell_type": "code",
   "execution_count": 4,
   "id": "ebeaaab8",
   "metadata": {},
   "outputs": [
    {
     "name": "stdout",
     "output_type": "stream",
     "text": [
      "Fitting 5 folds for each of 2 candidates, totalling 10 fits\n"
     ]
    },
    {
     "data": {
      "text/html": [
       "<style>#sk-container-id-1 {color: black;background-color: white;}#sk-container-id-1 pre{padding: 0;}#sk-container-id-1 div.sk-toggleable {background-color: white;}#sk-container-id-1 label.sk-toggleable__label {cursor: pointer;display: block;width: 100%;margin-bottom: 0;padding: 0.3em;box-sizing: border-box;text-align: center;}#sk-container-id-1 label.sk-toggleable__label-arrow:before {content: \"▸\";float: left;margin-right: 0.25em;color: #696969;}#sk-container-id-1 label.sk-toggleable__label-arrow:hover:before {color: black;}#sk-container-id-1 div.sk-estimator:hover label.sk-toggleable__label-arrow:before {color: black;}#sk-container-id-1 div.sk-toggleable__content {max-height: 0;max-width: 0;overflow: hidden;text-align: left;background-color: #f0f8ff;}#sk-container-id-1 div.sk-toggleable__content pre {margin: 0.2em;color: black;border-radius: 0.25em;background-color: #f0f8ff;}#sk-container-id-1 input.sk-toggleable__control:checked~div.sk-toggleable__content {max-height: 200px;max-width: 100%;overflow: auto;}#sk-container-id-1 input.sk-toggleable__control:checked~label.sk-toggleable__label-arrow:before {content: \"▾\";}#sk-container-id-1 div.sk-estimator input.sk-toggleable__control:checked~label.sk-toggleable__label {background-color: #d4ebff;}#sk-container-id-1 div.sk-label input.sk-toggleable__control:checked~label.sk-toggleable__label {background-color: #d4ebff;}#sk-container-id-1 input.sk-hidden--visually {border: 0;clip: rect(1px 1px 1px 1px);clip: rect(1px, 1px, 1px, 1px);height: 1px;margin: -1px;overflow: hidden;padding: 0;position: absolute;width: 1px;}#sk-container-id-1 div.sk-estimator {font-family: monospace;background-color: #f0f8ff;border: 1px dotted black;border-radius: 0.25em;box-sizing: border-box;margin-bottom: 0.5em;}#sk-container-id-1 div.sk-estimator:hover {background-color: #d4ebff;}#sk-container-id-1 div.sk-parallel-item::after {content: \"\";width: 100%;border-bottom: 1px solid gray;flex-grow: 1;}#sk-container-id-1 div.sk-label:hover label.sk-toggleable__label {background-color: #d4ebff;}#sk-container-id-1 div.sk-serial::before {content: \"\";position: absolute;border-left: 1px solid gray;box-sizing: border-box;top: 0;bottom: 0;left: 50%;z-index: 0;}#sk-container-id-1 div.sk-serial {display: flex;flex-direction: column;align-items: center;background-color: white;padding-right: 0.2em;padding-left: 0.2em;position: relative;}#sk-container-id-1 div.sk-item {position: relative;z-index: 1;}#sk-container-id-1 div.sk-parallel {display: flex;align-items: stretch;justify-content: center;background-color: white;position: relative;}#sk-container-id-1 div.sk-item::before, #sk-container-id-1 div.sk-parallel-item::before {content: \"\";position: absolute;border-left: 1px solid gray;box-sizing: border-box;top: 0;bottom: 0;left: 50%;z-index: -1;}#sk-container-id-1 div.sk-parallel-item {display: flex;flex-direction: column;z-index: 1;position: relative;background-color: white;}#sk-container-id-1 div.sk-parallel-item:first-child::after {align-self: flex-end;width: 50%;}#sk-container-id-1 div.sk-parallel-item:last-child::after {align-self: flex-start;width: 50%;}#sk-container-id-1 div.sk-parallel-item:only-child::after {width: 0;}#sk-container-id-1 div.sk-dashed-wrapped {border: 1px dashed gray;margin: 0 0.4em 0.5em 0.4em;box-sizing: border-box;padding-bottom: 0.4em;background-color: white;}#sk-container-id-1 div.sk-label label {font-family: monospace;font-weight: bold;display: inline-block;line-height: 1.2em;}#sk-container-id-1 div.sk-label-container {text-align: center;}#sk-container-id-1 div.sk-container {/* jupyter's `normalize.less` sets `[hidden] { display: none; }` but bootstrap.min.css set `[hidden] { display: none !important; }` so we also need the `!important` here to be able to override the default hidden behavior on the sphinx rendered scikit-learn.org. See: https://github.com/scikit-learn/scikit-learn/issues/21755 */display: inline-block !important;position: relative;}#sk-container-id-1 div.sk-text-repr-fallback {display: none;}</style><div id=\"sk-container-id-1\" class=\"sk-top-container\"><div class=\"sk-text-repr-fallback\"><pre>GridSearchCV(cv=5, estimator=SVC(kernel=&#x27;linear&#x27;), n_jobs=-1,\n",
       "             param_grid={&#x27;C&#x27;: [0.1, 1]}, verbose=True)</pre><b>In a Jupyter environment, please rerun this cell to show the HTML representation or trust the notebook. <br />On GitHub, the HTML representation is unable to render, please try loading this page with nbviewer.org.</b></div><div class=\"sk-container\" hidden><div class=\"sk-item sk-dashed-wrapped\"><div class=\"sk-label-container\"><div class=\"sk-label sk-toggleable\"><input class=\"sk-toggleable__control sk-hidden--visually\" id=\"sk-estimator-id-1\" type=\"checkbox\" ><label for=\"sk-estimator-id-1\" class=\"sk-toggleable__label sk-toggleable__label-arrow\">GridSearchCV</label><div class=\"sk-toggleable__content\"><pre>GridSearchCV(cv=5, estimator=SVC(kernel=&#x27;linear&#x27;), n_jobs=-1,\n",
       "             param_grid={&#x27;C&#x27;: [0.1, 1]}, verbose=True)</pre></div></div></div><div class=\"sk-parallel\"><div class=\"sk-parallel-item\"><div class=\"sk-item\"><div class=\"sk-label-container\"><div class=\"sk-label sk-toggleable\"><input class=\"sk-toggleable__control sk-hidden--visually\" id=\"sk-estimator-id-2\" type=\"checkbox\" ><label for=\"sk-estimator-id-2\" class=\"sk-toggleable__label sk-toggleable__label-arrow\">estimator: SVC</label><div class=\"sk-toggleable__content\"><pre>SVC(kernel=&#x27;linear&#x27;)</pre></div></div></div><div class=\"sk-serial\"><div class=\"sk-item\"><div class=\"sk-estimator sk-toggleable\"><input class=\"sk-toggleable__control sk-hidden--visually\" id=\"sk-estimator-id-3\" type=\"checkbox\" ><label for=\"sk-estimator-id-3\" class=\"sk-toggleable__label sk-toggleable__label-arrow\">SVC</label><div class=\"sk-toggleable__content\"><pre>SVC(kernel=&#x27;linear&#x27;)</pre></div></div></div></div></div></div></div></div></div></div>"
      ],
      "text/plain": [
       "GridSearchCV(cv=5, estimator=SVC(kernel='linear'), n_jobs=-1,\n",
       "             param_grid={'C': [0.1, 1]}, verbose=True)"
      ]
     },
     "execution_count": 4,
     "metadata": {},
     "output_type": "execute_result"
    }
   ],
   "source": [
    "\n",
    "from sklearn.model_selection import GridSearchCV\n",
    "from sklearn.svm import SVC\n",
    "\n",
    "# Define the SVC classifier\n",
    "svc = SVC(kernel='linear')\n",
    "\n",
    "# Define the parameter grid for the GridSearchCV\n",
    "param_grid = {\n",
    "    'C': [0.1, 1],\n",
    "}\n",
    "\n",
    "# Define the GridSearchCV for hyperparameter tuning\n",
    "grid_search = GridSearchCV(\n",
    "    estimator=svc,\n",
    "    param_grid=param_grid,\n",
    "    cv=5,        # Number of cross-validation folds\n",
    "    n_jobs=-1,   # Use all available CPU cores for parallel processing\n",
    "    verbose=True\n",
    ")\n",
    "\n",
    "# Fit the GridSearchCV to the training data\n",
    "grid_search.fit(Xtrain, ytrain)\n"
   ]
  },
  {
   "cell_type": "markdown",
   "id": "a3ecabcc",
   "metadata": {},
   "source": [
    "### Model Evaluation"
   ]
  },
  {
   "cell_type": "code",
   "execution_count": 5,
   "id": "ee2032ca",
   "metadata": {},
   "outputs": [
    {
     "data": {
      "text/plain": [
       "0.9210191082802548"
      ]
     },
     "execution_count": 5,
     "metadata": {},
     "output_type": "execute_result"
    }
   ],
   "source": [
    "\n",
    "from sklearn.metrics import accuracy_score\n",
    "\n",
    "# Get the best SVC classifier\n",
    "best_svc = grid_search.best_estimator_\n",
    "\n",
    "# Predict the test set results\n",
    "svc_pred = best_svc.predict(Xtest)\n",
    "\n",
    "# Compute the accuracy of the SVC classifier\n",
    "svc_accuracy = accuracy_score(ytest, svc_pred)\n",
    "\n",
    "svc_accuracy\n"
   ]
  },
  {
   "cell_type": "markdown",
   "id": "6d378dcd",
   "metadata": {},
   "source": [
    "### Feature Importance Plot"
   ]
  },
  {
   "cell_type": "code",
   "execution_count": 6,
   "id": "986246ba",
   "metadata": {},
   "outputs": [
    {
     "data": {
      "image/png": "[encoded data removed]",
      "text/plain": [
       "<Figure size 1200x800 with 1 Axes>"
      ]
     },
     "metadata": {},
     "output_type": "display_data"
    }
   ],
   "source": [
    "\n",
    "import matplotlib.pyplot as plt\n",
    "import numpy as np\n",
    "\n",
    "# Get feature importances (use absolute values of coefficients as proxy)\n",
    "importances = abs(best_svc.coef_[0])\n",
    "\n",
    "# Get top 10 features\n",
    "indices = np.argsort(importances)[-10:]\n",
    "\n",
    "plt.figure(figsize=(12, 8))\n",
    "plt.title('Feature Importances')\n",
    "plt.barh(range(len(indices)), importances[indices], color='b', align='center')\n",
    "plt.yticks(range(len(indices)), [X.columns[i] for i in indices])\n",
    "plt.xlabel('Relative Importance')\n",
    "plt.show()\n"
   ]
  },
  {
   "cell_type": "markdown",
   "id": "547d4a3d",
   "metadata": {},
   "source": [
    "### Confusion Matrix and Plot"
   ]
  },
  {
   "cell_type": "code",
   "execution_count": 9,
   "id": "76140508",
   "metadata": {},
   "outputs": [
    {
     "data": {
      "text/plain": [
       "Text(50.722222222222214, 0.5, 'True')"
      ]
     },
     "execution_count": 9,
     "metadata": {},
     "output_type": "execute_result"
    },
    {
     "data": {
      "image/png": "[encoded data removed]",
      "text/plain": [
       "<Figure size 640x480 with 2 Axes>"
      ]
     },
     "metadata": {},
     "output_type": "display_data"
    }
   ],
   "source": [
    "# Import the required libraries\n",
    "import seaborn as sns\n",
    "import matplotlib.pyplot as plt\n",
    "\n",
    "# Use the sklearn function confusion_matrix to compute the confusion matrix\n",
    "svc_cm = confusion_matrix(ytest, svc_pred)\n",
    "\n",
    "# Using seaborn to create a heatmap. The heatmap will visually represent the confusion matrix\n",
    "# Each cell in the heatmap corresponds to a cell in the confusion matrix.\n",
    "# The color of the cell is proportional to the number of instances.\n",
    "sns.heatmap(svc_cm, annot=True, fmt='d')\n",
    "\n",
    "# Label the x-axis as 'Predicted'\n",
    "plt.xlabel('Predicted')\n",
    "\n",
    "# Label the y-axis as 'True'\n",
    "plt.ylabel('True')\n"
   ]
  }
 ],
 "metadata": {
  "kernelspec": {
   "display_name": "Python 3 (ipykernel)",
   "language": "python",
   "name": "python3"
  },
  "language_info": {
   "codemirror_mode": {
    "name": "ipython",
    "version": 3
   },
   "file_extension": ".py",
   "mimetype": "text/x-python",
   "name": "python",
   "nbconvert_exporter": "python",
   "pygments_lexer": "ipython3",
   "version": "3.10.9"
  }
 },
 "nbformat": 4,
 "nbformat_minor": 5
}
